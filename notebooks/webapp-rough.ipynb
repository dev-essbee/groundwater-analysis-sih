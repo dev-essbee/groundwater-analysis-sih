{
 "cells": [
  {
   "cell_type": "code",
   "execution_count": null,
   "metadata": {},
   "outputs": [],
   "source": [
    "import geopandas as gpd\n",
    "import pandas as pd\n",
    "import shapely.geometry\n",
    "from shapely.geometry import Polygon\n",
    "import json\n",
    "import pickle\n",
    "import plotly.graph_objects as go"
   ]
  },
  {
   "cell_type": "code",
   "execution_count": null,
   "metadata": {},
   "outputs": [],
   "source": [
    "with open(r\"../data/groundwater-district-monthly.pickle\", \"rb\") as f:\n",
    "    df = pickle.load(f)"
   ]
  },
  {
   "cell_type": "code",
   "execution_count": null,
   "metadata": {},
   "outputs": [],
   "source": [
    "with open(r\"../data/geojson/gadm36_IND_2_id.json\", \"r\") as f:\n",
    "    districts = json.load(f)"
   ]
  },
  {
   "cell_type": "code",
   "execution_count": null,
   "metadata": {},
   "outputs": [],
   "source": [
    "fig_map = go.Figure(\n",
    "    go.Choroplethmapbox(\n",
    "        geojson=districts,\n",
    "        locations=df.index.astype(str),\n",
    "        z=df[\"2020-06\"].astype(float),\n",
    "        colorscale=\"Viridis\",\n",
    "        zmin=0,\n",
    "        zmax=12,\n",
    "        marker_opacity=0.5,\n",
    "        marker_line_width=0,\n",
    "    )\n",
    ")\n",
    "fig_map.update_layout(\n",
    "    mapbox_style=\"carto-positron\",\n",
    "    mapbox_zoom=3,\n",
    "    mapbox_center={\"lat\": 26.9124, \"lon\": 75.7873},\n",
    ")\n",
    "fig_map.update_layout(margin={\"r\": 0, \"t\": 0, \"l\": 0, \"b\": 0})\n",
    "fig_map.show()"
   ]
  },
  {
   "cell_type": "code",
   "execution_count": null,
   "metadata": {},
   "outputs": [],
   "source": [
    "with open(r\"../data/groundwater-state-monthly.pickle\", \"rb\") as f:\n",
    "    df = pickle.load(f)"
   ]
  },
  {
   "cell_type": "code",
   "execution_count": null,
   "metadata": {},
   "outputs": [],
   "source": [
    "with open(r\"../data/geojson/gadm36_IND_1_id.json\", \"r\") as f:\n",
    "    states = json.load(f)"
   ]
  },
  {
   "cell_type": "code",
   "execution_count": null,
   "metadata": {},
   "outputs": [],
   "source": [
    "fig_map = go.Figure(\n",
    "    go.Choroplethmapbox(\n",
    "        geojson=states,\n",
    "        locations=df.index.astype(str),\n",
    "        z=df[\"2019-06\"].astype(float),\n",
    "        colorscale=\"Viridis\",\n",
    "        zmin=0,\n",
    "        zmax=12,\n",
    "        marker_opacity=0.5,\n",
    "        marker_line_width=0,\n",
    "    )\n",
    ")\n",
    "fig_map.update_layout(\n",
    "    mapbox_style=\"carto-positron\",\n",
    "    mapbox_zoom=3,\n",
    "    mapbox_center={\"lat\": 26.9124, \"lon\": 75.7873},\n",
    ")\n",
    "fig_map.update_layout(margin={\"r\": 0, \"t\": 0, \"l\": 0, \"b\": 0})\n",
    "fig_map.show()"
   ]
  },
  {
   "cell_type": "code",
   "execution_count": null,
   "metadata": {},
   "outputs": [],
   "source": []
  }
 ],
 "metadata": {
  "kernelspec": {
   "display_name": "Python [conda env:sih]",
   "language": "python",
   "name": "conda-env-sih-py"
  },
  "language_info": {
   "codemirror_mode": {
    "name": "ipython",
    "version": 3
   },
   "file_extension": ".py",
   "mimetype": "text/x-python",
   "name": "python",
   "nbconvert_exporter": "python",
   "pygments_lexer": "ipython3",
   "version": "3.8.4"
  },
  "widgets": {
   "application/vnd.jupyter.widget-state+json": {
    "state": {},
    "version_major": 2,
    "version_minor": 0
   }
  }
 },
 "nbformat": 4,
 "nbformat_minor": 4
}
