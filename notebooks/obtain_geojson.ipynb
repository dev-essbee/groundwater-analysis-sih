{
 "cells": [
  {
   "cell_type": "code",
   "execution_count": 1,
   "metadata": {
    "execution": {
     "iopub.execute_input": "2020-07-30T15:50:52.030849Z",
     "iopub.status.busy": "2020-07-30T15:50:52.030332Z",
     "iopub.status.idle": "2020-07-30T15:50:52.069608Z",
     "shell.execute_reply": "2020-07-30T15:50:52.066451Z",
     "shell.execute_reply.started": "2020-07-30T15:50:52.030787Z"
    }
   },
   "outputs": [
    {
     "name": "stdout",
     "output_type": "stream",
     "text": [
      "INFO: Pandarallel will run on 4 workers.\n",
      "INFO: Pandarallel will use Memory file system to transfer data between the main process and workers.\n"
     ]
    }
   ],
   "source": [
    "import pandas as pd\n",
    "import glob\n",
    "import numpy as np\n",
    "import re\n",
    "from tqdm.auto import tqdm\n",
    "import pickle\n",
    "from pandarallel import pandarallel\n",
    "import re\n",
    "import plotly.graph_objects as go\n",
    "\n",
    "pandarallel.initialize()"
   ]
  },
  {
   "cell_type": "code",
   "execution_count": 11,
   "metadata": {
    "execution": {
     "iopub.execute_input": "2020-07-30T15:58:21.076578Z",
     "iopub.status.busy": "2020-07-30T15:58:21.075300Z",
     "iopub.status.idle": "2020-07-30T15:58:21.119615Z",
     "shell.execute_reply": "2020-07-30T15:58:21.118515Z",
     "shell.execute_reply.started": "2020-07-30T15:58:21.076413Z"
    }
   },
   "outputs": [],
   "source": [
    "df = pd.read_parquet(\"../data/categories.parquet.gzip\")"
   ]
  },
  {
   "cell_type": "code",
   "execution_count": 12,
   "metadata": {
    "execution": {
     "iopub.execute_input": "2020-07-30T15:58:22.949273Z",
     "iopub.status.busy": "2020-07-30T15:58:22.944847Z",
     "iopub.status.idle": "2020-07-30T15:58:23.019829Z",
     "shell.execute_reply": "2020-07-30T15:58:23.018438Z",
     "shell.execute_reply.started": "2020-07-30T15:58:22.949084Z"
    }
   },
   "outputs": [
    {
     "data": {
      "text/html": [
       "<div>\n",
       "<style scoped>\n",
       "    .dataframe tbody tr th:only-of-type {\n",
       "        vertical-align: middle;\n",
       "    }\n",
       "\n",
       "    .dataframe tbody tr th {\n",
       "        vertical-align: top;\n",
       "    }\n",
       "\n",
       "    .dataframe thead th {\n",
       "        text-align: right;\n",
       "    }\n",
       "</style>\n",
       "<table border=\"1\" class=\"dataframe\">\n",
       "  <thead>\n",
       "    <tr style=\"text-align: right;\">\n",
       "      <th></th>\n",
       "      <th>state</th>\n",
       "      <th>district</th>\n",
       "      <th>block</th>\n",
       "      <th>category</th>\n",
       "    </tr>\n",
       "  </thead>\n",
       "  <tbody>\n",
       "    <tr>\n",
       "      <th>0</th>\n",
       "      <td>andaman &amp; nicobar is</td>\n",
       "      <td>n &amp; m andaman</td>\n",
       "      <td>porlob island</td>\n",
       "      <td>safe</td>\n",
       "    </tr>\n",
       "    <tr>\n",
       "      <th>1</th>\n",
       "      <td>andaman &amp; nicobar is</td>\n",
       "      <td>n &amp; m andaman</td>\n",
       "      <td>north passage island</td>\n",
       "      <td>safe</td>\n",
       "    </tr>\n",
       "    <tr>\n",
       "      <th>2</th>\n",
       "      <td>andaman &amp; nicobar is</td>\n",
       "      <td>n &amp; m andaman</td>\n",
       "      <td>interview island</td>\n",
       "      <td>safe</td>\n",
       "    </tr>\n",
       "    <tr>\n",
       "      <th>3</th>\n",
       "      <td>andaman &amp; nicobar is</td>\n",
       "      <td>n &amp; m andaman</td>\n",
       "      <td>stewart island</td>\n",
       "      <td>safe</td>\n",
       "    </tr>\n",
       "    <tr>\n",
       "      <th>4</th>\n",
       "      <td>andaman &amp; nicobar is</td>\n",
       "      <td>n &amp; m andaman</td>\n",
       "      <td>narcondam island</td>\n",
       "      <td>safe</td>\n",
       "    </tr>\n",
       "    <tr>\n",
       "      <th>...</th>\n",
       "      <td>...</td>\n",
       "      <td>...</td>\n",
       "      <td>...</td>\n",
       "      <td>...</td>\n",
       "    </tr>\n",
       "    <tr>\n",
       "      <th>6757</th>\n",
       "      <td>west bengal</td>\n",
       "      <td>uttar dinajpur</td>\n",
       "      <td>karandighi</td>\n",
       "      <td>safe</td>\n",
       "    </tr>\n",
       "    <tr>\n",
       "      <th>6758</th>\n",
       "      <td>west bengal</td>\n",
       "      <td>uttar dinajpur</td>\n",
       "      <td>kaliaganj</td>\n",
       "      <td>safe</td>\n",
       "    </tr>\n",
       "    <tr>\n",
       "      <th>6759</th>\n",
       "      <td>west bengal</td>\n",
       "      <td>uttar dinajpur</td>\n",
       "      <td>goalpokhar -ii</td>\n",
       "      <td>safe</td>\n",
       "    </tr>\n",
       "    <tr>\n",
       "      <th>6760</th>\n",
       "      <td>west bengal</td>\n",
       "      <td>uttar dinajpur</td>\n",
       "      <td>raiganj</td>\n",
       "      <td>safe</td>\n",
       "    </tr>\n",
       "    <tr>\n",
       "      <th>6761</th>\n",
       "      <td>west bengal</td>\n",
       "      <td>uttar dinajpur</td>\n",
       "      <td>itahar</td>\n",
       "      <td>safe</td>\n",
       "    </tr>\n",
       "  </tbody>\n",
       "</table>\n",
       "<p>6762 rows × 4 columns</p>\n",
       "</div>"
      ],
      "text/plain": [
       "                     state        district                 block category\n",
       "0     andaman & nicobar is   n & m andaman         porlob island     safe\n",
       "1     andaman & nicobar is   n & m andaman  north passage island     safe\n",
       "2     andaman & nicobar is   n & m andaman      interview island     safe\n",
       "3     andaman & nicobar is   n & m andaman        stewart island     safe\n",
       "4     andaman & nicobar is   n & m andaman      narcondam island     safe\n",
       "...                    ...             ...                   ...      ...\n",
       "6757           west bengal  uttar dinajpur            karandighi     safe\n",
       "6758           west bengal  uttar dinajpur             kaliaganj     safe\n",
       "6759           west bengal  uttar dinajpur        goalpokhar -ii     safe\n",
       "6760           west bengal  uttar dinajpur               raiganj     safe\n",
       "6761           west bengal  uttar dinajpur                itahar     safe\n",
       "\n",
       "[6762 rows x 4 columns]"
      ]
     },
     "execution_count": 12,
     "metadata": {},
     "output_type": "execute_result"
    }
   ],
   "source": [
    "df"
   ]
  },
  {
   "cell_type": "code",
   "execution_count": 13,
   "metadata": {
    "execution": {
     "iopub.execute_input": "2020-07-30T15:59:26.470721Z",
     "iopub.status.busy": "2020-07-30T15:59:26.457491Z",
     "iopub.status.idle": "2020-07-30T15:59:26.528663Z",
     "shell.execute_reply": "2020-07-30T15:59:26.528040Z",
     "shell.execute_reply.started": "2020-07-30T15:59:26.470519Z"
    }
   },
   "outputs": [],
   "source": [
    "df_pre = pd.read_parquet(\"../data/comp/gw-block-pre-post.parquet.gzip\")"
   ]
  },
  {
   "cell_type": "code",
   "execution_count": 33,
   "metadata": {
    "execution": {
     "iopub.execute_input": "2020-07-30T16:42:10.269324Z",
     "iopub.status.busy": "2020-07-30T16:42:10.268254Z",
     "iopub.status.idle": "2020-07-30T16:42:10.292973Z",
     "shell.execute_reply": "2020-07-30T16:42:10.287848Z",
     "shell.execute_reply.started": "2020-07-30T16:42:10.269186Z"
    }
   },
   "outputs": [
    {
     "data": {
      "text/plain": [
       "(5369, 86)"
      ]
     },
     "execution_count": 33,
     "metadata": {},
     "output_type": "execute_result"
    }
   ],
   "source": [
    "df_pre.shape"
   ]
  },
  {
   "cell_type": "code",
   "execution_count": 26,
   "metadata": {
    "execution": {
     "iopub.execute_input": "2020-07-30T16:07:38.161400Z",
     "iopub.status.busy": "2020-07-30T16:07:38.161078Z",
     "iopub.status.idle": "2020-07-30T16:07:38.170896Z",
     "shell.execute_reply": "2020-07-30T16:07:38.169640Z",
     "shell.execute_reply.started": "2020-07-30T16:07:38.161363Z"
    }
   },
   "outputs": [],
   "source": [
    "def changed_name(type_v):\n",
    "    v = list(set(df.loc[:, type_v].values))\n",
    "    not_found=[]\n",
    "    for i in list(set(df_pre.loc[:, type_v].values)):\n",
    "        found = False\n",
    "        if i in v:\n",
    "            found = True\n",
    "        if not found:\n",
    "            not_found.append(i)\n",
    "    return not_found"
   ]
  },
  {
   "cell_type": "code",
   "execution_count": 27,
   "metadata": {
    "execution": {
     "iopub.execute_input": "2020-07-30T16:07:38.982982Z",
     "iopub.status.busy": "2020-07-30T16:07:38.982470Z",
     "iopub.status.idle": "2020-07-30T16:07:39.641424Z",
     "shell.execute_reply": "2020-07-30T16:07:39.640898Z",
     "shell.execute_reply.started": "2020-07-30T16:07:38.982929Z"
    }
   },
   "outputs": [],
   "source": [
    "state=changed_name('state')\n",
    "district=changed_name('district')\n",
    "block=changed_name('block')"
   ]
  },
  {
   "cell_type": "code",
   "execution_count": 28,
   "metadata": {
    "execution": {
     "iopub.execute_input": "2020-07-30T16:07:42.491178Z",
     "iopub.status.busy": "2020-07-30T16:07:42.490142Z",
     "iopub.status.idle": "2020-07-30T16:07:42.501554Z",
     "shell.execute_reply": "2020-07-30T16:07:42.500883Z",
     "shell.execute_reply.started": "2020-07-30T16:07:42.491088Z"
    }
   },
   "outputs": [
    {
     "data": {
      "text/plain": [
       "['jammu & kashmir',\n",
       " 'dadra and nagar hav',\n",
       " 'tamilnadu',\n",
       " 'jharkhand',\n",
       " 'andaman & nicobar',\n",
       " 'daman & diu']"
      ]
     },
     "execution_count": 28,
     "metadata": {},
     "output_type": "execute_result"
    }
   ],
   "source": [
    "state"
   ]
  },
  {
   "cell_type": "code",
   "execution_count": 32,
   "metadata": {
    "execution": {
     "iopub.execute_input": "2020-07-30T16:08:24.085239Z",
     "iopub.status.busy": "2020-07-30T16:08:24.084907Z",
     "iopub.status.idle": "2020-07-30T16:08:24.091372Z",
     "shell.execute_reply": "2020-07-30T16:08:24.090163Z",
     "shell.execute_reply.started": "2020-07-30T16:08:24.085200Z"
    }
   },
   "outputs": [
    {
     "data": {
      "text/plain": [
       "108"
      ]
     },
     "execution_count": 32,
     "metadata": {},
     "output_type": "execute_result"
    }
   ],
   "source": [
    "len(district)"
   ]
  },
  {
   "cell_type": "code",
   "execution_count": 31,
   "metadata": {
    "execution": {
     "iopub.execute_input": "2020-07-30T16:08:14.561909Z",
     "iopub.status.busy": "2020-07-30T16:08:14.561308Z",
     "iopub.status.idle": "2020-07-30T16:08:14.572889Z",
     "shell.execute_reply": "2020-07-30T16:08:14.569901Z",
     "shell.execute_reply.started": "2020-07-30T16:08:14.561836Z"
    }
   },
   "outputs": [
    {
     "data": {
      "text/plain": [
       "1802"
      ]
     },
     "execution_count": 31,
     "metadata": {},
     "output_type": "execute_result"
    }
   ],
   "source": [
    "len(block)"
   ]
  },
  {
   "cell_type": "code",
   "execution_count": null,
   "metadata": {},
   "outputs": [],
   "source": [
    "'https://nominatim.openstreetmap.org/search.php?street=&city=&county=uttar+dinajpur&state=west+bengal&country=india&postalcode=&format=geojson'"
   ]
  }
 ],
 "metadata": {
  "kernelspec": {
   "display_name": "Python [conda env:sih]",
   "language": "python",
   "name": "conda-env-sih-py"
  },
  "language_info": {
   "codemirror_mode": {
    "name": "ipython",
    "version": 3
   },
   "file_extension": ".py",
   "mimetype": "text/x-python",
   "name": "python",
   "nbconvert_exporter": "python",
   "pygments_lexer": "ipython3",
   "version": "3.8.3"
  },
  "widgets": {
   "application/vnd.jupyter.widget-state+json": {
    "state": {},
    "version_major": 2,
    "version_minor": 0
   }
  }
 },
 "nbformat": 4,
 "nbformat_minor": 4
}
