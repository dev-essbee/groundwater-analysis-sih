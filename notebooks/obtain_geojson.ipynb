{
 "cells": [
  {
   "cell_type": "code",
   "execution_count": 1,
   "metadata": {
    "execution": {
     "iopub.execute_input": "2020-07-31T02:42:54.914641Z",
     "iopub.status.busy": "2020-07-31T02:42:54.914328Z",
     "iopub.status.idle": "2020-07-31T02:42:55.298014Z",
     "shell.execute_reply": "2020-07-31T02:42:55.297277Z",
     "shell.execute_reply.started": "2020-07-31T02:42:54.914606Z"
    }
   },
   "outputs": [
    {
     "name": "stdout",
     "output_type": "stream",
     "text": [
      "INFO: Pandarallel will run on 4 workers.\n",
      "INFO: Pandarallel will use Memory file system to transfer data between the main process and workers.\n"
     ]
    }
   ],
   "source": [
    "import pandas as pd\n",
    "import glob\n",
    "import numpy as np\n",
    "import re\n",
    "from tqdm.auto import tqdm\n",
    "import pickle\n",
    "from pandarallel import pandarallel\n",
    "import re\n",
    "import plotly.graph_objects as go\n",
    "import time\n",
    "import requests\n",
    "\n",
    "pandarallel.initialize()"
   ]
  },
  {
   "cell_type": "code",
   "execution_count": null,
   "metadata": {
    "execution": {
     "iopub.execute_input": "2020-07-31T02:42:55.301792Z",
     "iopub.status.busy": "2020-07-31T02:42:55.301491Z"
    }
   },
   "outputs": [],
   "source": [
    "df = pd.read_parquet(\"../data/comp/categories.parquet.gzip\")"
   ]
  },
  {
   "cell_type": "code",
   "execution_count": 3,
   "metadata": {
    "execution": {
     "iopub.execute_input": "2020-07-31T02:42:55.997629Z",
     "iopub.status.busy": "2020-07-31T02:42:55.996022Z",
     "iopub.status.idle": "2020-07-31T02:42:56.052856Z",
     "shell.execute_reply": "2020-07-31T02:42:56.047233Z",
     "shell.execute_reply.started": "2020-07-31T02:42:55.997474Z"
    }
   },
   "outputs": [
    {
     "data": {
      "text/html": [
       "<div>\n",
       "<style scoped>\n",
       "    .dataframe tbody tr th:only-of-type {\n",
       "        vertical-align: middle;\n",
       "    }\n",
       "\n",
       "    .dataframe tbody tr th {\n",
       "        vertical-align: top;\n",
       "    }\n",
       "\n",
       "    .dataframe thead th {\n",
       "        text-align: right;\n",
       "    }\n",
       "</style>\n",
       "<table border=\"1\" class=\"dataframe\">\n",
       "  <thead>\n",
       "    <tr style=\"text-align: right;\">\n",
       "      <th></th>\n",
       "      <th>state</th>\n",
       "      <th>district</th>\n",
       "      <th>block</th>\n",
       "      <th>category</th>\n",
       "    </tr>\n",
       "  </thead>\n",
       "  <tbody>\n",
       "    <tr>\n",
       "      <th>0</th>\n",
       "      <td>andaman &amp; nicobar</td>\n",
       "      <td>n &amp; m andaman</td>\n",
       "      <td>porlob island</td>\n",
       "      <td>safe</td>\n",
       "    </tr>\n",
       "    <tr>\n",
       "      <th>1</th>\n",
       "      <td>andaman &amp; nicobar</td>\n",
       "      <td>n &amp; m andaman</td>\n",
       "      <td>north passage island</td>\n",
       "      <td>safe</td>\n",
       "    </tr>\n",
       "    <tr>\n",
       "      <th>2</th>\n",
       "      <td>andaman &amp; nicobar</td>\n",
       "      <td>n &amp; m andaman</td>\n",
       "      <td>interview island</td>\n",
       "      <td>safe</td>\n",
       "    </tr>\n",
       "    <tr>\n",
       "      <th>3</th>\n",
       "      <td>andaman &amp; nicobar</td>\n",
       "      <td>n &amp; m andaman</td>\n",
       "      <td>stewart island</td>\n",
       "      <td>safe</td>\n",
       "    </tr>\n",
       "    <tr>\n",
       "      <th>4</th>\n",
       "      <td>andaman &amp; nicobar</td>\n",
       "      <td>n &amp; m andaman</td>\n",
       "      <td>narcondam island</td>\n",
       "      <td>safe</td>\n",
       "    </tr>\n",
       "    <tr>\n",
       "      <th>...</th>\n",
       "      <td>...</td>\n",
       "      <td>...</td>\n",
       "      <td>...</td>\n",
       "      <td>...</td>\n",
       "    </tr>\n",
       "    <tr>\n",
       "      <th>6757</th>\n",
       "      <td>west bengal</td>\n",
       "      <td>uttar dinajpur</td>\n",
       "      <td>karandighi</td>\n",
       "      <td>safe</td>\n",
       "    </tr>\n",
       "    <tr>\n",
       "      <th>6758</th>\n",
       "      <td>west bengal</td>\n",
       "      <td>uttar dinajpur</td>\n",
       "      <td>kaliaganj</td>\n",
       "      <td>safe</td>\n",
       "    </tr>\n",
       "    <tr>\n",
       "      <th>6759</th>\n",
       "      <td>west bengal</td>\n",
       "      <td>uttar dinajpur</td>\n",
       "      <td>goalpokhar -ii</td>\n",
       "      <td>safe</td>\n",
       "    </tr>\n",
       "    <tr>\n",
       "      <th>6760</th>\n",
       "      <td>west bengal</td>\n",
       "      <td>uttar dinajpur</td>\n",
       "      <td>raiganj</td>\n",
       "      <td>safe</td>\n",
       "    </tr>\n",
       "    <tr>\n",
       "      <th>6761</th>\n",
       "      <td>west bengal</td>\n",
       "      <td>uttar dinajpur</td>\n",
       "      <td>itahar</td>\n",
       "      <td>safe</td>\n",
       "    </tr>\n",
       "  </tbody>\n",
       "</table>\n",
       "<p>6762 rows × 4 columns</p>\n",
       "</div>"
      ],
      "text/plain": [
       "                  state        district                 block category\n",
       "0     andaman & nicobar   n & m andaman         porlob island     safe\n",
       "1     andaman & nicobar   n & m andaman  north passage island     safe\n",
       "2     andaman & nicobar   n & m andaman      interview island     safe\n",
       "3     andaman & nicobar   n & m andaman        stewart island     safe\n",
       "4     andaman & nicobar   n & m andaman      narcondam island     safe\n",
       "...                 ...             ...                   ...      ...\n",
       "6757        west bengal  uttar dinajpur            karandighi     safe\n",
       "6758        west bengal  uttar dinajpur             kaliaganj     safe\n",
       "6759        west bengal  uttar dinajpur        goalpokhar -ii     safe\n",
       "6760        west bengal  uttar dinajpur               raiganj     safe\n",
       "6761        west bengal  uttar dinajpur                itahar     safe\n",
       "\n",
       "[6762 rows x 4 columns]"
      ]
     },
     "execution_count": 3,
     "metadata": {},
     "output_type": "execute_result"
    }
   ],
   "source": [
    "df"
   ]
  },
  {
   "cell_type": "code",
   "execution_count": 4,
   "metadata": {
    "execution": {
     "iopub.execute_input": "2020-07-31T02:42:59.341287Z",
     "iopub.status.busy": "2020-07-31T02:42:59.340828Z",
     "iopub.status.idle": "2020-07-31T02:42:59.348481Z",
     "shell.execute_reply": "2020-07-31T02:42:59.346077Z",
     "shell.execute_reply.started": "2020-07-31T02:42:59.341236Z"
    }
   },
   "outputs": [],
   "source": [
    "# Changed all state in category file to name found in gw file"
   ]
  },
  {
   "cell_type": "markdown",
   "metadata": {
    "collapsed": "true"
   },
   "source": [
    "### Check for same values"
   ]
  },
  {
   "cell_type": "code",
   "execution_count": 5,
   "metadata": {
    "execution": {
     "iopub.execute_input": "2020-07-31T00:25:21.416219Z",
     "iopub.status.busy": "2020-07-31T00:25:21.415970Z",
     "iopub.status.idle": "2020-07-31T00:25:21.656012Z",
     "shell.execute_reply": "2020-07-31T00:25:21.653021Z",
     "shell.execute_reply.started": "2020-07-31T00:25:21.416186Z"
    }
   },
   "outputs": [],
   "source": [
    "df_pre = pd.read_parquet(\"../data/comp/gw-block-pre-post.parquet.gzip\")"
   ]
  },
  {
   "cell_type": "code",
   "execution_count": 6,
   "metadata": {
    "execution": {
     "iopub.execute_input": "2020-07-31T00:25:22.198552Z",
     "iopub.status.busy": "2020-07-31T00:25:22.197832Z",
     "iopub.status.idle": "2020-07-31T00:25:22.209450Z",
     "shell.execute_reply": "2020-07-31T00:25:22.208266Z",
     "shell.execute_reply.started": "2020-07-31T00:25:22.198462Z"
    }
   },
   "outputs": [
    {
     "data": {
      "text/plain": [
       "(5369, 86)"
      ]
     },
     "execution_count": 6,
     "metadata": {},
     "output_type": "execute_result"
    }
   ],
   "source": [
    "df_pre.shape"
   ]
  },
  {
   "cell_type": "code",
   "execution_count": 7,
   "metadata": {
    "execution": {
     "iopub.execute_input": "2020-07-31T00:25:23.798589Z",
     "iopub.status.busy": "2020-07-31T00:25:23.797102Z",
     "iopub.status.idle": "2020-07-31T00:25:23.834376Z",
     "shell.execute_reply": "2020-07-31T00:25:23.830067Z",
     "shell.execute_reply.started": "2020-07-31T00:25:23.798406Z"
    }
   },
   "outputs": [],
   "source": [
    "def changed_name(type_v):\n",
    "    v = list(set(df.loc[:, type_v].values))\n",
    "    not_found = []\n",
    "    for i in list(set(df_pre.loc[:, type_v].values)):\n",
    "        found = False\n",
    "        if i in v:\n",
    "            found = True\n",
    "        if not found:\n",
    "            not_found.append(i)\n",
    "    return not_found"
   ]
  },
  {
   "cell_type": "code",
   "execution_count": 8,
   "metadata": {
    "execution": {
     "iopub.execute_input": "2020-07-31T00:25:24.421022Z",
     "iopub.status.busy": "2020-07-31T00:25:24.418786Z",
     "iopub.status.idle": "2020-07-31T00:25:25.181199Z",
     "shell.execute_reply": "2020-07-31T00:25:25.180366Z",
     "shell.execute_reply.started": "2020-07-31T00:25:24.420937Z"
    }
   },
   "outputs": [],
   "source": [
    "state = changed_name(\"state\")\n",
    "district = changed_name(\"district\")\n",
    "block = changed_name(\"block\")"
   ]
  },
  {
   "cell_type": "code",
   "execution_count": 9,
   "metadata": {
    "execution": {
     "iopub.execute_input": "2020-07-31T00:25:25.856887Z",
     "iopub.status.busy": "2020-07-31T00:25:25.856262Z",
     "iopub.status.idle": "2020-07-31T00:25:25.867199Z",
     "shell.execute_reply": "2020-07-31T00:25:25.865391Z",
     "shell.execute_reply.started": "2020-07-31T00:25:25.856795Z"
    }
   },
   "outputs": [
    {
     "data": {
      "text/plain": [
       "[]"
      ]
     },
     "execution_count": 9,
     "metadata": {},
     "output_type": "execute_result"
    }
   ],
   "source": [
    "state"
   ]
  },
  {
   "cell_type": "code",
   "execution_count": null,
   "metadata": {},
   "outputs": [],
   "source": [
    "df = df.replace(\n",
    "    {\n",
    "        \"andaman & nicobar is\": \"andaman & nicobar\",\n",
    "        \"jammu&kashmir\": \"jammu & kashmir\",\n",
    "        \"tamil nadu\": \"tamilnadu\",\n",
    "        \"jharkhund\": \"jharkhand\",\n",
    "        \"daman&diu\": \"daman & diu\",\n",
    "        \"dadra & nagar haveli\": \"dadra and nagar hav\",\n",
    "    }\n",
    ")"
   ]
  },
  {
   "cell_type": "code",
   "execution_count": 10,
   "metadata": {
    "execution": {
     "iopub.execute_input": "2020-07-31T00:25:28.941779Z",
     "iopub.status.busy": "2020-07-31T00:25:28.941434Z",
     "iopub.status.idle": "2020-07-31T00:25:28.947274Z",
     "shell.execute_reply": "2020-07-31T00:25:28.946329Z",
     "shell.execute_reply.started": "2020-07-31T00:25:28.941743Z"
    }
   },
   "outputs": [
    {
     "data": {
      "text/plain": [
       "109"
      ]
     },
     "execution_count": 10,
     "metadata": {},
     "output_type": "execute_result"
    }
   ],
   "source": [
    "len(district)"
   ]
  },
  {
   "cell_type": "code",
   "execution_count": 11,
   "metadata": {
    "execution": {
     "iopub.execute_input": "2020-07-31T00:25:30.555387Z",
     "iopub.status.busy": "2020-07-31T00:25:30.554488Z",
     "iopub.status.idle": "2020-07-31T00:25:30.575074Z",
     "shell.execute_reply": "2020-07-31T00:25:30.571182Z",
     "shell.execute_reply.started": "2020-07-31T00:25:30.555293Z"
    }
   },
   "outputs": [
    {
     "data": {
      "text/plain": [
       "1802"
      ]
     },
     "execution_count": 11,
     "metadata": {},
     "output_type": "execute_result"
    }
   ],
   "source": [
    "len(block)"
   ]
  },
  {
   "cell_type": "code",
   "execution_count": 12,
   "metadata": {
    "execution": {
     "iopub.execute_input": "2020-07-31T00:25:33.110319Z",
     "iopub.status.busy": "2020-07-31T00:25:33.109288Z",
     "iopub.status.idle": "2020-07-31T00:25:33.153571Z",
     "shell.execute_reply": "2020-07-31T00:25:33.151890Z",
     "shell.execute_reply.started": "2020-07-31T00:25:33.110203Z"
    }
   },
   "outputs": [],
   "source": [
    "df_categories = pd.read_csv(\"../data/blocks_not_found_categories.csv\")"
   ]
  },
  {
   "cell_type": "markdown",
   "metadata": {},
   "source": [
    "### Call api"
   ]
  },
  {
   "cell_type": "markdown",
   "metadata": {
    "collapsed": "true",
    "execution": {
     "iopub.execute_input": "2020-07-31T00:37:54.480195Z",
     "iopub.status.busy": "2020-07-31T00:37:54.478621Z",
     "iopub.status.idle": "2020-07-31T00:37:54.499541Z",
     "shell.execute_reply": "2020-07-31T00:37:54.497301Z",
     "shell.execute_reply.started": "2020-07-31T00:37:54.480023Z"
    }
   },
   "source": [
    "#### blocks"
   ]
  },
  {
   "cell_type": "code",
   "execution_count": 13,
   "metadata": {
    "execution": {
     "iopub.execute_input": "2020-07-31T00:26:37.748073Z",
     "iopub.status.busy": "2020-07-31T00:26:37.747846Z",
     "iopub.status.idle": "2020-07-31T00:37:49.909082Z",
     "shell.execute_reply": "2020-07-31T00:37:49.906669Z",
     "shell.execute_reply.started": "2020-07-31T00:26:37.748048Z"
    }
   },
   "outputs": [
    {
     "name": "stdout",
     "output_type": "stream",
     "text": [
      "CPU times: user 3 µs, sys: 1 µs, total: 4 µs\n",
      "Wall time: 5.25 µs\n"
     ]
    },
    {
     "data": {
      "application/vnd.jupyter.widget-view+json": {
       "model_id": "2c2dd0c8fe7540159e21495346fefa07",
       "version_major": 2,
       "version_minor": 0
      },
      "text/plain": [
       "HBox(children=(FloatProgress(value=1.0, bar_style='info', max=1.0), HTML(value='')))"
      ]
     },
     "metadata": {},
     "output_type": "display_data"
    },
    {
     "name": "stdout",
     "output_type": "stream",
     "text": [
      "\n"
     ]
    },
    {
     "ename": "KeyboardInterrupt",
     "evalue": "",
     "output_type": "error",
     "traceback": [
      "\u001b[0;31m---------------------------------------------------------------------------\u001b[0m",
      "\u001b[0;31mKeyboardInterrupt\u001b[0m                         Traceback (most recent call last)",
      "\u001b[0;32m<ipython-input-13-b7215ad8ae22>\u001b[0m in \u001b[0;36m<module>\u001b[0;34m\u001b[0m\n\u001b[1;32m     28\u001b[0m         \u001b[0;32melse\u001b[0m\u001b[0;34m:\u001b[0m\u001b[0;34m\u001b[0m\u001b[0;34m\u001b[0m\u001b[0m\n\u001b[1;32m     29\u001b[0m             \u001b[0mnot_found_list\u001b[0m\u001b[0;34m.\u001b[0m\u001b[0mappend\u001b[0m\u001b[0;34m(\u001b[0m\u001b[0mblock_name\u001b[0m \u001b[0;34m+\u001b[0m \u001b[0;34m\"-_-\"\u001b[0m \u001b[0;34m+\u001b[0m \u001b[0mstate_name\u001b[0m\u001b[0;34m)\u001b[0m\u001b[0;34m\u001b[0m\u001b[0;34m\u001b[0m\u001b[0m\n\u001b[0;32m---> 30\u001b[0;31m     \u001b[0mtime\u001b[0m\u001b[0;34m.\u001b[0m\u001b[0msleep\u001b[0m\u001b[0;34m(\u001b[0m\u001b[0;36m1\u001b[0m\u001b[0;34m)\u001b[0m\u001b[0;34m\u001b[0m\u001b[0;34m\u001b[0m\u001b[0m\n\u001b[0m",
      "\u001b[0;31mKeyboardInterrupt\u001b[0m: "
     ]
    }
   ],
   "source": [
    "%time\n",
    "found_list = []\n",
    "not_found_list = []\n",
    "for i in tqdm(df_categories.iterrows()):\n",
    "    state_name = i[1][\"state\"].strip()\n",
    "    state = state_name.replace(\" \", \"+\")\n",
    "    block_name = i[1][\"block\"].strip()\n",
    "    block = block_name.replace(\" \", \"+\")\n",
    "    url = (\n",
    "        \"https://nominatim.openstreetmap.org/search.php?street=&city=&county=\"\n",
    "        + block\n",
    "        + \"&state=\"\n",
    "        + state\n",
    "        + \"&country=india&postalcode=&polygon_geojson=1&format=geojson\"\n",
    "    )\n",
    "    r = requests.get(url, allow_redirects=True)\n",
    "    if r.status_code != 200:\n",
    "        break\n",
    "    else:\n",
    "        res = json.loads(r.text)\n",
    "        found = len(res[\"features\"])\n",
    "        if found >= 1:\n",
    "            found_list.append(block_name + \"-_-\" + state_name)\n",
    "            with open(\n",
    "                r\"../data/geojson-cat-blocks/\" + block_name + \".json\", \"w\"\n",
    "            ) as f:\n",
    "                json.dump(res, f)\n",
    "        else:\n",
    "            not_found_list.append(block_name + \"-_-\" + state_name)\n",
    "    time.sleep(1)"
   ]
  },
  {
   "cell_type": "markdown",
   "metadata": {},
   "source": [
    "#### districts"
   ]
  },
  {
   "cell_type": "code",
   "execution_count": 5,
   "metadata": {
    "execution": {
     "iopub.execute_input": "2020-07-31T02:43:00.872558Z",
     "iopub.status.busy": "2020-07-31T02:43:00.871286Z",
     "iopub.status.idle": "2020-07-31T02:43:00.889443Z",
     "shell.execute_reply": "2020-07-31T02:43:00.888482Z",
     "shell.execute_reply.started": "2020-07-31T02:43:00.872394Z"
    }
   },
   "outputs": [],
   "source": [
    "df = df.drop_duplicates(subset=[\"district\"]).reset_index(drop=True)"
   ]
  },
  {
   "cell_type": "code",
   "execution_count": 6,
   "metadata": {
    "execution": {
     "iopub.execute_input": "2020-07-31T02:43:02.495254Z",
     "iopub.status.busy": "2020-07-31T02:43:02.494402Z",
     "iopub.status.idle": "2020-07-31T02:43:02.519086Z",
     "shell.execute_reply": "2020-07-31T02:43:02.516390Z",
     "shell.execute_reply.started": "2020-07-31T02:43:02.495165Z"
    }
   },
   "outputs": [],
   "source": [
    "temp = pd.read_csv(\"../data/districts_not_found_categories.csv\")"
   ]
  },
  {
   "cell_type": "code",
   "execution_count": 7,
   "metadata": {
    "execution": {
     "iopub.execute_input": "2020-07-31T02:43:03.210912Z",
     "iopub.status.busy": "2020-07-31T02:43:03.210511Z",
     "iopub.status.idle": "2020-07-31T02:43:03.219744Z",
     "shell.execute_reply": "2020-07-31T02:43:03.218824Z",
     "shell.execute_reply.started": "2020-07-31T02:43:03.210858Z"
    }
   },
   "outputs": [],
   "source": [
    "df = temp"
   ]
  },
  {
   "cell_type": "code",
   "execution_count": 8,
   "metadata": {
    "execution": {
     "iopub.execute_input": "2020-07-31T02:43:24.002940Z",
     "iopub.status.busy": "2020-07-31T02:43:24.002626Z",
     "iopub.status.idle": "2020-07-31T02:44:37.357795Z",
     "shell.execute_reply": "2020-07-31T02:44:37.356600Z",
     "shell.execute_reply.started": "2020-07-31T02:43:24.002907Z"
    }
   },
   "outputs": [
    {
     "name": "stdout",
     "output_type": "stream",
     "text": [
      "CPU times: user 4 µs, sys: 1e+03 ns, total: 5 µs\n",
      "Wall time: 7.87 µs\n"
     ]
    },
    {
     "data": {
      "application/vnd.jupyter.widget-view+json": {
       "model_id": "4f8739604e604483817e63445990356c",
       "version_major": 2,
       "version_minor": 0
      },
      "text/plain": [
       "HBox(children=(FloatProgress(value=1.0, bar_style='info', max=1.0), HTML(value='')))"
      ]
     },
     "metadata": {},
     "output_type": "display_data"
    },
    {
     "name": "stdout",
     "output_type": "stream",
     "text": [
      "arvalli\n",
      "banaskantha\n",
      "bhabhua\n",
      "bhadradri+kothagudem\n",
      "bolangir\n",
      "bulandshahar\n",
      "chamrajnagara\n",
      "charki+dadri\n",
      "chhota+udepur\n",
      "chikballapur\n",
      "dakshin+kannada\n",
      "dantewara\n",
      "davangere\n",
      "jayashankar+bhupalapally\n",
      "jogulamba+gadwal\n",
      "kamrup+metro\n",
      "kasargod\n",
      "komarambhem+asifabad\n",
      "kushi+nagar\n",
      "lakhimpur+kheri\n",
      "medchal+malkajgiri\n",
      "morigaon\n",
      "nawanshahar\n",
      "non+revenue+unit\n",
      "palamau\n",
      "panchmahal\n",
      "peramabalur\n",
      "raibareli\n",
      "rajanna+sircilla\n",
      "sabarkantha\n",
      "saraikela+-+kharsawan\n",
      "sheihkpura\n",
      "thiruvannamalai\n",
      "tiruvarur\n",
      "tuenchung\n",
      "unakoti\n",
      "uttar+kannada\n",
      "villupuram\n",
      "viruthunagar\n",
      "warangal+rural\n",
      "warangal+urban\n",
      "yadadri+bhongiri\n",
      "\n"
     ]
    }
   ],
   "source": [
    "%time\n",
    "found_list = []\n",
    "not_found_list = []\n",
    "for i in tqdm(df.iterrows()):\n",
    "    state_name = i[1][\"state\"].strip()\n",
    "    state = state_name.replace(\" \", \"+\")\n",
    "    district_name = i[1][\"district\"].strip()\n",
    "    district = district_name.replace(\"_\", \" \")\n",
    "    district = district.replace(\" \", \"+\")\n",
    "#     print(district)\n",
    "    url = (\n",
    "        \"https://nominatim.openstreetmap.org/search.php?street=&county=\"\n",
    "        + district\n",
    "        + \"&state=&country=india&postalcode=&polygon_geojson=1&format=geojson\"\n",
    "    )\n",
    "    r = requests.get(url, allow_redirects=True)\n",
    "    if r.status_code != 200:\n",
    "        break\n",
    "    else:\n",
    "        res = json.loads(r.text)\n",
    "        found = len(res[\"features\"])\n",
    "        if found >= 1:\n",
    "            found_list.append(district_name + \"-_-\" + state_name)\n",
    "            with open(\n",
    "                r\"../data/geojson-cat-district/\" + district_name + \".json\", \"w\"\n",
    "            ) as f:\n",
    "                json.dump(res, f)\n",
    "        else:\n",
    "            not_found_list.append(district_name + \"-_-\" + state_name)\n",
    "    time.sleep(1)\n",
    "#     print(url)"
   ]
  },
  {
   "cell_type": "code",
   "execution_count": 9,
   "metadata": {
    "execution": {
     "iopub.execute_input": "2020-07-31T02:46:06.018556Z",
     "iopub.status.busy": "2020-07-31T02:46:06.018227Z",
     "iopub.status.idle": "2020-07-31T02:46:06.024862Z",
     "shell.execute_reply": "2020-07-31T02:46:06.023693Z",
     "shell.execute_reply.started": "2020-07-31T02:46:06.018520Z"
    },
    "scrolled": true
   },
   "outputs": [
    {
     "data": {
      "text/plain": [
       "35"
      ]
     },
     "execution_count": 9,
     "metadata": {},
     "output_type": "execute_result"
    }
   ],
   "source": [
    "len(not_found_list)"
   ]
  },
  {
   "cell_type": "code",
   "execution_count": 10,
   "metadata": {
    "execution": {
     "iopub.execute_input": "2020-07-31T02:46:18.851835Z",
     "iopub.status.busy": "2020-07-31T02:46:18.851553Z",
     "iopub.status.idle": "2020-07-31T02:46:18.857096Z",
     "shell.execute_reply": "2020-07-31T02:46:18.856318Z",
     "shell.execute_reply.started": "2020-07-31T02:46:18.851805Z"
    }
   },
   "outputs": [
    {
     "data": {
      "text/plain": [
       "['arvalli-_-gujarat',\n",
       " 'banaskantha-_-gujarat',\n",
       " 'bhabhua-_-bihar',\n",
       " 'bolangir-_-odisha',\n",
       " 'bulandshahar-_-uttar pradesh',\n",
       " 'chamrajnagara-_-karnataka',\n",
       " 'charki dadri-_-haryana',\n",
       " 'chhota udepur-_-gujarat',\n",
       " 'chikballapur-_-karnataka',\n",
       " 'dakshin kannada-_-karnataka',\n",
       " 'dantewara-_-chhattisgarh',\n",
       " 'davangere-_-karnataka',\n",
       " 'kamrup metro-_-assam',\n",
       " 'kasargod-_-kerala',\n",
       " 'komarambhem_asifabad-_-telangana',\n",
       " 'kushi nagar-_-uttar pradesh',\n",
       " 'lakhimpur kheri-_-uttar pradesh',\n",
       " 'morigaon-_-assam',\n",
       " 'nawanshahar-_-punjab',\n",
       " 'non revenue unit-_-delhi',\n",
       " 'palamau-_-jharkhand',\n",
       " 'panchmahal-_-gujarat',\n",
       " 'peramabalur-_-tamilnadu',\n",
       " 'raibareli-_-uttar pradesh',\n",
       " 'sabarkantha-_-gujarat',\n",
       " 'saraikela - kharsawan-_-jharkhand',\n",
       " 'sheihkpura-_-bihar',\n",
       " 'thiruvannamalai-_-tamilnadu',\n",
       " 'tiruvarur-_-tamilnadu',\n",
       " 'tuenchung-_-nagaland',\n",
       " 'unakoti-_-tripura',\n",
       " 'uttar kannada-_-karnataka',\n",
       " 'villupuram-_-tamilnadu',\n",
       " 'viruthunagar-_-tamilnadu',\n",
       " 'yadadri_bhongiri-_-telangana']"
      ]
     },
     "execution_count": 10,
     "metadata": {},
     "output_type": "execute_result"
    }
   ],
   "source": [
    "not_found_list"
   ]
  },
  {
   "cell_type": "code",
   "execution_count": 11,
   "metadata": {
    "execution": {
     "iopub.execute_input": "2020-07-31T02:46:25.770557Z",
     "iopub.status.busy": "2020-07-31T02:46:25.770027Z",
     "iopub.status.idle": "2020-07-31T02:46:25.780876Z",
     "shell.execute_reply": "2020-07-31T02:46:25.779360Z",
     "shell.execute_reply.started": "2020-07-31T02:46:25.770500Z"
    }
   },
   "outputs": [],
   "source": [
    "not_found_district = []\n",
    "not_found_state=[]\n",
    "for i in not_found_list:\n",
    "    not_found_district.append(i.split(\"-_-\")[0])\n",
    "    not_found_state.append(i.split(\"-_-\")[1])"
   ]
  },
  {
   "cell_type": "code",
   "execution_count": 12,
   "metadata": {
    "execution": {
     "iopub.execute_input": "2020-07-31T02:46:26.799209Z",
     "iopub.status.busy": "2020-07-31T02:46:26.798825Z",
     "iopub.status.idle": "2020-07-31T02:46:26.806550Z",
     "shell.execute_reply": "2020-07-31T02:46:26.805020Z",
     "shell.execute_reply.started": "2020-07-31T02:46:26.799164Z"
    }
   },
   "outputs": [],
   "source": [
    "temp = pd.DataFrame({\"district\": not_found_district,\"state\":not_found_state})"
   ]
  },
  {
   "cell_type": "code",
   "execution_count": 13,
   "metadata": {
    "execution": {
     "iopub.execute_input": "2020-07-31T02:46:27.372330Z",
     "iopub.status.busy": "2020-07-31T02:46:27.372050Z",
     "iopub.status.idle": "2020-07-31T02:46:27.383381Z",
     "shell.execute_reply": "2020-07-31T02:46:27.382287Z",
     "shell.execute_reply.started": "2020-07-31T02:46:27.372298Z"
    }
   },
   "outputs": [],
   "source": [
    "temp.to_csv(\"../data/districts_not_found_categories.csv\", index=False)"
   ]
  },
  {
   "cell_type": "code",
   "execution_count": 27,
   "metadata": {
    "execution": {
     "iopub.execute_input": "2020-07-31T00:21:20.306160Z",
     "iopub.status.busy": "2020-07-31T00:21:20.304822Z",
     "iopub.status.idle": "2020-07-31T00:21:20.329194Z",
     "shell.execute_reply": "2020-07-31T00:21:20.326747Z",
     "shell.execute_reply.started": "2020-07-31T00:21:20.305992Z"
    }
   },
   "outputs": [
    {
     "data": {
      "text/plain": [
       "array(['andaman & nicobar', 'andhra pradesh', 'arunachal pradesh',\n",
       "       'assam', 'bihar', 'chandigarh', 'chhattisgarh',\n",
       "       'dadra and nagar hav', 'daman & diu', 'delhi', 'goa', 'gujarat',\n",
       "       'haryana', 'himachal pradesh', 'jammu & kashmir', 'jharkhand',\n",
       "       'karnataka', 'kerala', 'lakshadweep', 'madhya pradesh',\n",
       "       'maharashtra', 'manipur', 'meghalaya', 'mizoram', 'nagaland',\n",
       "       'odisha', 'pondicherry', 'punjab', 'rajasthan', 'sikkim',\n",
       "       'tamilnadu', 'telangana', 'tripura', 'uttar pradesh',\n",
       "       'uttarakhand', 'west bengal'], dtype=object)"
      ]
     },
     "execution_count": 27,
     "metadata": {},
     "output_type": "execute_result"
    }
   ],
   "source": [
    "df.loc[:, \"state\"].unique()"
   ]
  },
  {
   "cell_type": "code",
   "execution_count": 29,
   "metadata": {
    "execution": {
     "iopub.execute_input": "2020-07-31T00:22:41.366868Z",
     "iopub.status.busy": "2020-07-31T00:22:41.366417Z",
     "iopub.status.idle": "2020-07-31T00:22:41.465078Z",
     "shell.execute_reply": "2020-07-31T00:22:41.464415Z",
     "shell.execute_reply.started": "2020-07-31T00:22:41.366818Z"
    }
   },
   "outputs": [],
   "source": [
    "df.to_parquet(\"../data/comp/categories.parquet.gzip\", compression=\"gzip\")\n",
    "df.to_csv(\"../data/csv/categories.csv\")"
   ]
  },
  {
   "cell_type": "code",
   "execution_count": null,
   "metadata": {},
   "outputs": [],
   "source": [
    "# were errors now fixed\n",
    "# \"jharkhand\",\n",
    "# \"tamilnadu\",\n",
    "# \"andaman & nicobar\",\n",
    "# \"jammu & kashmir\",\n",
    "# \"daman & diu\",\n",
    "# \"dadra and nagar hav\""
   ]
  }
 ],
 "metadata": {
  "kernelspec": {
   "display_name": "Python [conda env:sih]",
   "language": "python",
   "name": "conda-env-sih-py"
  },
  "language_info": {
   "codemirror_mode": {
    "name": "ipython",
    "version": 3
   },
   "file_extension": ".py",
   "mimetype": "text/x-python",
   "name": "python",
   "nbconvert_exporter": "python",
   "pygments_lexer": "ipython3",
   "version": "3.8.3"
  },
  "widgets": {
   "application/vnd.jupyter.widget-state+json": {
    "state": {
     "086a076dc4894d579871c3b87e6f7920": {
      "model_module": "@jupyter-widgets/base",
      "model_module_version": "1.2.0",
      "model_name": "LayoutModel",
      "state": {}
     },
     "17eafb91ddd6461f91cfe65dffc13d76": {
      "model_module": "@jupyter-widgets/controls",
      "model_module_version": "1.5.0",
      "model_name": "DescriptionStyleModel",
      "state": {
       "description_width": ""
      }
     },
     "330f9a76f2d246b2bc315af57034b8b2": {
      "model_module": "@jupyter-widgets/controls",
      "model_module_version": "1.5.0",
      "model_name": "FloatProgressModel",
      "state": {
       "bar_style": "success",
       "layout": "IPY_MODEL_511920d172d8485da2d97a9dcb925908",
       "max": 1,
       "style": "IPY_MODEL_424c7a1d09684c15b073728ca3ecfa99",
       "value": 1
      }
     },
     "424c7a1d09684c15b073728ca3ecfa99": {
      "model_module": "@jupyter-widgets/controls",
      "model_module_version": "1.5.0",
      "model_name": "ProgressStyleModel",
      "state": {
       "description_width": "initial"
      }
     },
     "4f8739604e604483817e63445990356c": {
      "model_module": "@jupyter-widgets/controls",
      "model_module_version": "1.5.0",
      "model_name": "HBoxModel",
      "state": {
       "children": [
        "IPY_MODEL_330f9a76f2d246b2bc315af57034b8b2",
        "IPY_MODEL_f82a20bc9a98487c91b3297832497f04"
       ],
       "layout": "IPY_MODEL_b491d78a06154d44896e9d270136fcea"
      }
     },
     "511920d172d8485da2d97a9dcb925908": {
      "model_module": "@jupyter-widgets/base",
      "model_module_version": "1.2.0",
      "model_name": "LayoutModel",
      "state": {}
     },
     "b491d78a06154d44896e9d270136fcea": {
      "model_module": "@jupyter-widgets/base",
      "model_module_version": "1.2.0",
      "model_name": "LayoutModel",
      "state": {}
     },
     "f82a20bc9a98487c91b3297832497f04": {
      "model_module": "@jupyter-widgets/controls",
      "model_module_version": "1.5.0",
      "model_name": "HTMLModel",
      "state": {
       "layout": "IPY_MODEL_086a076dc4894d579871c3b87e6f7920",
       "style": "IPY_MODEL_17eafb91ddd6461f91cfe65dffc13d76",
       "value": " 42/? [01:13&lt;00:00,  1.75s/it]"
      }
     }
    },
    "version_major": 2,
    "version_minor": 0
   }
  }
 },
 "nbformat": 4,
 "nbformat_minor": 4
}
