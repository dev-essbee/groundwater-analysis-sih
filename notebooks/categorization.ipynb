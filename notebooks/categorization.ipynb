{
 "cells": [
  {
   "cell_type": "code",
   "execution_count": null,
   "metadata": {
    "execution": {
     "iopub.execute_input": "2020-07-30T10:35:30.764482Z",
     "iopub.status.busy": "2020-07-30T10:35:30.764267Z"
    }
   },
   "outputs": [],
   "source": [
    "import pandas as pd\n",
    "import glob\n",
    "import numpy as np\n",
    "import re\n",
    "from tqdm.auto import tqdm\n",
    "import pickle\n",
    "from pandarallel import pandarallel\n",
    "import re\n",
    "import plotly.graph_objects as go\n",
    "\n",
    "pandarallel.initialize()"
   ]
  },
  {
   "cell_type": "code",
   "execution_count": null,
   "metadata": {},
   "outputs": [],
   "source": [
    "data_in='../data/'"
   ]
  },
  {
   "cell_type": "code",
   "execution_count": null,
   "metadata": {},
   "outputs": [],
   "source": [
    "df=pd.read_csv(data_in+r'categories.csv')"
   ]
  },
  {
   "cell_type": "code",
   "execution_count": 4,
   "metadata": {
    "execution": {
     "iopub.execute_input": "2020-07-30T10:35:31.580599Z",
     "iopub.status.busy": "2020-07-30T10:35:31.580207Z",
     "iopub.status.idle": "2020-07-30T10:35:31.642774Z",
     "shell.execute_reply": "2020-07-30T10:35:31.636668Z",
     "shell.execute_reply.started": "2020-07-30T10:35:31.580554Z"
    }
   },
   "outputs": [
    {
     "data": {
      "text/html": [
       "<div>\n",
       "<style scoped>\n",
       "    .dataframe tbody tr th:only-of-type {\n",
       "        vertical-align: middle;\n",
       "    }\n",
       "\n",
       "    .dataframe tbody tr th {\n",
       "        vertical-align: top;\n",
       "    }\n",
       "\n",
       "    .dataframe thead th {\n",
       "        text-align: right;\n",
       "    }\n",
       "</style>\n",
       "<table border=\"1\" class=\"dataframe\">\n",
       "  <thead>\n",
       "    <tr style=\"text-align: right;\">\n",
       "      <th></th>\n",
       "      <th>Sl. No</th>\n",
       "      <th>State</th>\n",
       "      <th>District</th>\n",
       "      <th>Assessment Unit  Name</th>\n",
       "      <th>Categorization\\r\\n(OE/Critical/Semicritical\\r\\n/Safe)</th>\n",
       "    </tr>\n",
       "  </thead>\n",
       "  <tbody>\n",
       "    <tr>\n",
       "      <th>0</th>\n",
       "      <td>1</td>\n",
       "      <td>Andaman &amp; Nicobar Is</td>\n",
       "      <td>N &amp; M Andaman</td>\n",
       "      <td>Porlob island</td>\n",
       "      <td>Safe</td>\n",
       "    </tr>\n",
       "    <tr>\n",
       "      <th>1</th>\n",
       "      <td>2</td>\n",
       "      <td>Andaman &amp; Nicobar Is</td>\n",
       "      <td>N &amp; M Andaman</td>\n",
       "      <td>North Passage island</td>\n",
       "      <td>Safe</td>\n",
       "    </tr>\n",
       "    <tr>\n",
       "      <th>2</th>\n",
       "      <td>3</td>\n",
       "      <td>Andaman &amp; Nicobar Is</td>\n",
       "      <td>N &amp; M Andaman</td>\n",
       "      <td>Interview island</td>\n",
       "      <td>Safe</td>\n",
       "    </tr>\n",
       "    <tr>\n",
       "      <th>3</th>\n",
       "      <td>4</td>\n",
       "      <td>Andaman &amp; Nicobar Is</td>\n",
       "      <td>N &amp; M Andaman</td>\n",
       "      <td>Stewart Island</td>\n",
       "      <td>Safe</td>\n",
       "    </tr>\n",
       "    <tr>\n",
       "      <th>4</th>\n",
       "      <td>5</td>\n",
       "      <td>Andaman &amp; Nicobar Is</td>\n",
       "      <td>N &amp; M Andaman</td>\n",
       "      <td>Narcondam island</td>\n",
       "      <td>Safe</td>\n",
       "    </tr>\n",
       "    <tr>\n",
       "      <th>...</th>\n",
       "      <td>...</td>\n",
       "      <td>...</td>\n",
       "      <td>...</td>\n",
       "      <td>...</td>\n",
       "      <td>...</td>\n",
       "    </tr>\n",
       "    <tr>\n",
       "      <th>6757</th>\n",
       "      <td>6876</td>\n",
       "      <td>WEST BENGAL</td>\n",
       "      <td>UTTAR DINAJPUR</td>\n",
       "      <td>KARANDIGHI</td>\n",
       "      <td>Safe</td>\n",
       "    </tr>\n",
       "    <tr>\n",
       "      <th>6758</th>\n",
       "      <td>6877</td>\n",
       "      <td>WEST BENGAL</td>\n",
       "      <td>UTTAR DINAJPUR</td>\n",
       "      <td>KALIAGANJ</td>\n",
       "      <td>Safe</td>\n",
       "    </tr>\n",
       "    <tr>\n",
       "      <th>6759</th>\n",
       "      <td>6878</td>\n",
       "      <td>WEST BENGAL</td>\n",
       "      <td>UTTAR DINAJPUR</td>\n",
       "      <td>GOALPOKHAR -II</td>\n",
       "      <td>Safe</td>\n",
       "    </tr>\n",
       "    <tr>\n",
       "      <th>6760</th>\n",
       "      <td>6879</td>\n",
       "      <td>WEST BENGAL</td>\n",
       "      <td>UTTAR DINAJPUR</td>\n",
       "      <td>RAIGANJ</td>\n",
       "      <td>Safe</td>\n",
       "    </tr>\n",
       "    <tr>\n",
       "      <th>6761</th>\n",
       "      <td>6880</td>\n",
       "      <td>WEST BENGAL</td>\n",
       "      <td>UTTAR DINAJPUR</td>\n",
       "      <td>ITAHAR</td>\n",
       "      <td>Safe</td>\n",
       "    </tr>\n",
       "  </tbody>\n",
       "</table>\n",
       "<p>6762 rows × 5 columns</p>\n",
       "</div>"
      ],
      "text/plain": [
       "      Sl. No                 State        District Assessment Unit  Name  \\\n",
       "0          1  Andaman & Nicobar Is   N & M Andaman         Porlob island   \n",
       "1          2  Andaman & Nicobar Is   N & M Andaman  North Passage island   \n",
       "2          3  Andaman & Nicobar Is   N & M Andaman      Interview island   \n",
       "3          4  Andaman & Nicobar Is   N & M Andaman        Stewart Island   \n",
       "4          5  Andaman & Nicobar Is   N & M Andaman      Narcondam island   \n",
       "...      ...                   ...             ...                   ...   \n",
       "6757    6876           WEST BENGAL  UTTAR DINAJPUR            KARANDIGHI   \n",
       "6758    6877           WEST BENGAL  UTTAR DINAJPUR             KALIAGANJ   \n",
       "6759    6878           WEST BENGAL  UTTAR DINAJPUR        GOALPOKHAR -II   \n",
       "6760    6879           WEST BENGAL  UTTAR DINAJPUR               RAIGANJ   \n",
       "6761    6880           WEST BENGAL  UTTAR DINAJPUR                ITAHAR   \n",
       "\n",
       "     Categorization\\r\\n(OE/Critical/Semicritical\\r\\n/Safe)  \n",
       "0                                                  Safe     \n",
       "1                                                  Safe     \n",
       "2                                                  Safe     \n",
       "3                                                  Safe     \n",
       "4                                                  Safe     \n",
       "...                                                 ...     \n",
       "6757                                               Safe     \n",
       "6758                                               Safe     \n",
       "6759                                               Safe     \n",
       "6760                                               Safe     \n",
       "6761                                               Safe     \n",
       "\n",
       "[6762 rows x 5 columns]"
      ]
     },
     "execution_count": 4,
     "metadata": {},
     "output_type": "execute_result"
    }
   ],
   "source": [
    "df"
   ]
  },
  {
   "cell_type": "code",
   "execution_count": 5,
   "metadata": {
    "execution": {
     "iopub.execute_input": "2020-07-30T10:35:31.865127Z",
     "iopub.status.busy": "2020-07-30T10:35:31.864785Z",
     "iopub.status.idle": "2020-07-30T10:35:31.869577Z",
     "shell.execute_reply": "2020-07-30T10:35:31.868964Z",
     "shell.execute_reply.started": "2020-07-30T10:35:31.865098Z"
    }
   },
   "outputs": [],
   "source": [
    "df=df.drop(['Sl. No'],axis=1)"
   ]
  },
  {
   "cell_type": "code",
   "execution_count": 6,
   "metadata": {
    "execution": {
     "iopub.execute_input": "2020-07-30T10:35:32.977216Z",
     "iopub.status.busy": "2020-07-30T10:35:32.976742Z",
     "iopub.status.idle": "2020-07-30T10:35:33.000933Z",
     "shell.execute_reply": "2020-07-30T10:35:33.000051Z",
     "shell.execute_reply.started": "2020-07-30T10:35:32.977157Z"
    }
   },
   "outputs": [
    {
     "data": {
      "text/html": [
       "<div>\n",
       "<style scoped>\n",
       "    .dataframe tbody tr th:only-of-type {\n",
       "        vertical-align: middle;\n",
       "    }\n",
       "\n",
       "    .dataframe tbody tr th {\n",
       "        vertical-align: top;\n",
       "    }\n",
       "\n",
       "    .dataframe thead th {\n",
       "        text-align: right;\n",
       "    }\n",
       "</style>\n",
       "<table border=\"1\" class=\"dataframe\">\n",
       "  <thead>\n",
       "    <tr style=\"text-align: right;\">\n",
       "      <th></th>\n",
       "      <th>State</th>\n",
       "      <th>District</th>\n",
       "      <th>Assessment Unit  Name</th>\n",
       "      <th>Categorization\\r\\n(OE/Critical/Semicritical\\r\\n/Safe)</th>\n",
       "    </tr>\n",
       "  </thead>\n",
       "  <tbody>\n",
       "    <tr>\n",
       "      <th>0</th>\n",
       "      <td>Andaman &amp; Nicobar Is</td>\n",
       "      <td>N &amp; M Andaman</td>\n",
       "      <td>Porlob island</td>\n",
       "      <td>Safe</td>\n",
       "    </tr>\n",
       "    <tr>\n",
       "      <th>1</th>\n",
       "      <td>Andaman &amp; Nicobar Is</td>\n",
       "      <td>N &amp; M Andaman</td>\n",
       "      <td>North Passage island</td>\n",
       "      <td>Safe</td>\n",
       "    </tr>\n",
       "    <tr>\n",
       "      <th>2</th>\n",
       "      <td>Andaman &amp; Nicobar Is</td>\n",
       "      <td>N &amp; M Andaman</td>\n",
       "      <td>Interview island</td>\n",
       "      <td>Safe</td>\n",
       "    </tr>\n",
       "    <tr>\n",
       "      <th>3</th>\n",
       "      <td>Andaman &amp; Nicobar Is</td>\n",
       "      <td>N &amp; M Andaman</td>\n",
       "      <td>Stewart Island</td>\n",
       "      <td>Safe</td>\n",
       "    </tr>\n",
       "    <tr>\n",
       "      <th>4</th>\n",
       "      <td>Andaman &amp; Nicobar Is</td>\n",
       "      <td>N &amp; M Andaman</td>\n",
       "      <td>Narcondam island</td>\n",
       "      <td>Safe</td>\n",
       "    </tr>\n",
       "    <tr>\n",
       "      <th>...</th>\n",
       "      <td>...</td>\n",
       "      <td>...</td>\n",
       "      <td>...</td>\n",
       "      <td>...</td>\n",
       "    </tr>\n",
       "    <tr>\n",
       "      <th>6757</th>\n",
       "      <td>WEST BENGAL</td>\n",
       "      <td>UTTAR DINAJPUR</td>\n",
       "      <td>KARANDIGHI</td>\n",
       "      <td>Safe</td>\n",
       "    </tr>\n",
       "    <tr>\n",
       "      <th>6758</th>\n",
       "      <td>WEST BENGAL</td>\n",
       "      <td>UTTAR DINAJPUR</td>\n",
       "      <td>KALIAGANJ</td>\n",
       "      <td>Safe</td>\n",
       "    </tr>\n",
       "    <tr>\n",
       "      <th>6759</th>\n",
       "      <td>WEST BENGAL</td>\n",
       "      <td>UTTAR DINAJPUR</td>\n",
       "      <td>GOALPOKHAR -II</td>\n",
       "      <td>Safe</td>\n",
       "    </tr>\n",
       "    <tr>\n",
       "      <th>6760</th>\n",
       "      <td>WEST BENGAL</td>\n",
       "      <td>UTTAR DINAJPUR</td>\n",
       "      <td>RAIGANJ</td>\n",
       "      <td>Safe</td>\n",
       "    </tr>\n",
       "    <tr>\n",
       "      <th>6761</th>\n",
       "      <td>WEST BENGAL</td>\n",
       "      <td>UTTAR DINAJPUR</td>\n",
       "      <td>ITAHAR</td>\n",
       "      <td>Safe</td>\n",
       "    </tr>\n",
       "  </tbody>\n",
       "</table>\n",
       "<p>6762 rows × 4 columns</p>\n",
       "</div>"
      ],
      "text/plain": [
       "                     State        District Assessment Unit  Name  \\\n",
       "0     Andaman & Nicobar Is   N & M Andaman         Porlob island   \n",
       "1     Andaman & Nicobar Is   N & M Andaman  North Passage island   \n",
       "2     Andaman & Nicobar Is   N & M Andaman      Interview island   \n",
       "3     Andaman & Nicobar Is   N & M Andaman        Stewart Island   \n",
       "4     Andaman & Nicobar Is   N & M Andaman      Narcondam island   \n",
       "...                    ...             ...                   ...   \n",
       "6757           WEST BENGAL  UTTAR DINAJPUR            KARANDIGHI   \n",
       "6758           WEST BENGAL  UTTAR DINAJPUR             KALIAGANJ   \n",
       "6759           WEST BENGAL  UTTAR DINAJPUR        GOALPOKHAR -II   \n",
       "6760           WEST BENGAL  UTTAR DINAJPUR               RAIGANJ   \n",
       "6761           WEST BENGAL  UTTAR DINAJPUR                ITAHAR   \n",
       "\n",
       "     Categorization\\r\\n(OE/Critical/Semicritical\\r\\n/Safe)  \n",
       "0                                                  Safe     \n",
       "1                                                  Safe     \n",
       "2                                                  Safe     \n",
       "3                                                  Safe     \n",
       "4                                                  Safe     \n",
       "...                                                 ...     \n",
       "6757                                               Safe     \n",
       "6758                                               Safe     \n",
       "6759                                               Safe     \n",
       "6760                                               Safe     \n",
       "6761                                               Safe     \n",
       "\n",
       "[6762 rows x 4 columns]"
      ]
     },
     "execution_count": 6,
     "metadata": {},
     "output_type": "execute_result"
    }
   ],
   "source": [
    "df"
   ]
  },
  {
   "cell_type": "code",
   "execution_count": 7,
   "metadata": {
    "execution": {
     "iopub.execute_input": "2020-07-30T10:35:36.428615Z",
     "iopub.status.busy": "2020-07-30T10:35:36.428210Z",
     "iopub.status.idle": "2020-07-30T10:35:36.436292Z",
     "shell.execute_reply": "2020-07-30T10:35:36.435255Z",
     "shell.execute_reply.started": "2020-07-30T10:35:36.428570Z"
    }
   },
   "outputs": [],
   "source": [
    "df=df.rename(columns={\"State\":'state',\"District\":\"district\",\"Assessment Unit  Name\": \"station\",'Categorization\\r\\n(OE/Critical/Semicritical\\r\\n/Safe)':'category'}, errors=\"raise\")"
   ]
  },
  {
   "cell_type": "code",
   "execution_count": 11,
   "metadata": {
    "execution": {
     "iopub.execute_input": "2020-07-30T10:38:25.169074Z",
     "iopub.status.busy": "2020-07-30T10:38:25.168824Z",
     "iopub.status.idle": "2020-07-30T10:38:25.186278Z",
     "shell.execute_reply": "2020-07-30T10:38:25.185637Z",
     "shell.execute_reply.started": "2020-07-30T10:38:25.169047Z"
    }
   },
   "outputs": [],
   "source": [
    "for i in df.columns:\n",
    "    df[i]=df[i].str.lower()"
   ]
  },
  {
   "cell_type": "code",
   "execution_count": 13,
   "metadata": {
    "execution": {
     "iopub.execute_input": "2020-07-30T10:38:59.650373Z",
     "iopub.status.busy": "2020-07-30T10:38:59.650044Z",
     "iopub.status.idle": "2020-07-30T10:38:59.693390Z",
     "shell.execute_reply": "2020-07-30T10:38:59.692610Z",
     "shell.execute_reply.started": "2020-07-30T10:38:59.650338Z"
    }
   },
   "outputs": [],
   "source": [
    "df.to_csv(r'../data/categories.csv',index=False)"
   ]
  },
  {
   "cell_type": "code",
   "execution_count": 14,
   "metadata": {
    "execution": {
     "iopub.execute_input": "2020-07-30T10:40:42.663115Z",
     "iopub.status.busy": "2020-07-30T10:40:42.662589Z",
     "iopub.status.idle": "2020-07-30T10:40:42.947566Z",
     "shell.execute_reply": "2020-07-30T10:40:42.946875Z",
     "shell.execute_reply.started": "2020-07-30T10:40:42.663052Z"
    }
   },
   "outputs": [],
   "source": [
    "df.to_parquet(r'../data/categories.parquet.gzip',compression=\"gzip\",index=False)"
   ]
  },
  {
   "cell_type": "code",
   "execution_count": null,
   "metadata": {},
   "outputs": [],
   "source": []
  }
 ],
 "metadata": {
  "kernelspec": {
   "display_name": "Python [conda env:sih]",
   "language": "python",
   "name": "conda-env-sih-py"
  },
  "language_info": {
   "codemirror_mode": {
    "name": "ipython",
    "version": 3
   },
   "file_extension": ".py",
   "mimetype": "text/x-python",
   "name": "python",
   "nbconvert_exporter": "python",
   "pygments_lexer": "ipython3",
   "version": "3.8.3"
  },
  "widgets": {
   "application/vnd.jupyter.widget-state+json": {
    "state": {},
    "version_major": 2,
    "version_minor": 0
   }
  }
 },
 "nbformat": 4,
 "nbformat_minor": 4
}
