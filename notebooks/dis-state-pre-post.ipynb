{
 "cells": [
  {
   "cell_type": "code",
   "execution_count": 1,
   "metadata": {
    "execution": {
     "iopub.execute_input": "2020-07-25T18:00:25.022643Z",
     "iopub.status.busy": "2020-07-25T18:00:25.022243Z",
     "iopub.status.idle": "2020-07-25T18:00:25.052124Z",
     "shell.execute_reply": "2020-07-25T18:00:25.051241Z",
     "shell.execute_reply.started": "2020-07-25T18:00:25.022593Z"
    }
   },
   "outputs": [
    {
     "name": "stdout",
     "output_type": "stream",
     "text": [
      "INFO: Pandarallel will run on 4 workers.\n",
      "INFO: Pandarallel will use Memory file system to transfer data between the main process and workers.\n"
     ]
    }
   ],
   "source": [
    "import pandas as pd\n",
    "import glob\n",
    "import numpy as np\n",
    "import re\n",
    "from tqdm.auto import tqdm\n",
    "import pickle\n",
    "from pandarallel import pandarallel\n",
    "import re\n",
    "\n",
    "pandarallel.initialize()"
   ]
  },
  {
   "cell_type": "markdown",
   "metadata": {},
   "source": [
    "### state-month-pre-post"
   ]
  },
  {
   "cell_type": "code",
   "execution_count": 4,
   "metadata": {
    "execution": {
     "iopub.execute_input": "2020-07-25T18:03:49.234696Z",
     "iopub.status.busy": "2020-07-25T18:03:49.233131Z",
     "iopub.status.idle": "2020-07-25T18:03:49.243379Z",
     "shell.execute_reply": "2020-07-25T18:03:49.241865Z",
     "shell.execute_reply.started": "2020-07-25T18:03:49.234601Z"
    }
   },
   "outputs": [],
   "source": [
    "# premonsoon: may\n",
    "# post monsoon=nov"
   ]
  },
  {
   "cell_type": "code",
   "execution_count": 2,
   "metadata": {
    "execution": {
     "iopub.execute_input": "2020-07-25T18:02:48.698145Z",
     "iopub.status.busy": "2020-07-25T18:02:48.697547Z",
     "iopub.status.idle": "2020-07-25T18:02:49.100116Z",
     "shell.execute_reply": "2020-07-25T18:02:49.099331Z",
     "shell.execute_reply.started": "2020-07-25T18:02:48.698072Z"
    }
   },
   "outputs": [],
   "source": [
    "df=pd.read_parquet(r'../data/comp/gw-state-monthly.parquet.gzip')"
   ]
  },
  {
   "cell_type": "code",
   "execution_count": 7,
   "metadata": {
    "execution": {
     "iopub.execute_input": "2020-07-25T18:04:22.187078Z",
     "iopub.status.busy": "2020-07-25T18:04:22.186822Z",
     "iopub.status.idle": "2020-07-25T18:04:22.211320Z",
     "shell.execute_reply": "2020-07-25T18:04:22.209810Z",
     "shell.execute_reply.started": "2020-07-25T18:04:22.187035Z"
    }
   },
   "outputs": [
    {
     "data": {
      "text/html": [
       "<div>\n",
       "<style scoped>\n",
       "    .dataframe tbody tr th:only-of-type {\n",
       "        vertical-align: middle;\n",
       "    }\n",
       "\n",
       "    .dataframe tbody tr th {\n",
       "        vertical-align: top;\n",
       "    }\n",
       "\n",
       "    .dataframe thead th {\n",
       "        text-align: right;\n",
       "    }\n",
       "</style>\n",
       "<table border=\"1\" class=\"dataframe\">\n",
       "  <thead>\n",
       "    <tr style=\"text-align: right;\">\n",
       "      <th></th>\n",
       "      <th>1994-01</th>\n",
       "      <th>1994-02</th>\n",
       "      <th>1994-03</th>\n",
       "      <th>1994-04</th>\n",
       "      <th>1994-05</th>\n",
       "      <th>1994-06</th>\n",
       "      <th>1994-07</th>\n",
       "      <th>1994-08</th>\n",
       "      <th>1994-09</th>\n",
       "      <th>1994-10</th>\n",
       "      <th>...</th>\n",
       "      <th>2019-10</th>\n",
       "      <th>2019-11</th>\n",
       "      <th>2019-12</th>\n",
       "      <th>2020-01</th>\n",
       "      <th>2020-02</th>\n",
       "      <th>2020-03</th>\n",
       "      <th>2020-04</th>\n",
       "      <th>2020-05</th>\n",
       "      <th>2020-06</th>\n",
       "      <th>2020-07</th>\n",
       "    </tr>\n",
       "    <tr>\n",
       "      <th>state</th>\n",
       "      <th></th>\n",
       "      <th></th>\n",
       "      <th></th>\n",
       "      <th></th>\n",
       "      <th></th>\n",
       "      <th></th>\n",
       "      <th></th>\n",
       "      <th></th>\n",
       "      <th></th>\n",
       "      <th></th>\n",
       "      <th></th>\n",
       "      <th></th>\n",
       "      <th></th>\n",
       "      <th></th>\n",
       "      <th></th>\n",
       "      <th></th>\n",
       "      <th></th>\n",
       "      <th></th>\n",
       "      <th></th>\n",
       "      <th></th>\n",
       "      <th></th>\n",
       "    </tr>\n",
       "  </thead>\n",
       "  <tbody>\n",
       "    <tr>\n",
       "      <th>uttarakhand</th>\n",
       "      <td>12.73</td>\n",
       "      <td>None</td>\n",
       "      <td>None</td>\n",
       "      <td>None</td>\n",
       "      <td>18.81</td>\n",
       "      <td>None</td>\n",
       "      <td>None</td>\n",
       "      <td>None</td>\n",
       "      <td>None</td>\n",
       "      <td>None</td>\n",
       "      <td>...</td>\n",
       "      <td>None</td>\n",
       "      <td>None</td>\n",
       "      <td>None</td>\n",
       "      <td>None</td>\n",
       "      <td>None</td>\n",
       "      <td>None</td>\n",
       "      <td>None</td>\n",
       "      <td>None</td>\n",
       "      <td>None</td>\n",
       "      <td>None</td>\n",
       "    </tr>\n",
       "    <tr>\n",
       "      <th>assam</th>\n",
       "      <td>4.62</td>\n",
       "      <td>None</td>\n",
       "      <td>None</td>\n",
       "      <td>None</td>\n",
       "      <td>None</td>\n",
       "      <td>None</td>\n",
       "      <td>None</td>\n",
       "      <td>None</td>\n",
       "      <td>None</td>\n",
       "      <td>None</td>\n",
       "      <td>...</td>\n",
       "      <td>4.59</td>\n",
       "      <td>None</td>\n",
       "      <td>None</td>\n",
       "      <td>None</td>\n",
       "      <td>None</td>\n",
       "      <td>2.28</td>\n",
       "      <td>None</td>\n",
       "      <td>None</td>\n",
       "      <td>3.08</td>\n",
       "      <td>None</td>\n",
       "    </tr>\n",
       "    <tr>\n",
       "      <th>ladakh</th>\n",
       "      <td>None</td>\n",
       "      <td>None</td>\n",
       "      <td>None</td>\n",
       "      <td>None</td>\n",
       "      <td>None</td>\n",
       "      <td>None</td>\n",
       "      <td>None</td>\n",
       "      <td>None</td>\n",
       "      <td>None</td>\n",
       "      <td>None</td>\n",
       "      <td>...</td>\n",
       "      <td>None</td>\n",
       "      <td>None</td>\n",
       "      <td>None</td>\n",
       "      <td>None</td>\n",
       "      <td>None</td>\n",
       "      <td>None</td>\n",
       "      <td>None</td>\n",
       "      <td>None</td>\n",
       "      <td>None</td>\n",
       "      <td>None</td>\n",
       "    </tr>\n",
       "    <tr>\n",
       "      <th>goa</th>\n",
       "      <td>5.02</td>\n",
       "      <td>None</td>\n",
       "      <td>None</td>\n",
       "      <td>None</td>\n",
       "      <td>6.65</td>\n",
       "      <td>None</td>\n",
       "      <td>None</td>\n",
       "      <td>None</td>\n",
       "      <td>None</td>\n",
       "      <td>None</td>\n",
       "      <td>...</td>\n",
       "      <td>None</td>\n",
       "      <td>None</td>\n",
       "      <td>None</td>\n",
       "      <td>None</td>\n",
       "      <td>None</td>\n",
       "      <td>None</td>\n",
       "      <td>None</td>\n",
       "      <td>None</td>\n",
       "      <td>None</td>\n",
       "      <td>None</td>\n",
       "    </tr>\n",
       "    <tr>\n",
       "      <th>lakshdweep</th>\n",
       "      <td>None</td>\n",
       "      <td>None</td>\n",
       "      <td>None</td>\n",
       "      <td>None</td>\n",
       "      <td>None</td>\n",
       "      <td>None</td>\n",
       "      <td>None</td>\n",
       "      <td>None</td>\n",
       "      <td>None</td>\n",
       "      <td>None</td>\n",
       "      <td>...</td>\n",
       "      <td>None</td>\n",
       "      <td>None</td>\n",
       "      <td>None</td>\n",
       "      <td>None</td>\n",
       "      <td>None</td>\n",
       "      <td>None</td>\n",
       "      <td>None</td>\n",
       "      <td>None</td>\n",
       "      <td>None</td>\n",
       "      <td>None</td>\n",
       "    </tr>\n",
       "  </tbody>\n",
       "</table>\n",
       "<p>5 rows × 319 columns</p>\n",
       "</div>"
      ],
      "text/plain": [
       "            1994-01 1994-02 1994-03 1994-04 1994-05 1994-06 1994-07 1994-08  \\\n",
       "state                                                                         \n",
       "uttarakhand   12.73    None    None    None   18.81    None    None    None   \n",
       "assam          4.62    None    None    None    None    None    None    None   \n",
       "ladakh         None    None    None    None    None    None    None    None   \n",
       "goa            5.02    None    None    None    6.65    None    None    None   \n",
       "lakshdweep     None    None    None    None    None    None    None    None   \n",
       "\n",
       "            1994-09 1994-10  ... 2019-10 2019-11 2019-12 2020-01 2020-02  \\\n",
       "state                        ...                                           \n",
       "uttarakhand    None    None  ...    None    None    None    None    None   \n",
       "assam          None    None  ...    4.59    None    None    None    None   \n",
       "ladakh         None    None  ...    None    None    None    None    None   \n",
       "goa            None    None  ...    None    None    None    None    None   \n",
       "lakshdweep     None    None  ...    None    None    None    None    None   \n",
       "\n",
       "            2020-03 2020-04 2020-05 2020-06 2020-07  \n",
       "state                                                \n",
       "uttarakhand    None    None    None    None    None  \n",
       "assam          2.28    None    None    3.08    None  \n",
       "ladakh         None    None    None    None    None  \n",
       "goa            None    None    None    None    None  \n",
       "lakshdweep     None    None    None    None    None  \n",
       "\n",
       "[5 rows x 319 columns]"
      ]
     },
     "execution_count": 7,
     "metadata": {},
     "output_type": "execute_result"
    }
   ],
   "source": [
    "df.head()"
   ]
  },
  {
   "cell_type": "code",
   "execution_count": 21,
   "metadata": {
    "execution": {
     "iopub.execute_input": "2020-07-25T18:14:12.095647Z",
     "iopub.status.busy": "2020-07-25T18:14:12.095205Z",
     "iopub.status.idle": "2020-07-25T18:14:12.102907Z",
     "shell.execute_reply": "2020-07-25T18:14:12.101680Z",
     "shell.execute_reply.started": "2020-07-25T18:14:12.095591Z"
    }
   },
   "outputs": [],
   "source": [
    "mnth=[]\n",
    "for i in range(26):\n",
    "    mnth.append(4+(12*i))\n",
    "    mnth.append(10+(12*i))\n",
    "mnth.append(mnth[-1]+6)"
   ]
  },
  {
   "cell_type": "code",
   "execution_count": 22,
   "metadata": {
    "execution": {
     "iopub.execute_input": "2020-07-25T18:14:13.150223Z",
     "iopub.status.busy": "2020-07-25T18:14:13.148834Z",
     "iopub.status.idle": "2020-07-25T18:14:13.172666Z",
     "shell.execute_reply": "2020-07-25T18:14:13.169402Z",
     "shell.execute_reply.started": "2020-07-25T18:14:13.149941Z"
    }
   },
   "outputs": [],
   "source": [
    "df_pre_post=df.iloc[:,mnth]"
   ]
  },
  {
   "cell_type": "code",
   "execution_count": 26,
   "metadata": {
    "execution": {
     "iopub.execute_input": "2020-07-25T18:15:01.622173Z",
     "iopub.status.busy": "2020-07-25T18:15:01.621888Z",
     "iopub.status.idle": "2020-07-25T18:15:01.629458Z",
     "shell.execute_reply": "2020-07-25T18:15:01.628758Z",
     "shell.execute_reply.started": "2020-07-25T18:15:01.622141Z"
    }
   },
   "outputs": [
    {
     "data": {
      "text/plain": [
       "(37, 53)"
      ]
     },
     "execution_count": 26,
     "metadata": {},
     "output_type": "execute_result"
    }
   ],
   "source": [
    "df_pre_post.shape"
   ]
  },
  {
   "cell_type": "code",
   "execution_count": 27,
   "metadata": {
    "execution": {
     "iopub.execute_input": "2020-07-25T18:24:12.594649Z",
     "iopub.status.busy": "2020-07-25T18:24:12.594084Z",
     "iopub.status.idle": "2020-07-25T18:24:13.042752Z",
     "shell.execute_reply": "2020-07-25T18:24:13.042130Z",
     "shell.execute_reply.started": "2020-07-25T18:24:12.594581Z"
    }
   },
   "outputs": [],
   "source": [
    "df = pd.read_excel('/home/sb/dev/Hackathons/sih/sih-raw-data/seasonal-fluctuation-block/( ANDRA PRADESH 2016.xls', sheet_name=1, usecols=\"B:G\", header=1)"
   ]
  },
  {
   "cell_type": "code",
   "execution_count": 28,
   "metadata": {
    "execution": {
     "iopub.execute_input": "2020-07-25T18:24:14.817150Z",
     "iopub.status.busy": "2020-07-25T18:24:14.814672Z",
     "iopub.status.idle": "2020-07-25T18:24:14.914560Z",
     "shell.execute_reply": "2020-07-25T18:24:14.913068Z",
     "shell.execute_reply.started": "2020-07-25T18:24:14.816946Z"
    }
   },
   "outputs": [
    {
     "data": {
      "text/html": [
       "<div>\n",
       "<style scoped>\n",
       "    .dataframe tbody tr th:only-of-type {\n",
       "        vertical-align: middle;\n",
       "    }\n",
       "\n",
       "    .dataframe tbody tr th {\n",
       "        vertical-align: top;\n",
       "    }\n",
       "\n",
       "    .dataframe thead th {\n",
       "        text-align: right;\n",
       "    }\n",
       "</style>\n",
       "<table border=\"1\" class=\"dataframe\">\n",
       "  <thead>\n",
       "    <tr style=\"text-align: right;\">\n",
       "      <th></th>\n",
       "      <th>State</th>\n",
       "      <th>District</th>\n",
       "      <th>Block</th>\n",
       "      <th>Station</th>\n",
       "      <th>Pre-Monsoon</th>\n",
       "      <th>Post-Monsoon</th>\n",
       "    </tr>\n",
       "  </thead>\n",
       "  <tbody>\n",
       "    <tr>\n",
       "      <th>0</th>\n",
       "      <td>ANDHRA PRADESH</td>\n",
       "      <td>ANANTAPUR</td>\n",
       "      <td>AMADAGUR</td>\n",
       "      <td>Amadagur-GW</td>\n",
       "      <td>13.26</td>\n",
       "      <td>18.13</td>\n",
       "    </tr>\n",
       "    <tr>\n",
       "      <th>1</th>\n",
       "      <td>ANDHRA PRADESH</td>\n",
       "      <td>ANANTAPUR</td>\n",
       "      <td>AMADAGUR</td>\n",
       "      <td>Mahammadabad-GW</td>\n",
       "      <td>11.14</td>\n",
       "      <td>12.54</td>\n",
       "    </tr>\n",
       "    <tr>\n",
       "      <th>2</th>\n",
       "      <td>ANDHRA PRADESH</td>\n",
       "      <td>ANANTAPUR</td>\n",
       "      <td>AMADAGUR</td>\n",
       "      <td>Pulagampalli-GW</td>\n",
       "      <td>5.46</td>\n",
       "      <td>5.17</td>\n",
       "    </tr>\n",
       "    <tr>\n",
       "      <th>3</th>\n",
       "      <td>ANDHRA PRADESH</td>\n",
       "      <td>ANANTAPUR</td>\n",
       "      <td>AMARAPURAM</td>\n",
       "      <td>Gorantla-DW13</td>\n",
       "      <td>7.90</td>\n",
       "      <td>7.67</td>\n",
       "    </tr>\n",
       "    <tr>\n",
       "      <th>4</th>\n",
       "      <td>ANDHRA PRADESH</td>\n",
       "      <td>ANANTAPUR</td>\n",
       "      <td>AMARAPURAM</td>\n",
       "      <td>Gorantla-PZ</td>\n",
       "      <td>22.05</td>\n",
       "      <td>20.95</td>\n",
       "    </tr>\n",
       "    <tr>\n",
       "      <th>...</th>\n",
       "      <td>...</td>\n",
       "      <td>...</td>\n",
       "      <td>...</td>\n",
       "      <td>...</td>\n",
       "      <td>...</td>\n",
       "      <td>...</td>\n",
       "    </tr>\n",
       "    <tr>\n",
       "      <th>1764</th>\n",
       "      <td>ANDHRA PRADESH</td>\n",
       "      <td>Y.S.R.</td>\n",
       "      <td>VEMULA</td>\n",
       "      <td>Tallapallli-GW</td>\n",
       "      <td>9.52</td>\n",
       "      <td>6.43</td>\n",
       "    </tr>\n",
       "    <tr>\n",
       "      <th>1765</th>\n",
       "      <td>ANDHRA PRADESH</td>\n",
       "      <td>Y.S.R.</td>\n",
       "      <td>VEMULA</td>\n",
       "      <td>Vemula-GW</td>\n",
       "      <td>12.34</td>\n",
       "      <td>14.32</td>\n",
       "    </tr>\n",
       "    <tr>\n",
       "      <th>1766</th>\n",
       "      <td>ANDHRA PRADESH</td>\n",
       "      <td>Y.S.R.</td>\n",
       "      <td>VONTIMITTA</td>\n",
       "      <td>C.Kotha palle-GW</td>\n",
       "      <td>5.10</td>\n",
       "      <td>4.45</td>\n",
       "    </tr>\n",
       "    <tr>\n",
       "      <th>1767</th>\n",
       "      <td>ANDHRA PRADESH</td>\n",
       "      <td>Y.S.R.</td>\n",
       "      <td>VONTIMITTA</td>\n",
       "      <td>Mantapampalli-GW</td>\n",
       "      <td>6.66</td>\n",
       "      <td>8.25</td>\n",
       "    </tr>\n",
       "    <tr>\n",
       "      <th>1768</th>\n",
       "      <td>ANDHRA PRADESH</td>\n",
       "      <td>Y.S.R.</td>\n",
       "      <td>YERRAGUNTLA</td>\n",
       "      <td>Chilamkur-GW</td>\n",
       "      <td>8.20</td>\n",
       "      <td>9.10</td>\n",
       "    </tr>\n",
       "  </tbody>\n",
       "</table>\n",
       "<p>1769 rows × 6 columns</p>\n",
       "</div>"
      ],
      "text/plain": [
       "               State   District        Block           Station  Pre-Monsoon  \\\n",
       "0     ANDHRA PRADESH  ANANTAPUR     AMADAGUR       Amadagur-GW        13.26   \n",
       "1     ANDHRA PRADESH  ANANTAPUR     AMADAGUR   Mahammadabad-GW        11.14   \n",
       "2     ANDHRA PRADESH  ANANTAPUR     AMADAGUR   Pulagampalli-GW         5.46   \n",
       "3     ANDHRA PRADESH  ANANTAPUR   AMARAPURAM     Gorantla-DW13         7.90   \n",
       "4     ANDHRA PRADESH  ANANTAPUR   AMARAPURAM       Gorantla-PZ        22.05   \n",
       "...              ...        ...          ...               ...          ...   \n",
       "1764  ANDHRA PRADESH     Y.S.R.       VEMULA    Tallapallli-GW         9.52   \n",
       "1765  ANDHRA PRADESH     Y.S.R.       VEMULA         Vemula-GW        12.34   \n",
       "1766  ANDHRA PRADESH     Y.S.R.   VONTIMITTA  C.Kotha palle-GW         5.10   \n",
       "1767  ANDHRA PRADESH     Y.S.R.   VONTIMITTA  Mantapampalli-GW         6.66   \n",
       "1768  ANDHRA PRADESH     Y.S.R.  YERRAGUNTLA      Chilamkur-GW         8.20   \n",
       "\n",
       "      Post-Monsoon  \n",
       "0            18.13  \n",
       "1            12.54  \n",
       "2             5.17  \n",
       "3             7.67  \n",
       "4            20.95  \n",
       "...            ...  \n",
       "1764          6.43  \n",
       "1765         14.32  \n",
       "1766          4.45  \n",
       "1767          8.25  \n",
       "1768          9.10  \n",
       "\n",
       "[1769 rows x 6 columns]"
      ]
     },
     "execution_count": 28,
     "metadata": {},
     "output_type": "execute_result"
    }
   ],
   "source": [
    "df"
   ]
  },
  {
   "cell_type": "code",
   "execution_count": 30,
   "metadata": {
    "execution": {
     "iopub.execute_input": "2020-07-25T18:24:37.941417Z",
     "iopub.status.busy": "2020-07-25T18:24:37.941058Z",
     "iopub.status.idle": "2020-07-25T18:24:37.949748Z",
     "shell.execute_reply": "2020-07-25T18:24:37.949073Z",
     "shell.execute_reply.started": "2020-07-25T18:24:37.941373Z"
    }
   },
   "outputs": [
    {
     "data": {
      "text/plain": [
       "10.804284906726963"
      ]
     },
     "execution_count": 30,
     "metadata": {},
     "output_type": "execute_result"
    }
   ],
   "source": [
    "df['Pre-Monsoon'].mean()"
   ]
  },
  {
   "cell_type": "code",
   "execution_count": null,
   "metadata": {},
   "outputs": [],
   "source": []
  }
 ],
 "metadata": {
  "kernelspec": {
   "display_name": "Python [conda env:sih]",
   "language": "python",
   "name": "conda-env-sih-py"
  },
  "language_info": {
   "codemirror_mode": {
    "name": "ipython",
    "version": 3
   },
   "file_extension": ".py",
   "mimetype": "text/x-python",
   "name": "python",
   "nbconvert_exporter": "python",
   "pygments_lexer": "ipython3",
   "version": "3.8.3"
  },
  "widgets": {
   "application/vnd.jupyter.widget-state+json": {
    "state": {},
    "version_major": 2,
    "version_minor": 0
   }
  }
 },
 "nbformat": 4,
 "nbformat_minor": 4
}
