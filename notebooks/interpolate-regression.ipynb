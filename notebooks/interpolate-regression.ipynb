{
 "cells": [
  {
   "cell_type": "code",
   "execution_count": 1,
   "metadata": {
    "execution": {
     "iopub.execute_input": "2020-07-31T08:50:11.629583Z",
     "iopub.status.busy": "2020-07-31T08:50:11.629278Z",
     "iopub.status.idle": "2020-07-31T08:50:11.659470Z",
     "shell.execute_reply": "2020-07-31T08:50:11.657326Z",
     "shell.execute_reply.started": "2020-07-31T08:50:11.629548Z"
    }
   },
   "outputs": [
    {
     "name": "stdout",
     "output_type": "stream",
     "text": [
      "INFO: Pandarallel will run on 4 workers.\n",
      "INFO: Pandarallel will use Memory file system to transfer data between the main process and workers.\n"
     ]
    }
   ],
   "source": [
    "import pandas as pd\n",
    "import glob\n",
    "import numpy as np\n",
    "import re\n",
    "from tqdm.auto import tqdm\n",
    "import pickle\n",
    "from pandarallel import pandarallel\n",
    "import re\n",
    "import plotly.graph_objects as go\n",
    "\n",
    "pandarallel.initialize()"
   ]
  },
  {
   "cell_type": "code",
   "execution_count": 3,
   "metadata": {
    "execution": {
     "iopub.execute_input": "2020-07-31T08:50:24.782160Z",
     "iopub.status.busy": "2020-07-31T08:50:24.781847Z",
     "iopub.status.idle": "2020-07-31T08:50:24.785978Z",
     "shell.execute_reply": "2020-07-31T08:50:24.785175Z",
     "shell.execute_reply.started": "2020-07-31T08:50:24.782123Z"
    }
   },
   "outputs": [],
   "source": [
    "data_in_comp = \"../data/comp/\""
   ]
  },
  {
   "cell_type": "code",
   "execution_count": 4,
   "metadata": {
    "execution": {
     "iopub.execute_input": "2020-07-31T08:50:25.608158Z",
     "iopub.status.busy": "2020-07-31T08:50:25.607636Z",
     "iopub.status.idle": "2020-07-31T08:50:25.714153Z",
     "shell.execute_reply": "2020-07-31T08:50:25.713065Z",
     "shell.execute_reply.started": "2020-07-31T08:50:25.608097Z"
    }
   },
   "outputs": [],
   "source": [
    "df_parent = pd.read_parquet(data_in_comp + r\"gw-block-pre-post.parquet.gzip\")"
   ]
  },
  {
   "cell_type": "code",
   "execution_count": 7,
   "metadata": {
    "execution": {
     "iopub.execute_input": "2020-07-31T14:29:12.699642Z",
     "iopub.status.busy": "2020-07-31T14:29:12.699326Z",
     "iopub.status.idle": "2020-07-31T14:29:12.742111Z",
     "shell.execute_reply": "2020-07-31T14:29:12.741286Z",
     "shell.execute_reply.started": "2020-07-31T14:29:12.699606Z"
    }
   },
   "outputs": [
    {
     "data": {
      "text/plain": [
       "[0,\n",
       " 0,\n",
       " 0,\n",
       " 0,\n",
       " 1197,\n",
       " 1197,\n",
       " 1197,\n",
       " 1045,\n",
       " 1045,\n",
       " 1045,\n",
       " 2028,\n",
       " 2028,\n",
       " 2028,\n",
       " 1426,\n",
       " 1426,\n",
       " 1426,\n",
       " 980,\n",
       " 980,\n",
       " 980,\n",
       " 1416,\n",
       " 1416,\n",
       " 1416,\n",
       " 1243,\n",
       " 1243,\n",
       " 1243,\n",
       " 1598,\n",
       " 1598,\n",
       " 1598,\n",
       " 1370,\n",
       " 1370,\n",
       " 1370,\n",
       " 1323,\n",
       " 1323,\n",
       " 1323,\n",
       " 1199,\n",
       " 1199,\n",
       " 1199,\n",
       " 1025,\n",
       " 1025,\n",
       " 1025,\n",
       " 1506,\n",
       " 1506,\n",
       " 1506,\n",
       " 1792,\n",
       " 1792,\n",
       " 1792,\n",
       " 1252,\n",
       " 1252,\n",
       " 1252,\n",
       " 1193,\n",
       " 1193,\n",
       " 1193,\n",
       " 1113,\n",
       " 1113,\n",
       " 1113,\n",
       " 1346,\n",
       " 1346,\n",
       " 1346,\n",
       " 2651,\n",
       " 2651,\n",
       " 2651,\n",
       " 706,\n",
       " 706,\n",
       " 706,\n",
       " 5061,\n",
       " 5061,\n",
       " 5061,\n",
       " 4897,\n",
       " 4897,\n",
       " 4897,\n",
       " 1119,\n",
       " 1119,\n",
       " 1119,\n",
       " 1021,\n",
       " 1021,\n",
       " 1021,\n",
       " 1511,\n",
       " 1511,\n",
       " 1511,\n",
       " 849,\n",
       " 849,\n",
       " 849,\n",
       " 4683,\n",
       " 5369,\n",
       " 4683,\n",
       " 0]"
      ]
     },
     "execution_count": 7,
     "metadata": {},
     "output_type": "execute_result"
    }
   ],
   "source": [
    "list(df_parent.isna().sum())"
   ]
  },
  {
   "cell_type": "code",
   "execution_count": null,
   "metadata": {},
   "outputs": [],
   "source": []
  }
 ],
 "metadata": {
  "kernelspec": {
   "display_name": "Python [conda env:sih]",
   "language": "python",
   "name": "conda-env-sih-py"
  },
  "language_info": {
   "codemirror_mode": {
    "name": "ipython",
    "version": 3
   },
   "file_extension": ".py",
   "mimetype": "text/x-python",
   "name": "python",
   "nbconvert_exporter": "python",
   "pygments_lexer": "ipython3",
   "version": "3.8.3"
  },
  "widgets": {
   "application/vnd.jupyter.widget-state+json": {
    "state": {},
    "version_major": 2,
    "version_minor": 0
   }
  }
 },
 "nbformat": 4,
 "nbformat_minor": 4
}
