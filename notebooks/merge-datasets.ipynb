{
 "cells": [
  {
   "cell_type": "code",
   "execution_count": 1,
   "metadata": {
    "execution": {
     "iopub.execute_input": "2020-07-09T13:10:06.805119Z",
     "iopub.status.busy": "2020-07-09T13:10:06.804834Z",
     "iopub.status.idle": "2020-07-09T13:10:07.043212Z",
     "shell.execute_reply": "2020-07-09T13:10:07.042548Z",
     "shell.execute_reply.started": "2020-07-09T13:10:06.805092Z"
    }
   },
   "outputs": [],
   "source": [
    "import pandas as pd\n",
    "import glob\n",
    "import numpy as np"
   ]
  },
  {
   "cell_type": "markdown",
   "metadata": {
    "collapsed": "true"
   },
   "source": [
    "### GroundWater"
   ]
  },
  {
   "cell_type": "code",
   "execution_count": 2,
   "metadata": {
    "execution": {
     "iopub.execute_input": "2020-07-09T13:10:09.527977Z",
     "iopub.status.busy": "2020-07-09T13:10:09.526861Z",
     "iopub.status.idle": "2020-07-09T13:10:09.538239Z",
     "shell.execute_reply": "2020-07-09T13:10:09.535220Z",
     "shell.execute_reply.started": "2020-07-09T13:10:09.527885Z"
    }
   },
   "outputs": [],
   "source": [
    "# ground-water: unit =mm"
   ]
  },
  {
   "cell_type": "code",
   "execution_count": 3,
   "metadata": {
    "execution": {
     "iopub.execute_input": "2020-07-09T13:10:11.072297Z",
     "iopub.status.busy": "2020-07-09T13:10:11.071842Z",
     "iopub.status.idle": "2020-07-09T13:10:16.314978Z",
     "shell.execute_reply": "2020-07-09T13:10:16.314360Z",
     "shell.execute_reply.started": "2020-07-09T13:10:11.072261Z"
    }
   },
   "outputs": [],
   "source": [
    "gd_dfs = []\n",
    "for f in glob.glob(\"../data/groundwater/*\"):\n",
    "    df = pd.read_csv(f, header=1)\n",
    "    df[\"loc\"] = df.apply(\n",
    "        lambda x: x[\"Unnamed: 0\"] + \"-\" + x[\"Unnamed: 1\"], axis=1\n",
    "    )\n",
    "    df = df.iloc[1:, 2:]\n",
    "    df = df.set_index(\"loc\").T\n",
    "    df.index = pd.to_datetime(df.index)\n",
    "    gd_dfs.append(df)\n",
    "df = pd.concat(gd_dfs)\n",
    "df = df.sort_index()\n",
    "df = df.replace(\"-\", np.NaN)\n",
    "df = df.apply(pd.to_numeric)\n",
    "df = df * 1000\n",
    "df[\"date\"] = df.index\n",
    "cols = df.columns.tolist()\n",
    "cols = cols[-1:] + cols[:-1]\n",
    "df = df[cols]"
   ]
  },
  {
   "cell_type": "code",
   "execution_count": 5,
   "metadata": {
    "execution": {
     "iopub.execute_input": "2020-07-09T13:10:39.256588Z",
     "iopub.status.busy": "2020-07-09T13:10:39.254393Z",
     "iopub.status.idle": "2020-07-09T13:10:42.640733Z",
     "shell.execute_reply": "2020-07-09T13:10:42.640120Z",
     "shell.execute_reply.started": "2020-07-09T13:10:39.256449Z"
    }
   },
   "outputs": [],
   "source": [
    "df.to_csv(r\"../data/groundwater.csv\", index=False)"
   ]
  },
  {
   "cell_type": "markdown",
   "metadata": {},
   "source": [
    "### Rainfall"
   ]
  },
  {
   "cell_type": "code",
   "execution_count": 9,
   "metadata": {
    "execution": {
     "iopub.execute_input": "2020-07-09T13:01:26.286590Z",
     "iopub.status.busy": "2020-07-09T13:01:26.285898Z",
     "iopub.status.idle": "2020-07-09T13:01:26.292300Z",
     "shell.execute_reply": "2020-07-09T13:01:26.291005Z",
     "shell.execute_reply.started": "2020-07-09T13:01:26.286527Z"
    }
   },
   "outputs": [],
   "source": [
    "# Rainfall in mm"
   ]
  },
  {
   "cell_type": "code",
   "execution_count": 32,
   "metadata": {
    "execution": {
     "iopub.execute_input": "2020-07-09T13:45:11.967850Z",
     "iopub.status.busy": "2020-07-09T13:45:11.967162Z",
     "iopub.status.idle": "2020-07-09T13:45:19.399278Z",
     "shell.execute_reply": "2020-07-09T13:45:19.398547Z",
     "shell.execute_reply.started": "2020-07-09T13:45:11.967779Z"
    }
   },
   "outputs": [],
   "source": [
    "gd_dfs = []\n",
    "for f in glob.glob(\"../data/rainfall/*\"):\n",
    "    df = pd.read_csv(f, header=1)"
   ]
  },
  {
   "cell_type": "code",
   "execution_count": 27,
   "metadata": {
    "execution": {
     "iopub.execute_input": "2020-07-09T13:43:25.453836Z",
     "iopub.status.busy": "2020-07-09T13:43:25.453272Z",
     "iopub.status.idle": "2020-07-09T13:43:25.547352Z",
     "shell.execute_reply": "2020-07-09T13:43:25.546536Z",
     "shell.execute_reply.started": "2020-07-09T13:43:25.453785Z"
    }
   },
   "outputs": [],
   "source": [
    "df=df.replace('-',np.NaN)"
   ]
  },
  {
   "cell_type": "code",
   "execution_count": 28,
   "metadata": {
    "execution": {
     "iopub.execute_input": "2020-07-09T13:43:25.549547Z",
     "iopub.status.busy": "2020-07-09T13:43:25.549062Z",
     "iopub.status.idle": "2020-07-09T13:43:25.649554Z",
     "shell.execute_reply": "2020-07-09T13:43:25.635161Z",
     "shell.execute_reply.started": "2020-07-09T13:43:25.549506Z"
    }
   },
   "outputs": [
    {
     "data": {
      "text/plain": [
       "Unnamed: 0       0\n",
       "Unnamed: 1       0\n",
       "02 Jan 2009    629\n",
       "03 Jan 2009    629\n",
       "04 Jan 2009    156\n",
       "              ... \n",
       "28 Dec 2009    629\n",
       "29 Dec 2009    629\n",
       "30 Dec 2009    629\n",
       "31 Dec 2009    588\n",
       "01 Jan 2010    611\n",
       "Length: 367, dtype: int64"
      ]
     },
     "execution_count": 28,
     "metadata": {},
     "output_type": "execute_result"
    }
   ],
   "source": [
    "df.isna().sum()"
   ]
  },
  {
   "cell_type": "code",
   "execution_count": 31,
   "metadata": {
    "execution": {
     "iopub.execute_input": "2020-07-09T13:43:47.593944Z",
     "iopub.status.busy": "2020-07-09T13:43:47.593338Z",
     "iopub.status.idle": "2020-07-09T13:43:48.407652Z",
     "shell.execute_reply": "2020-07-09T13:43:48.406869Z",
     "shell.execute_reply.started": "2020-07-09T13:43:47.593889Z"
    }
   },
   "outputs": [
    {
     "data": {
      "text/html": [
       "<div>\n",
       "<style scoped>\n",
       "    .dataframe tbody tr th:only-of-type {\n",
       "        vertical-align: middle;\n",
       "    }\n",
       "\n",
       "    .dataframe tbody tr th {\n",
       "        vertical-align: top;\n",
       "    }\n",
       "\n",
       "    .dataframe thead th {\n",
       "        text-align: right;\n",
       "    }\n",
       "</style>\n",
       "<table border=\"1\" class=\"dataframe\">\n",
       "  <thead>\n",
       "    <tr style=\"text-align: right;\">\n",
       "      <th></th>\n",
       "      <th>Unnamed: 0</th>\n",
       "      <th>Unnamed: 1</th>\n",
       "      <th>02 Jan 2009</th>\n",
       "      <th>03 Jan 2009</th>\n",
       "      <th>04 Jan 2009</th>\n",
       "      <th>05 Jan 2009</th>\n",
       "      <th>06 Jan 2009</th>\n",
       "      <th>07 Jan 2009</th>\n",
       "      <th>08 Jan 2009</th>\n",
       "      <th>09 Jan 2009</th>\n",
       "      <th>...</th>\n",
       "      <th>23 Dec 2009</th>\n",
       "      <th>24 Dec 2009</th>\n",
       "      <th>25 Dec 2009</th>\n",
       "      <th>26 Dec 2009</th>\n",
       "      <th>27 Dec 2009</th>\n",
       "      <th>28 Dec 2009</th>\n",
       "      <th>29 Dec 2009</th>\n",
       "      <th>30 Dec 2009</th>\n",
       "      <th>31 Dec 2009</th>\n",
       "      <th>01 Jan 2010</th>\n",
       "    </tr>\n",
       "  </thead>\n",
       "  <tbody>\n",
       "    <tr>\n",
       "      <th>count</th>\n",
       "      <td>630</td>\n",
       "      <td>630</td>\n",
       "      <td>1</td>\n",
       "      <td>1</td>\n",
       "      <td>474</td>\n",
       "      <td>55</td>\n",
       "      <td>64</td>\n",
       "      <td>1</td>\n",
       "      <td>1</td>\n",
       "      <td>1</td>\n",
       "      <td>...</td>\n",
       "      <td>1</td>\n",
       "      <td>1</td>\n",
       "      <td>1</td>\n",
       "      <td>1</td>\n",
       "      <td>1</td>\n",
       "      <td>1</td>\n",
       "      <td>1</td>\n",
       "      <td>1</td>\n",
       "      <td>42</td>\n",
       "      <td>19</td>\n",
       "    </tr>\n",
       "    <tr>\n",
       "      <th>unique</th>\n",
       "      <td>38</td>\n",
       "      <td>620</td>\n",
       "      <td>1</td>\n",
       "      <td>1</td>\n",
       "      <td>385</td>\n",
       "      <td>52</td>\n",
       "      <td>59</td>\n",
       "      <td>1</td>\n",
       "      <td>1</td>\n",
       "      <td>1</td>\n",
       "      <td>...</td>\n",
       "      <td>1</td>\n",
       "      <td>1</td>\n",
       "      <td>1</td>\n",
       "      <td>1</td>\n",
       "      <td>1</td>\n",
       "      <td>1</td>\n",
       "      <td>1</td>\n",
       "      <td>1</td>\n",
       "      <td>40</td>\n",
       "      <td>19</td>\n",
       "    </tr>\n",
       "    <tr>\n",
       "      <th>top</th>\n",
       "      <td>UTTAR PRADESH</td>\n",
       "      <td>WEST</td>\n",
       "      <td>Level (m)</td>\n",
       "      <td>Level (m)</td>\n",
       "      <td>7</td>\n",
       "      <td>4.49</td>\n",
       "      <td>3.77</td>\n",
       "      <td>Level (m)</td>\n",
       "      <td>Level (m)</td>\n",
       "      <td>Level (m)</td>\n",
       "      <td>...</td>\n",
       "      <td>Level (m)</td>\n",
       "      <td>Level (m)</td>\n",
       "      <td>Level (m)</td>\n",
       "      <td>Level (m)</td>\n",
       "      <td>Level (m)</td>\n",
       "      <td>Level (m)</td>\n",
       "      <td>Level (m)</td>\n",
       "      <td>Level (m)</td>\n",
       "      <td>5.56</td>\n",
       "      <td>4.47</td>\n",
       "    </tr>\n",
       "    <tr>\n",
       "      <th>freq</th>\n",
       "      <td>71</td>\n",
       "      <td>2</td>\n",
       "      <td>1</td>\n",
       "      <td>1</td>\n",
       "      <td>5</td>\n",
       "      <td>2</td>\n",
       "      <td>3</td>\n",
       "      <td>1</td>\n",
       "      <td>1</td>\n",
       "      <td>1</td>\n",
       "      <td>...</td>\n",
       "      <td>1</td>\n",
       "      <td>1</td>\n",
       "      <td>1</td>\n",
       "      <td>1</td>\n",
       "      <td>1</td>\n",
       "      <td>1</td>\n",
       "      <td>1</td>\n",
       "      <td>1</td>\n",
       "      <td>2</td>\n",
       "      <td>1</td>\n",
       "    </tr>\n",
       "  </tbody>\n",
       "</table>\n",
       "<p>4 rows × 367 columns</p>\n",
       "</div>"
      ],
      "text/plain": [
       "           Unnamed: 0 Unnamed: 1 02 Jan 2009 03 Jan 2009 04 Jan 2009  \\\n",
       "count             630        630           1           1         474   \n",
       "unique             38        620           1           1         385   \n",
       "top     UTTAR PRADESH       WEST   Level (m)   Level (m)           7   \n",
       "freq               71          2           1           1           5   \n",
       "\n",
       "       05 Jan 2009 06 Jan 2009 07 Jan 2009 08 Jan 2009 09 Jan 2009  ...  \\\n",
       "count           55          64           1           1           1  ...   \n",
       "unique          52          59           1           1           1  ...   \n",
       "top           4.49        3.77   Level (m)   Level (m)   Level (m)  ...   \n",
       "freq             2           3           1           1           1  ...   \n",
       "\n",
       "       23 Dec 2009 24 Dec 2009 25 Dec 2009 26 Dec 2009 27 Dec 2009  \\\n",
       "count            1           1           1           1           1   \n",
       "unique           1           1           1           1           1   \n",
       "top      Level (m)   Level (m)   Level (m)   Level (m)   Level (m)   \n",
       "freq             1           1           1           1           1   \n",
       "\n",
       "       28 Dec 2009 29 Dec 2009 30 Dec 2009 31 Dec 2009 01 Jan 2010  \n",
       "count            1           1           1          42          19  \n",
       "unique           1           1           1          40          19  \n",
       "top      Level (m)   Level (m)   Level (m)        5.56        4.47  \n",
       "freq             1           1           1           2           1  \n",
       "\n",
       "[4 rows x 367 columns]"
      ]
     },
     "execution_count": 31,
     "metadata": {},
     "output_type": "execute_result"
    }
   ],
   "source": [
    "df.describe()"
   ]
  },
  {
   "cell_type": "code",
   "execution_count": null,
   "metadata": {},
   "outputs": [],
   "source": []
  }
 ],
 "metadata": {
  "kernelspec": {
   "display_name": "Python 3",
   "language": "python",
   "name": "python3"
  },
  "language_info": {
   "codemirror_mode": {
    "name": "ipython",
    "version": 3
   },
   "file_extension": ".py",
   "mimetype": "text/x-python",
   "name": "python",
   "nbconvert_exporter": "python",
   "pygments_lexer": "ipython3",
   "version": "3.6.10"
  },
  "widgets": {
   "application/vnd.jupyter.widget-state+json": {
    "state": {},
    "version_major": 2,
    "version_minor": 0
   }
  }
 },
 "nbformat": 4,
 "nbformat_minor": 4
}
