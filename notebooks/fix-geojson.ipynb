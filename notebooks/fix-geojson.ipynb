{
 "cells": [
  {
   "cell_type": "code",
   "execution_count": 1,
   "metadata": {
    "execution": {
     "iopub.execute_input": "2020-07-27T08:44:05.138942Z",
     "iopub.status.busy": "2020-07-27T08:44:05.138733Z",
     "iopub.status.idle": "2020-07-27T08:44:05.457157Z",
     "shell.execute_reply": "2020-07-27T08:44:05.456623Z",
     "shell.execute_reply.started": "2020-07-27T08:44:05.138919Z"
    }
   },
   "outputs": [],
   "source": [
    "import json\n",
    "import pandas as pd"
   ]
  },
  {
   "cell_type": "code",
   "execution_count": 2,
   "metadata": {
    "execution": {
     "iopub.execute_input": "2020-07-27T08:44:05.458885Z",
     "iopub.status.busy": "2020-07-27T08:44:05.458579Z",
     "iopub.status.idle": "2020-07-27T08:44:05.462957Z",
     "shell.execute_reply": "2020-07-27T08:44:05.461961Z",
     "shell.execute_reply.started": "2020-07-27T08:44:05.458849Z"
    }
   },
   "outputs": [],
   "source": [
    "data_in = \"../../sih-raw-data/geojson/\"\n",
    "data_out = \"../data/geojson/\""
   ]
  },
  {
   "cell_type": "code",
   "execution_count": 3,
   "metadata": {
    "execution": {
     "iopub.execute_input": "2020-07-27T08:44:05.465261Z",
     "iopub.status.busy": "2020-07-27T08:44:05.464932Z",
     "iopub.status.idle": "2020-07-27T08:44:08.760900Z",
     "shell.execute_reply": "2020-07-27T08:44:08.759157Z",
     "shell.execute_reply.started": "2020-07-27T08:44:05.465220Z"
    }
   },
   "outputs": [],
   "source": [
    "with open(data_in + r\"gadm36_IND_1.json\", \"r\") as f:\n",
    "    states = json.load(f)\n",
    "for i in states[\"features\"]:\n",
    "    v = i[\"properties\"][\"NAME_1\"].lower()\n",
    "    if v == \"nct of delhi\":\n",
    "        i[\"id\"] = \"delhi\"\n",
    "    elif v == \"jammu and kashmir\":\n",
    "        i[\"id\"] = \"jammu & kashmir\"\n",
    "    elif v == \"puducherry\":\n",
    "        i[\"id\"] = \"pondicherry\"\n",
    "    elif v == \"andaman and nicobar\":\n",
    "        i[\"id\"] = \"andaman & nicobar\"\n",
    "    elif v == \"dadra and nagar haveli\":\n",
    "        i[\"id\"] = \"dadra and nagar hav\"\n",
    "    elif v == \"tamil nadu\":\n",
    "        i[\"id\"] = \"tamilnadu\"\n",
    "    else:\n",
    "        i[\"id\"] = v\n",
    "with open(data_out + r\"gadm36_IND_1_id.json\", \"w\") as f:\n",
    "    json.dump(states, f)"
   ]
  },
  {
   "cell_type": "code",
   "execution_count": 4,
   "metadata": {
    "execution": {
     "iopub.execute_input": "2020-07-27T08:44:08.764811Z",
     "iopub.status.busy": "2020-07-27T08:44:08.763304Z",
     "iopub.status.idle": "2020-07-27T08:44:13.435682Z",
     "shell.execute_reply": "2020-07-27T08:44:13.433531Z",
     "shell.execute_reply.started": "2020-07-27T08:44:08.764699Z"
    }
   },
   "outputs": [],
   "source": [
    "with open(data_in + r\"gadm36_IND_2.json\", \"r\") as f:\n",
    "    districts = json.load(f)\n",
    "for i in districts[\"features\"]:\n",
    "    v = i[\"properties\"][\"NAME_2\"].lower()\n",
    "    if v == \"allahabad\":\n",
    "        i[\"id\"] = \"prayagraj\"\n",
    "    elif v == \"mumbai city\":\n",
    "        i[\"id\"] = \"mumbai\"\n",
    "    elif v == \"north and middle andaman\":\n",
    "        i[\"id\"] = \"north & middle andaman\"\n",
    "    elif v == \"dadra and nagar haveli\":\n",
    "        i[\"id\"] = \"dadra & nagar haveli\"\n",
    "    else:\n",
    "        i[\"id\"] = v\n",
    "with open(data_out + r\"gadm36_IND_2_id.json\", \"w\") as f:\n",
    "    json.dump(districts, f)"
   ]
  },
  {
   "cell_type": "code",
   "execution_count": 5,
   "metadata": {
    "execution": {
     "iopub.execute_input": "2020-07-27T08:44:13.439226Z",
     "iopub.status.busy": "2020-07-27T08:44:13.438400Z",
     "iopub.status.idle": "2020-07-27T08:44:16.360243Z",
     "shell.execute_reply": "2020-07-27T08:44:16.358542Z",
     "shell.execute_reply.started": "2020-07-27T08:44:13.439104Z"
    }
   },
   "outputs": [],
   "source": [
    "with open(data_in + r\"gadm36_IND_0.json\", \"r\") as f:\n",
    "    india = json.load(f)\n",
    "for i in india[\"features\"]:\n",
    "    i[\"id\"] = i[\"properties\"][\"NAME_0\"].lower()\n",
    "with open(data_out + r\"gadm36_IND_0_id.json\", \"w\") as f:\n",
    "    json.dump(india, f)"
   ]
  },
  {
   "cell_type": "code",
   "execution_count": 6,
   "metadata": {
    "execution": {
     "iopub.execute_input": "2020-07-27T08:44:16.362920Z",
     "iopub.status.busy": "2020-07-27T08:44:16.362471Z",
     "iopub.status.idle": "2020-07-27T08:44:23.218754Z",
     "shell.execute_reply": "2020-07-27T08:44:23.216911Z",
     "shell.execute_reply.started": "2020-07-27T08:44:16.362874Z"
    }
   },
   "outputs": [],
   "source": [
    "with open(data_in + r\"gadm36_IND_3.json\", \"r\") as f:\n",
    "    blocks = json.load(f)\n",
    "for i in blocks[\"features\"]:\n",
    "    v = i[\"properties\"][\"NAME_3\"].lower()\n",
    "    if v == \"allahabad\":\n",
    "        i[\"id\"] = \"prayagraj\"\n",
    "    else:\n",
    "        i[\"id\"] = v\n",
    "with open(data_out + r\"gadm36_IND_3_id.json\", \"w\") as f:\n",
    "    json.dump(blocks, f)"
   ]
  },
  {
   "cell_type": "markdown",
   "metadata": {},
   "source": [
    "## Rough"
   ]
  },
  {
   "cell_type": "code",
   "execution_count": 7,
   "metadata": {
    "execution": {
     "iopub.execute_input": "2020-07-27T08:44:23.222833Z",
     "iopub.status.busy": "2020-07-27T08:44:23.221933Z",
     "iopub.status.idle": "2020-07-27T08:44:25.590909Z",
     "shell.execute_reply": "2020-07-27T08:44:25.589895Z",
     "shell.execute_reply.started": "2020-07-27T08:44:23.222719Z"
    }
   },
   "outputs": [],
   "source": [
    "with open(data_out + r\"gadm36_IND_2_id.json\", \"r\") as f:\n",
    "    districts_json = json.load(f)\n",
    "with open(data_out + r\"gadm36_IND_3_id.json\", \"r\") as f:\n",
    "    blocks_json = json.load(f)"
   ]
  },
  {
   "cell_type": "code",
   "execution_count": 8,
   "metadata": {
    "execution": {
     "iopub.execute_input": "2020-07-27T08:44:25.593299Z",
     "iopub.status.busy": "2020-07-27T08:44:25.592955Z",
     "iopub.status.idle": "2020-07-27T08:44:25.744442Z",
     "shell.execute_reply": "2020-07-27T08:44:25.743856Z",
     "shell.execute_reply.started": "2020-07-27T08:44:25.593256Z"
    }
   },
   "outputs": [],
   "source": [
    "df = pd.read_parquet(r\"../data/comp/gw-block-pre-post.parquet.gzip\")"
   ]
  },
  {
   "cell_type": "code",
   "execution_count": 9,
   "metadata": {
    "execution": {
     "iopub.execute_input": "2020-07-27T08:44:25.750541Z",
     "iopub.status.busy": "2020-07-27T08:44:25.746887Z",
     "iopub.status.idle": "2020-07-27T08:44:25.921347Z",
     "shell.execute_reply": "2020-07-27T08:44:25.920506Z",
     "shell.execute_reply.started": "2020-07-27T08:44:25.750383Z"
    }
   },
   "outputs": [],
   "source": [
    "districts = list(set(list(df[\"district\"])))\n",
    "blocks = list(set(list(df[\"block\"])))"
   ]
  },
  {
   "cell_type": "code",
   "execution_count": 10,
   "metadata": {
    "execution": {
     "iopub.execute_input": "2020-07-27T08:44:25.923397Z",
     "iopub.status.busy": "2020-07-27T08:44:25.922659Z",
     "iopub.status.idle": "2020-07-27T08:44:26.034411Z",
     "shell.execute_reply": "2020-07-27T08:44:26.032990Z",
     "shell.execute_reply.started": "2020-07-27T08:44:25.923347Z"
    }
   },
   "outputs": [],
   "source": [
    "districts_not_found = []\n",
    "blocks_not_found = []"
   ]
  },
  {
   "cell_type": "code",
   "execution_count": 11,
   "metadata": {
    "execution": {
     "iopub.execute_input": "2020-07-27T08:44:26.047003Z",
     "iopub.status.busy": "2020-07-27T08:44:26.045589Z",
     "iopub.status.idle": "2020-07-27T08:44:26.251727Z",
     "shell.execute_reply": "2020-07-27T08:44:26.249487Z",
     "shell.execute_reply.started": "2020-07-27T08:44:26.046848Z"
    },
    "scrolled": true
   },
   "outputs": [],
   "source": [
    "for i in districts:\n",
    "    found = False\n",
    "    for j in districts_json[\"features\"]:\n",
    "        if j[\"id\"] == i:\n",
    "            found = True\n",
    "            break\n",
    "    if not found:\n",
    "        districts_not_found.append(i)\n",
    "df_not_districts = pd.DataFrame({\"districts\": districts_not_found})"
   ]
  },
  {
   "cell_type": "code",
   "execution_count": 12,
   "metadata": {
    "execution": {
     "iopub.execute_input": "2020-07-27T08:44:26.256682Z",
     "iopub.status.busy": "2020-07-27T08:44:26.255180Z",
     "iopub.status.idle": "2020-07-27T08:44:26.278661Z",
     "shell.execute_reply": "2020-07-27T08:44:26.277522Z",
     "shell.execute_reply.started": "2020-07-27T08:44:26.256622Z"
    }
   },
   "outputs": [],
   "source": [
    "df_not_districts.sort_values(\"districts\", inplace=True)"
   ]
  },
  {
   "cell_type": "code",
   "execution_count": 13,
   "metadata": {
    "execution": {
     "iopub.execute_input": "2020-07-27T08:44:26.283402Z",
     "iopub.status.busy": "2020-07-27T08:44:26.283007Z",
     "iopub.status.idle": "2020-07-27T08:44:28.067837Z",
     "shell.execute_reply": "2020-07-27T08:44:28.067379Z",
     "shell.execute_reply.started": "2020-07-27T08:44:26.283349Z"
    }
   },
   "outputs": [],
   "source": [
    "with open(data_out + r\"gadm36_IND_3_id.json\", \"r\") as f:\n",
    "    blocks_json = json.load(f)"
   ]
  },
  {
   "cell_type": "code",
   "execution_count": 14,
   "metadata": {
    "execution": {
     "iopub.execute_input": "2020-07-27T08:44:28.068811Z",
     "iopub.status.busy": "2020-07-27T08:44:28.068610Z",
     "iopub.status.idle": "2020-07-27T08:44:29.709097Z",
     "shell.execute_reply": "2020-07-27T08:44:29.707449Z",
     "shell.execute_reply.started": "2020-07-27T08:44:28.068787Z"
    }
   },
   "outputs": [],
   "source": [
    "for i in blocks:\n",
    "    found = False\n",
    "    for j in blocks_json[\"features\"]:\n",
    "        if j[\"id\"] == i:\n",
    "            found = True\n",
    "            break\n",
    "    if not found:\n",
    "        blocks_not_found.append(i)\n",
    "df_not_blocks = pd.DataFrame({\"blocks\": blocks_not_found})\n",
    "df_not_blocks.sort_values(\"blocks\", inplace=True)"
   ]
  },
  {
   "cell_type": "code",
   "execution_count": 15,
   "metadata": {
    "execution": {
     "iopub.execute_input": "2020-07-27T08:44:29.711747Z",
     "iopub.status.busy": "2020-07-27T08:44:29.711247Z",
     "iopub.status.idle": "2020-07-27T08:44:29.734421Z",
     "shell.execute_reply": "2020-07-27T08:44:29.733453Z",
     "shell.execute_reply.started": "2020-07-27T08:44:29.711679Z"
    }
   },
   "outputs": [],
   "source": [
    "df_not_blocks.to_csv(r\"../data/blocks_not_found.csv\", index=False)"
   ]
  },
  {
   "cell_type": "code",
   "execution_count": 16,
   "metadata": {
    "execution": {
     "iopub.execute_input": "2020-07-27T08:44:29.744389Z",
     "iopub.status.busy": "2020-07-27T08:44:29.737578Z",
     "iopub.status.idle": "2020-07-27T08:44:29.870074Z",
     "shell.execute_reply": "2020-07-27T08:44:29.868854Z",
     "shell.execute_reply.started": "2020-07-27T08:44:29.744238Z"
    }
   },
   "outputs": [],
   "source": [
    "df_not_districts.to_csv(r\"../data/districts_not_found.csv\", index=False)"
   ]
  },
  {
   "cell_type": "code",
   "execution_count": 17,
   "metadata": {
    "execution": {
     "iopub.execute_input": "2020-07-27T08:44:29.874702Z",
     "iopub.status.busy": "2020-07-27T08:44:29.874454Z",
     "iopub.status.idle": "2020-07-27T08:44:30.032565Z",
     "shell.execute_reply": "2020-07-27T08:44:30.029695Z",
     "shell.execute_reply.started": "2020-07-27T08:44:29.874674Z"
    }
   },
   "outputs": [],
   "source": [
    "block = []\n",
    "for j in blocks_json[\"features\"]:\n",
    "    block.append(j[\"id\"])\n",
    "all_blocks_json = pd.DataFrame({\"blocks\": block})\n",
    "all_blocks_json.sort_values(\"blocks\", inplace=True)"
   ]
  },
  {
   "cell_type": "code",
   "execution_count": 18,
   "metadata": {
    "execution": {
     "iopub.execute_input": "2020-07-27T08:44:30.036670Z",
     "iopub.status.busy": "2020-07-27T08:44:30.036158Z",
     "iopub.status.idle": "2020-07-27T08:44:30.152435Z",
     "shell.execute_reply": "2020-07-27T08:44:30.151292Z",
     "shell.execute_reply.started": "2020-07-27T08:44:30.036620Z"
    }
   },
   "outputs": [],
   "source": [
    "all_blocks_json.to_csv(r\"../data/all-blocks-json.csv\", index=False)"
   ]
  },
  {
   "cell_type": "code",
   "execution_count": 19,
   "metadata": {
    "execution": {
     "iopub.execute_input": "2020-07-27T08:44:30.156080Z",
     "iopub.status.busy": "2020-07-27T08:44:30.154727Z",
     "iopub.status.idle": "2020-07-27T08:44:30.291139Z",
     "shell.execute_reply": "2020-07-27T08:44:30.290357Z",
     "shell.execute_reply.started": "2020-07-27T08:44:30.155075Z"
    }
   },
   "outputs": [],
   "source": [
    "district = []\n",
    "for j in districts_json[\"features\"]:\n",
    "    district.append(j[\"id\"])\n",
    "all_districts_json = pd.DataFrame({\"districts\": district})\n",
    "all_districts_json.sort_values(\"districts\", inplace=True)"
   ]
  },
  {
   "cell_type": "code",
   "execution_count": 20,
   "metadata": {
    "execution": {
     "iopub.execute_input": "2020-07-27T08:44:30.293326Z",
     "iopub.status.busy": "2020-07-27T08:44:30.292760Z",
     "iopub.status.idle": "2020-07-27T08:44:30.404429Z",
     "shell.execute_reply": "2020-07-27T08:44:30.402908Z",
     "shell.execute_reply.started": "2020-07-27T08:44:30.293184Z"
    }
   },
   "outputs": [],
   "source": [
    "all_districts_json.to_csv(r\"../data/all-districts-json.csv\", index=False)"
   ]
  },
  {
   "cell_type": "code",
   "execution_count": 21,
   "metadata": {
    "execution": {
     "iopub.execute_input": "2020-07-27T08:44:30.409154Z",
     "iopub.status.busy": "2020-07-27T08:44:30.408782Z",
     "iopub.status.idle": "2020-07-27T08:44:30.576618Z",
     "shell.execute_reply": "2020-07-27T08:44:30.575054Z",
     "shell.execute_reply.started": "2020-07-27T08:44:30.409107Z"
    }
   },
   "outputs": [
    {
     "data": {
      "text/html": [
       "<div>\n",
       "<style scoped>\n",
       "    .dataframe tbody tr th:only-of-type {\n",
       "        vertical-align: middle;\n",
       "    }\n",
       "\n",
       "    .dataframe tbody tr th {\n",
       "        vertical-align: top;\n",
       "    }\n",
       "\n",
       "    .dataframe thead th {\n",
       "        text-align: right;\n",
       "    }\n",
       "</style>\n",
       "<table border=\"1\" class=\"dataframe\">\n",
       "  <thead>\n",
       "    <tr style=\"text-align: right;\">\n",
       "      <th></th>\n",
       "      <th>state</th>\n",
       "      <th>district</th>\n",
       "      <th>block</th>\n",
       "      <th>india</th>\n",
       "      <th>1994-post</th>\n",
       "      <th>1994-pre</th>\n",
       "      <th>1994-stations</th>\n",
       "      <th>1995-post</th>\n",
       "      <th>1995-pre</th>\n",
       "      <th>1995-stations</th>\n",
       "      <th>...</th>\n",
       "      <th>2018-post</th>\n",
       "      <th>2018-pre</th>\n",
       "      <th>2018-stations</th>\n",
       "      <th>2019-post</th>\n",
       "      <th>2019-pre</th>\n",
       "      <th>2019-stations</th>\n",
       "      <th>2020-post</th>\n",
       "      <th>2020-pre</th>\n",
       "      <th>2020-stations</th>\n",
       "      <th>total-stations</th>\n",
       "    </tr>\n",
       "  </thead>\n",
       "  <tbody>\n",
       "    <tr>\n",
       "      <th>1214</th>\n",
       "      <td>delhi</td>\n",
       "      <td>east</td>\n",
       "      <td>gandhi nagar</td>\n",
       "      <td>india</td>\n",
       "      <td>NaN</td>\n",
       "      <td>NaN</td>\n",
       "      <td>NaN</td>\n",
       "      <td>5.33</td>\n",
       "      <td>4.40</td>\n",
       "      <td>3.0</td>\n",
       "      <td>...</td>\n",
       "      <td>NaN</td>\n",
       "      <td>NaN</td>\n",
       "      <td>NaN</td>\n",
       "      <td>4.80</td>\n",
       "      <td>4.22</td>\n",
       "      <td>2.0</td>\n",
       "      <td>NaN</td>\n",
       "      <td>NaN</td>\n",
       "      <td>NaN</td>\n",
       "      <td>5.0</td>\n",
       "    </tr>\n",
       "    <tr>\n",
       "      <th>1215</th>\n",
       "      <td>delhi</td>\n",
       "      <td>east</td>\n",
       "      <td>preet vihar</td>\n",
       "      <td>india</td>\n",
       "      <td>4.42</td>\n",
       "      <td>4.2</td>\n",
       "      <td>1.0</td>\n",
       "      <td>10.39</td>\n",
       "      <td>10.33</td>\n",
       "      <td>5.0</td>\n",
       "      <td>...</td>\n",
       "      <td>NaN</td>\n",
       "      <td>NaN</td>\n",
       "      <td>NaN</td>\n",
       "      <td>8.87</td>\n",
       "      <td>9.49</td>\n",
       "      <td>2.0</td>\n",
       "      <td>NaN</td>\n",
       "      <td>NaN</td>\n",
       "      <td>NaN</td>\n",
       "      <td>9.0</td>\n",
       "    </tr>\n",
       "    <tr>\n",
       "      <th>1216</th>\n",
       "      <td>delhi</td>\n",
       "      <td>east</td>\n",
       "      <td>vivek vihar</td>\n",
       "      <td>india</td>\n",
       "      <td>NaN</td>\n",
       "      <td>NaN</td>\n",
       "      <td>NaN</td>\n",
       "      <td>11.00</td>\n",
       "      <td>11.17</td>\n",
       "      <td>1.0</td>\n",
       "      <td>...</td>\n",
       "      <td>NaN</td>\n",
       "      <td>NaN</td>\n",
       "      <td>NaN</td>\n",
       "      <td>NaN</td>\n",
       "      <td>NaN</td>\n",
       "      <td>NaN</td>\n",
       "      <td>NaN</td>\n",
       "      <td>NaN</td>\n",
       "      <td>NaN</td>\n",
       "      <td>4.0</td>\n",
       "    </tr>\n",
       "  </tbody>\n",
       "</table>\n",
       "<p>3 rows × 86 columns</p>\n",
       "</div>"
      ],
      "text/plain": [
       "      state district         block  india  1994-post  1994-pre  1994-stations  \\\n",
       "1214  delhi     east  gandhi nagar  india        NaN       NaN            NaN   \n",
       "1215  delhi     east   preet vihar  india       4.42       4.2            1.0   \n",
       "1216  delhi     east   vivek vihar  india        NaN       NaN            NaN   \n",
       "\n",
       "      1995-post  1995-pre  1995-stations  ...  2018-post  2018-pre  \\\n",
       "1214       5.33      4.40            3.0  ...        NaN       NaN   \n",
       "1215      10.39     10.33            5.0  ...        NaN       NaN   \n",
       "1216      11.00     11.17            1.0  ...        NaN       NaN   \n",
       "\n",
       "      2018-stations  2019-post  2019-pre  2019-stations  2020-post  2020-pre  \\\n",
       "1214            NaN       4.80      4.22            2.0        NaN       NaN   \n",
       "1215            NaN       8.87      9.49            2.0        NaN       NaN   \n",
       "1216            NaN        NaN       NaN            NaN        NaN       NaN   \n",
       "\n",
       "      2020-stations  total-stations  \n",
       "1214            NaN             5.0  \n",
       "1215            NaN             9.0  \n",
       "1216            NaN             4.0  \n",
       "\n",
       "[3 rows x 86 columns]"
      ]
     },
     "execution_count": 21,
     "metadata": {},
     "output_type": "execute_result"
    }
   ],
   "source": [
    "df[df[\"district\"] == \"east\"]"
   ]
  },
  {
   "cell_type": "code",
   "execution_count": null,
   "metadata": {},
   "outputs": [],
   "source": []
  }
 ],
 "metadata": {
  "kernelspec": {
   "display_name": "Python [conda env:sih]",
   "language": "python",
   "name": "conda-env-sih-py"
  },
  "language_info": {
   "codemirror_mode": {
    "name": "ipython",
    "version": 3
   },
   "file_extension": ".py",
   "mimetype": "text/x-python",
   "name": "python",
   "nbconvert_exporter": "python",
   "pygments_lexer": "ipython3",
   "version": "3.8.3"
  },
  "widgets": {
   "application/vnd.jupyter.widget-state+json": {
    "state": {},
    "version_major": 2,
    "version_minor": 0
   }
  }
 },
 "nbformat": 4,
 "nbformat_minor": 4
}
