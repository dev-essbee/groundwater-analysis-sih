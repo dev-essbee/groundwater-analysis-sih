{
 "cells": [
  {
   "cell_type": "code",
   "execution_count": 1,
   "metadata": {
    "execution": {
     "iopub.execute_input": "2020-07-27T12:11:20.841911Z",
     "iopub.status.busy": "2020-07-27T12:11:20.841633Z",
     "iopub.status.idle": "2020-07-27T12:11:21.213721Z",
     "shell.execute_reply": "2020-07-27T12:11:21.213133Z",
     "shell.execute_reply.started": "2020-07-27T12:11:20.841875Z"
    }
   },
   "outputs": [],
   "source": [
    "import json\n",
    "import pandas as pd"
   ]
  },
  {
   "cell_type": "code",
   "execution_count": 2,
   "metadata": {
    "execution": {
     "iopub.execute_input": "2020-07-27T12:11:21.215439Z",
     "iopub.status.busy": "2020-07-27T12:11:21.215121Z",
     "iopub.status.idle": "2020-07-27T12:11:21.219288Z",
     "shell.execute_reply": "2020-07-27T12:11:21.218386Z",
     "shell.execute_reply.started": "2020-07-27T12:11:21.215402Z"
    }
   },
   "outputs": [],
   "source": [
    "data_in = \"../../sih-raw-data/geojson/\"\n",
    "data_out = \"../data/geojson/\""
   ]
  },
  {
   "cell_type": "code",
   "execution_count": 3,
   "metadata": {
    "execution": {
     "iopub.execute_input": "2020-07-27T12:11:21.221659Z",
     "iopub.status.busy": "2020-07-27T12:11:21.221288Z",
     "iopub.status.idle": "2020-07-27T12:11:24.261701Z",
     "shell.execute_reply": "2020-07-27T12:11:24.259888Z",
     "shell.execute_reply.started": "2020-07-27T12:11:21.221615Z"
    }
   },
   "outputs": [],
   "source": [
    "with open(data_in + r\"gadm36_IND_1.json\", \"r\") as f:\n",
    "    states = json.load(f)\n",
    "for i in states[\"features\"]:\n",
    "    v = i[\"properties\"][\"NAME_1\"].lower()\n",
    "    if v == \"nct of delhi\":\n",
    "        i[\"id\"] = \"delhi\"\n",
    "    elif v == \"jammu and kashmir\":\n",
    "        i[\"id\"] = \"jammu & kashmir\"\n",
    "    elif v == \"puducherry\":\n",
    "        i[\"id\"] = \"pondicherry\"\n",
    "    elif v == \"andaman and nicobar\":\n",
    "        i[\"id\"] = \"andaman & nicobar\"\n",
    "    elif v == \"dadra and nagar haveli\":\n",
    "        i[\"id\"] = \"dadra and nagar hav\"\n",
    "    elif v == \"tamil nadu\":\n",
    "        i[\"id\"] = \"tamilnadu\"\n",
    "    else:\n",
    "        i[\"id\"] = v\n",
    "with open(data_out + r\"gadm36_IND_1_id.json\", \"w\") as f:\n",
    "    json.dump(states, f)"
   ]
  },
  {
   "cell_type": "code",
   "execution_count": 4,
   "metadata": {
    "execution": {
     "iopub.execute_input": "2020-07-27T12:11:24.266733Z",
     "iopub.status.busy": "2020-07-27T12:11:24.265459Z",
     "iopub.status.idle": "2020-07-27T12:11:29.226681Z",
     "shell.execute_reply": "2020-07-27T12:11:29.225826Z",
     "shell.execute_reply.started": "2020-07-27T12:11:24.266614Z"
    }
   },
   "outputs": [],
   "source": [
    "with open(data_in + r\"gadm36_IND_2.json\", \"r\") as f:\n",
    "    districts = json.load(f)\n",
    "for i in districts[\"features\"]:\n",
    "    v = i[\"properties\"][\"NAME_2\"].lower()\n",
    "    if v == \"allahabad\":\n",
    "        i[\"id\"] = \"prayagraj\"\n",
    "    elif v == \"mumbai city\":\n",
    "        i[\"id\"] = \"mumbai\"\n",
    "    elif v == \"north and middle andaman\":\n",
    "        i[\"id\"] = \"north & middle andaman\"\n",
    "    elif v == \"dadra and nagar haveli\":\n",
    "        i[\"id\"] = \"dadra & nagar haveli\"\n",
    "    elif v == \"lakhimpur kheri\":\n",
    "        i[\"id\"] = \"kheri\"\n",
    "    elif v == \"barabanki\":\n",
    "        i[\"id\"] = \"bara banki\"\n",
    "    elif v == \"dantewada\":\n",
    "        i[\"id\"] = \"dakshin bastar dantewada\"\n",
    "    elif v == \"dahod\":\n",
    "        i[\"id\"] = \"dohad\"\n",
    "    elif v == \"chikballapura\":\n",
    "        i[\"id\"] = \"chikkaballapura\"\n",
    "    elif v == \"amroha\":\n",
    "        i[\"id\"] = \"jyotiba phule nagar\"\n",
    "    elif v == \"kaimur\":\n",
    "        i[\"id\"] = \"kaimur (bhabua)\"\n",
    "    elif v == \"kasganj\":\n",
    "        i[\"id\"] = \"kansiram nagar\"\n",
    "    elif v == \"hathras\":\n",
    "        i[\"id\"] = \"mahamaya nagar\"\n",
    "    elif v == \"ranga reddy\":\n",
    "        i[\"id\"] = \"rangareddy\"\n",
    "    elif v == \"sant ravi das nagar\":\n",
    "        i[\"id\"] = \"sant ravi das nagar(bhadohi)\"\n",
    "    elif v == \"saran\":\n",
    "        i[\"id\"] = \"saran (chhapra)\"\n",
    "    elif v == \"shravasti\":\n",
    "        i[\"id\"] = \"shrawasti\"\n",
    "    elif v == \"nellore\":\n",
    "        i[\"id\"] = \"sri potti sriramulu nellore\"\n",
    "    elif v == \"faizabad\":\n",
    "        i[\"id\"] = \"ayodhya\"\n",
    "    elif v == \"morigaon\":\n",
    "        i[\"id\"] = \"marigaon\"\n",
    "\n",
    "    else:\n",
    "        i[\"id\"] = v\n",
    "with open(data_out + r\"gadm36_IND_2_id.json\", \"w\") as f:\n",
    "    json.dump(districts, f)"
   ]
  },
  {
   "cell_type": "code",
   "execution_count": 5,
   "metadata": {
    "execution": {
     "iopub.execute_input": "2020-07-27T12:11:29.228336Z",
     "iopub.status.busy": "2020-07-27T12:11:29.227884Z",
     "iopub.status.idle": "2020-07-27T12:11:32.456962Z",
     "shell.execute_reply": "2020-07-27T12:11:32.455251Z",
     "shell.execute_reply.started": "2020-07-27T12:11:29.228295Z"
    }
   },
   "outputs": [],
   "source": [
    "with open(data_in + r\"gadm36_IND_0.json\", \"r\") as f:\n",
    "    india = json.load(f)\n",
    "for i in india[\"features\"]:\n",
    "    i[\"id\"] = i[\"properties\"][\"NAME_0\"].lower()\n",
    "with open(data_out + r\"gadm36_IND_0_id.json\", \"w\") as f:\n",
    "    json.dump(india, f)"
   ]
  },
  {
   "cell_type": "code",
   "execution_count": 6,
   "metadata": {
    "execution": {
     "iopub.execute_input": "2020-07-27T12:11:32.459906Z",
     "iopub.status.busy": "2020-07-27T12:11:32.459339Z",
     "iopub.status.idle": "2020-07-27T12:11:39.535533Z",
     "shell.execute_reply": "2020-07-27T12:11:39.533728Z",
     "shell.execute_reply.started": "2020-07-27T12:11:32.459815Z"
    }
   },
   "outputs": [],
   "source": [
    "with open(data_in + r\"gadm36_IND_3.json\", \"r\") as f:\n",
    "    blocks = json.load(f)\n",
    "for i in blocks[\"features\"]:\n",
    "    v = i[\"properties\"][\"NAME_3\"].lower()\n",
    "    if v == \"allahabad\":\n",
    "        i[\"id\"] = \"prayagraj\"\n",
    "    else:\n",
    "        i[\"id\"] = v\n",
    "with open(data_out + r\"gadm36_IND_3_id.json\", \"w\") as f:\n",
    "    json.dump(blocks, f)"
   ]
  },
  {
   "cell_type": "markdown",
   "metadata": {},
   "source": [
    "## Rough"
   ]
  },
  {
   "cell_type": "code",
   "execution_count": 7,
   "metadata": {
    "execution": {
     "iopub.execute_input": "2020-07-27T12:11:39.541418Z",
     "iopub.status.busy": "2020-07-27T12:11:39.540800Z",
     "iopub.status.idle": "2020-07-27T12:11:41.867792Z",
     "shell.execute_reply": "2020-07-27T12:11:41.867085Z",
     "shell.execute_reply.started": "2020-07-27T12:11:39.541351Z"
    }
   },
   "outputs": [],
   "source": [
    "with open(data_out + r\"gadm36_IND_2_id.json\", \"r\") as f:\n",
    "    districts_json = json.load(f)\n",
    "with open(data_out + r\"gadm36_IND_3_id.json\", \"r\") as f:\n",
    "    blocks_json = json.load(f)"
   ]
  },
  {
   "cell_type": "code",
   "execution_count": 8,
   "metadata": {
    "execution": {
     "iopub.execute_input": "2020-07-27T12:11:41.869656Z",
     "iopub.status.busy": "2020-07-27T12:11:41.869354Z",
     "iopub.status.idle": "2020-07-27T12:11:41.982827Z",
     "shell.execute_reply": "2020-07-27T12:11:41.982319Z",
     "shell.execute_reply.started": "2020-07-27T12:11:41.869622Z"
    }
   },
   "outputs": [],
   "source": [
    "df = pd.read_parquet(r\"../data/comp/gw-block-pre-post.parquet.gzip\")"
   ]
  },
  {
   "cell_type": "code",
   "execution_count": 9,
   "metadata": {
    "execution": {
     "iopub.execute_input": "2020-07-27T12:11:41.984069Z",
     "iopub.status.busy": "2020-07-27T12:11:41.983768Z",
     "iopub.status.idle": "2020-07-27T12:11:42.158606Z",
     "shell.execute_reply": "2020-07-27T12:11:42.158080Z",
     "shell.execute_reply.started": "2020-07-27T12:11:41.984036Z"
    }
   },
   "outputs": [],
   "source": [
    "districts = list(set(list(df[\"district\"])))\n",
    "blocks = list(set(list(df[\"block\"])))"
   ]
  },
  {
   "cell_type": "code",
   "execution_count": 10,
   "metadata": {
    "execution": {
     "iopub.execute_input": "2020-07-27T12:11:42.160076Z",
     "iopub.status.busy": "2020-07-27T12:11:42.159508Z",
     "iopub.status.idle": "2020-07-27T12:11:42.286825Z",
     "shell.execute_reply": "2020-07-27T12:11:42.283938Z",
     "shell.execute_reply.started": "2020-07-27T12:11:42.160027Z"
    }
   },
   "outputs": [],
   "source": [
    "districts_not_found = []\n",
    "blocks_not_found = []"
   ]
  },
  {
   "cell_type": "code",
   "execution_count": 11,
   "metadata": {
    "execution": {
     "iopub.execute_input": "2020-07-27T12:11:42.290137Z",
     "iopub.status.busy": "2020-07-27T12:11:42.289567Z",
     "iopub.status.idle": "2020-07-27T12:11:42.450729Z",
     "shell.execute_reply": "2020-07-27T12:11:42.449965Z",
     "shell.execute_reply.started": "2020-07-27T12:11:42.290071Z"
    },
    "scrolled": true
   },
   "outputs": [],
   "source": [
    "for i in districts:\n",
    "    found = False\n",
    "    for j in districts_json[\"features\"]:\n",
    "        if j[\"id\"] == i:\n",
    "            found = True\n",
    "            break\n",
    "    if not found:\n",
    "        districts_not_found.append(i)\n",
    "df_not_districts = pd.DataFrame({\"districts\": districts_not_found})"
   ]
  },
  {
   "cell_type": "code",
   "execution_count": 12,
   "metadata": {
    "execution": {
     "iopub.execute_input": "2020-07-27T12:11:42.451922Z",
     "iopub.status.busy": "2020-07-27T12:11:42.451677Z",
     "iopub.status.idle": "2020-07-27T12:11:42.633788Z",
     "shell.execute_reply": "2020-07-27T12:11:42.632233Z",
     "shell.execute_reply.started": "2020-07-27T12:11:42.451896Z"
    }
   },
   "outputs": [],
   "source": [
    "df_not_districts.sort_values(\"districts\", inplace=True)"
   ]
  },
  {
   "cell_type": "code",
   "execution_count": 13,
   "metadata": {
    "execution": {
     "iopub.execute_input": "2020-07-27T12:11:42.636686Z",
     "iopub.status.busy": "2020-07-27T12:11:42.636183Z",
     "iopub.status.idle": "2020-07-27T12:11:44.217866Z",
     "shell.execute_reply": "2020-07-27T12:11:44.217323Z",
     "shell.execute_reply.started": "2020-07-27T12:11:42.636623Z"
    }
   },
   "outputs": [],
   "source": [
    "with open(data_out + r\"gadm36_IND_3_id.json\", \"r\") as f:\n",
    "    blocks_json = json.load(f)"
   ]
  },
  {
   "cell_type": "code",
   "execution_count": 14,
   "metadata": {
    "execution": {
     "iopub.execute_input": "2020-07-27T12:11:44.218985Z",
     "iopub.status.busy": "2020-07-27T12:11:44.218734Z",
     "iopub.status.idle": "2020-07-27T12:11:45.691180Z",
     "shell.execute_reply": "2020-07-27T12:11:45.690670Z",
     "shell.execute_reply.started": "2020-07-27T12:11:44.218955Z"
    }
   },
   "outputs": [],
   "source": [
    "for i in blocks:\n",
    "    found = False\n",
    "    for j in blocks_json[\"features\"]:\n",
    "        if j[\"id\"] == i:\n",
    "            found = True\n",
    "            break\n",
    "    if not found:\n",
    "        blocks_not_found.append(i)\n",
    "df_not_blocks = pd.DataFrame({\"blocks\": blocks_not_found})\n",
    "df_not_blocks.sort_values(\"blocks\", inplace=True)"
   ]
  },
  {
   "cell_type": "code",
   "execution_count": 15,
   "metadata": {
    "execution": {
     "iopub.execute_input": "2020-07-27T12:11:45.692299Z",
     "iopub.status.busy": "2020-07-27T12:11:45.692034Z",
     "iopub.status.idle": "2020-07-27T12:11:45.738016Z",
     "shell.execute_reply": "2020-07-27T12:11:45.736864Z",
     "shell.execute_reply.started": "2020-07-27T12:11:45.692268Z"
    }
   },
   "outputs": [],
   "source": [
    "df_not_blocks.to_csv(r\"../data/blocks_not_found.csv\", index=False)"
   ]
  },
  {
   "cell_type": "code",
   "execution_count": 16,
   "metadata": {
    "execution": {
     "iopub.execute_input": "2020-07-27T12:11:45.741019Z",
     "iopub.status.busy": "2020-07-27T12:11:45.740527Z",
     "iopub.status.idle": "2020-07-27T12:11:45.877569Z",
     "shell.execute_reply": "2020-07-27T12:11:45.875843Z",
     "shell.execute_reply.started": "2020-07-27T12:11:45.740819Z"
    }
   },
   "outputs": [],
   "source": [
    "df_not_districts.to_csv(r\"../data/districts_not_found.csv\", index=False)"
   ]
  },
  {
   "cell_type": "code",
   "execution_count": 17,
   "metadata": {
    "execution": {
     "iopub.execute_input": "2020-07-27T12:11:45.880686Z",
     "iopub.status.busy": "2020-07-27T12:11:45.880007Z",
     "iopub.status.idle": "2020-07-27T12:11:46.043904Z",
     "shell.execute_reply": "2020-07-27T12:11:46.042492Z",
     "shell.execute_reply.started": "2020-07-27T12:11:45.880615Z"
    }
   },
   "outputs": [],
   "source": [
    "block = []\n",
    "for j in blocks_json[\"features\"]:\n",
    "    block.append(j[\"id\"])\n",
    "all_blocks_json = pd.DataFrame({\"blocks\": block})\n",
    "all_blocks_json.sort_values(\"blocks\", inplace=True)"
   ]
  },
  {
   "cell_type": "code",
   "execution_count": 18,
   "metadata": {
    "execution": {
     "iopub.execute_input": "2020-07-27T12:11:46.046868Z",
     "iopub.status.busy": "2020-07-27T12:11:46.046232Z",
     "iopub.status.idle": "2020-07-27T12:11:46.165514Z",
     "shell.execute_reply": "2020-07-27T12:11:46.165046Z",
     "shell.execute_reply.started": "2020-07-27T12:11:46.046763Z"
    }
   },
   "outputs": [],
   "source": [
    "all_blocks_json.to_csv(r\"../data/all-blocks-json.csv\", index=False)"
   ]
  },
  {
   "cell_type": "code",
   "execution_count": 19,
   "metadata": {
    "execution": {
     "iopub.execute_input": "2020-07-27T12:11:46.166673Z",
     "iopub.status.busy": "2020-07-27T12:11:46.166415Z",
     "iopub.status.idle": "2020-07-27T12:11:46.328099Z",
     "shell.execute_reply": "2020-07-27T12:11:46.326590Z",
     "shell.execute_reply.started": "2020-07-27T12:11:46.166643Z"
    }
   },
   "outputs": [],
   "source": [
    "district = []\n",
    "for j in districts_json[\"features\"]:\n",
    "    district.append(j[\"id\"])\n",
    "all_districts_json = pd.DataFrame({\"districts\": district})\n",
    "all_districts_json.sort_values(\"districts\", inplace=True)"
   ]
  },
  {
   "cell_type": "code",
   "execution_count": 20,
   "metadata": {
    "execution": {
     "iopub.execute_input": "2020-07-27T12:11:46.331665Z",
     "iopub.status.busy": "2020-07-27T12:11:46.330884Z",
     "iopub.status.idle": "2020-07-27T12:11:46.472531Z",
     "shell.execute_reply": "2020-07-27T12:11:46.472070Z",
     "shell.execute_reply.started": "2020-07-27T12:11:46.331570Z"
    }
   },
   "outputs": [],
   "source": [
    "all_districts_json.to_csv(r\"../data/all-districts-json.csv\", index=False)"
   ]
  },
  {
   "cell_type": "code",
   "execution_count": 21,
   "metadata": {
    "execution": {
     "iopub.execute_input": "2020-07-27T12:11:46.473685Z",
     "iopub.status.busy": "2020-07-27T12:11:46.473407Z",
     "iopub.status.idle": "2020-07-27T12:11:46.717101Z",
     "shell.execute_reply": "2020-07-27T12:11:46.715670Z",
     "shell.execute_reply.started": "2020-07-27T12:11:46.473653Z"
    }
   },
   "outputs": [
    {
     "data": {
      "text/html": [
       "<div>\n",
       "<style scoped>\n",
       "    .dataframe tbody tr th:only-of-type {\n",
       "        vertical-align: middle;\n",
       "    }\n",
       "\n",
       "    .dataframe tbody tr th {\n",
       "        vertical-align: top;\n",
       "    }\n",
       "\n",
       "    .dataframe thead th {\n",
       "        text-align: right;\n",
       "    }\n",
       "</style>\n",
       "<table border=\"1\" class=\"dataframe\">\n",
       "  <thead>\n",
       "    <tr style=\"text-align: right;\">\n",
       "      <th></th>\n",
       "      <th>state</th>\n",
       "      <th>district</th>\n",
       "      <th>block</th>\n",
       "      <th>india</th>\n",
       "      <th>1994-post</th>\n",
       "      <th>1994-pre</th>\n",
       "      <th>1994-stations</th>\n",
       "      <th>1995-post</th>\n",
       "      <th>1995-pre</th>\n",
       "      <th>1995-stations</th>\n",
       "      <th>...</th>\n",
       "      <th>2018-post</th>\n",
       "      <th>2018-pre</th>\n",
       "      <th>2018-stations</th>\n",
       "      <th>2019-post</th>\n",
       "      <th>2019-pre</th>\n",
       "      <th>2019-stations</th>\n",
       "      <th>2020-post</th>\n",
       "      <th>2020-pre</th>\n",
       "      <th>2020-stations</th>\n",
       "      <th>total-stations</th>\n",
       "    </tr>\n",
       "  </thead>\n",
       "  <tbody>\n",
       "    <tr>\n",
       "      <th>1214</th>\n",
       "      <td>delhi</td>\n",
       "      <td>east</td>\n",
       "      <td>gandhi nagar</td>\n",
       "      <td>india</td>\n",
       "      <td>NaN</td>\n",
       "      <td>NaN</td>\n",
       "      <td>NaN</td>\n",
       "      <td>5.33</td>\n",
       "      <td>4.40</td>\n",
       "      <td>3.0</td>\n",
       "      <td>...</td>\n",
       "      <td>NaN</td>\n",
       "      <td>NaN</td>\n",
       "      <td>NaN</td>\n",
       "      <td>4.80</td>\n",
       "      <td>4.22</td>\n",
       "      <td>2.0</td>\n",
       "      <td>NaN</td>\n",
       "      <td>NaN</td>\n",
       "      <td>NaN</td>\n",
       "      <td>5.0</td>\n",
       "    </tr>\n",
       "    <tr>\n",
       "      <th>1215</th>\n",
       "      <td>delhi</td>\n",
       "      <td>east</td>\n",
       "      <td>preet vihar</td>\n",
       "      <td>india</td>\n",
       "      <td>4.42</td>\n",
       "      <td>4.2</td>\n",
       "      <td>1.0</td>\n",
       "      <td>10.39</td>\n",
       "      <td>10.33</td>\n",
       "      <td>5.0</td>\n",
       "      <td>...</td>\n",
       "      <td>NaN</td>\n",
       "      <td>NaN</td>\n",
       "      <td>NaN</td>\n",
       "      <td>8.87</td>\n",
       "      <td>9.49</td>\n",
       "      <td>2.0</td>\n",
       "      <td>NaN</td>\n",
       "      <td>NaN</td>\n",
       "      <td>NaN</td>\n",
       "      <td>9.0</td>\n",
       "    </tr>\n",
       "    <tr>\n",
       "      <th>1216</th>\n",
       "      <td>delhi</td>\n",
       "      <td>east</td>\n",
       "      <td>vivek vihar</td>\n",
       "      <td>india</td>\n",
       "      <td>NaN</td>\n",
       "      <td>NaN</td>\n",
       "      <td>NaN</td>\n",
       "      <td>11.00</td>\n",
       "      <td>11.17</td>\n",
       "      <td>1.0</td>\n",
       "      <td>...</td>\n",
       "      <td>NaN</td>\n",
       "      <td>NaN</td>\n",
       "      <td>NaN</td>\n",
       "      <td>NaN</td>\n",
       "      <td>NaN</td>\n",
       "      <td>NaN</td>\n",
       "      <td>NaN</td>\n",
       "      <td>NaN</td>\n",
       "      <td>NaN</td>\n",
       "      <td>4.0</td>\n",
       "    </tr>\n",
       "  </tbody>\n",
       "</table>\n",
       "<p>3 rows × 86 columns</p>\n",
       "</div>"
      ],
      "text/plain": [
       "      state district         block  india  1994-post  1994-pre  1994-stations  \\\n",
       "1214  delhi     east  gandhi nagar  india        NaN       NaN            NaN   \n",
       "1215  delhi     east   preet vihar  india       4.42       4.2            1.0   \n",
       "1216  delhi     east   vivek vihar  india        NaN       NaN            NaN   \n",
       "\n",
       "      1995-post  1995-pre  1995-stations  ...  2018-post  2018-pre  \\\n",
       "1214       5.33      4.40            3.0  ...        NaN       NaN   \n",
       "1215      10.39     10.33            5.0  ...        NaN       NaN   \n",
       "1216      11.00     11.17            1.0  ...        NaN       NaN   \n",
       "\n",
       "      2018-stations  2019-post  2019-pre  2019-stations  2020-post  2020-pre  \\\n",
       "1214            NaN       4.80      4.22            2.0        NaN       NaN   \n",
       "1215            NaN       8.87      9.49            2.0        NaN       NaN   \n",
       "1216            NaN        NaN       NaN            NaN        NaN       NaN   \n",
       "\n",
       "      2020-stations  total-stations  \n",
       "1214            NaN             5.0  \n",
       "1215            NaN             9.0  \n",
       "1216            NaN             4.0  \n",
       "\n",
       "[3 rows x 86 columns]"
      ]
     },
     "execution_count": 21,
     "metadata": {},
     "output_type": "execute_result"
    }
   ],
   "source": [
    "df[df[\"district\"] == \"east\"]"
   ]
  },
  {
   "cell_type": "code",
   "execution_count": null,
   "metadata": {},
   "outputs": [],
   "source": []
  }
 ],
 "metadata": {
  "kernelspec": {
   "display_name": "Python [conda env:sih]",
   "language": "python",
   "name": "conda-env-sih-py"
  },
  "language_info": {
   "codemirror_mode": {
    "name": "ipython",
    "version": 3
   },
   "file_extension": ".py",
   "mimetype": "text/x-python",
   "name": "python",
   "nbconvert_exporter": "python",
   "pygments_lexer": "ipython3",
   "version": "3.8.3"
  },
  "widgets": {
   "application/vnd.jupyter.widget-state+json": {
    "state": {},
    "version_major": 2,
    "version_minor": 0
   }
  }
 },
 "nbformat": 4,
 "nbformat_minor": 4
}
