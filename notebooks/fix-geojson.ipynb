{
 "cells": [
  {
   "cell_type": "code",
   "execution_count": 1,
   "metadata": {
    "execution": {
     "iopub.execute_input": "2020-07-26T00:17:26.961572Z",
     "iopub.status.busy": "2020-07-26T00:17:26.961190Z",
     "iopub.status.idle": "2020-07-26T00:17:26.965886Z",
     "shell.execute_reply": "2020-07-26T00:17:26.964632Z",
     "shell.execute_reply.started": "2020-07-26T00:17:26.961530Z"
    }
   },
   "outputs": [],
   "source": [
    "import json\n",
    "import pandas as pd"
   ]
  },
  {
   "cell_type": "code",
   "execution_count": 2,
   "metadata": {
    "execution": {
     "iopub.execute_input": "2020-07-26T00:17:27.552669Z",
     "iopub.status.busy": "2020-07-26T00:17:27.552092Z",
     "iopub.status.idle": "2020-07-26T00:17:27.559869Z",
     "shell.execute_reply": "2020-07-26T00:17:27.558402Z",
     "shell.execute_reply.started": "2020-07-26T00:17:27.552595Z"
    }
   },
   "outputs": [],
   "source": [
    "data_in = \"../../sih-raw-data/geojson/\"\n",
    "data_out = \"../data/geojson/\""
   ]
  },
  {
   "cell_type": "code",
   "execution_count": 3,
   "metadata": {
    "execution": {
     "iopub.execute_input": "2020-07-26T00:17:28.112934Z",
     "iopub.status.busy": "2020-07-26T00:17:28.112353Z",
     "iopub.status.idle": "2020-07-26T00:17:28.799197Z",
     "shell.execute_reply": "2020-07-26T00:17:28.798672Z",
     "shell.execute_reply.started": "2020-07-26T00:17:28.112859Z"
    }
   },
   "outputs": [],
   "source": [
    "with open(data_in + r\"gadm36_IND_1.json\", \"r\") as f:\n",
    "    states = json.load(f)"
   ]
  },
  {
   "cell_type": "code",
   "execution_count": 4,
   "metadata": {
    "execution": {
     "iopub.execute_input": "2020-07-26T00:17:30.811884Z",
     "iopub.status.busy": "2020-07-26T00:17:30.811610Z",
     "iopub.status.idle": "2020-07-26T00:17:30.825963Z",
     "shell.execute_reply": "2020-07-26T00:17:30.817997Z",
     "shell.execute_reply.started": "2020-07-26T00:17:30.811853Z"
    }
   },
   "outputs": [],
   "source": [
    "for i in states[\"features\"]:\n",
    "    v = i[\"properties\"][\"NAME_1\"].lower()\n",
    "    if v == \"nct of delhi\":\n",
    "        i[\"id\"] = \"delhi\"\n",
    "    elif v == \"jammu and kashmir\":\n",
    "        i[\"id\"] = \"jammu & kashmir\"\n",
    "    elif v == \"puducherry\":\n",
    "        i[\"id\"] = \"pondicherry\"\n",
    "    elif v == \"andaman and nicobar\":\n",
    "        i[\"id\"] = \"andaman & nicobar\"\n",
    "    elif v == \"dadar and nagar haveli\":\n",
    "        i[\"id\"] = \"dadar and nagar hav\"\n",
    "    else:\n",
    "        i[\"id\"] = v"
   ]
  },
  {
   "cell_type": "code",
   "execution_count": 5,
   "metadata": {
    "execution": {
     "iopub.execute_input": "2020-07-26T00:17:33.329260Z",
     "iopub.status.busy": "2020-07-26T00:17:33.328388Z",
     "iopub.status.idle": "2020-07-26T00:17:35.759572Z",
     "shell.execute_reply": "2020-07-26T00:17:35.757661Z",
     "shell.execute_reply.started": "2020-07-26T00:17:33.329170Z"
    }
   },
   "outputs": [],
   "source": [
    "with open(data_out + r\"gadm36_IND_1_id.json\", \"w\") as f:\n",
    "    json.dump(states, f)"
   ]
  },
  {
   "cell_type": "code",
   "execution_count": 8,
   "metadata": {
    "execution": {
     "iopub.execute_input": "2020-07-25T19:10:47.388318Z",
     "iopub.status.busy": "2020-07-25T19:10:47.387907Z",
     "iopub.status.idle": "2020-07-25T19:10:47.855742Z",
     "shell.execute_reply": "2020-07-25T19:10:47.855215Z",
     "shell.execute_reply.started": "2020-07-25T19:10:47.388270Z"
    }
   },
   "outputs": [],
   "source": [
    "with open(data_in + r\"gadm36_IND_0.json\", \"r\") as f:\n",
    "    districts = json.load(f)"
   ]
  },
  {
   "cell_type": "code",
   "execution_count": 9,
   "metadata": {
    "execution": {
     "iopub.execute_input": "2020-07-25T19:10:49.561703Z",
     "iopub.status.busy": "2020-07-25T19:10:49.561315Z",
     "iopub.status.idle": "2020-07-25T19:10:49.574065Z",
     "shell.execute_reply": "2020-07-25T19:10:49.568072Z",
     "shell.execute_reply.started": "2020-07-25T19:10:49.561659Z"
    }
   },
   "outputs": [],
   "source": [
    "for i in districts[\"features\"]:\n",
    "    i[\"id\"] = i[\"properties\"][\"NAME_0\"].lower()"
   ]
  },
  {
   "cell_type": "code",
   "execution_count": 10,
   "metadata": {
    "execution": {
     "iopub.execute_input": "2020-07-25T19:10:52.644614Z",
     "iopub.status.busy": "2020-07-25T19:10:52.644412Z",
     "iopub.status.idle": "2020-07-25T19:10:54.671276Z",
     "shell.execute_reply": "2020-07-25T19:10:54.669723Z",
     "shell.execute_reply.started": "2020-07-25T19:10:52.644592Z"
    }
   },
   "outputs": [],
   "source": [
    "with open(data_out + r\"gadm36_IND_0_id.json\", \"w\") as f:\n",
    "    json.dump(districts, f)"
   ]
  },
  {
   "cell_type": "markdown",
   "metadata": {},
   "source": [
    "## Rough"
   ]
  },
  {
   "cell_type": "code",
   "execution_count": 12,
   "metadata": {
    "execution": {
     "iopub.execute_input": "2020-07-25T23:58:21.198913Z",
     "iopub.status.busy": "2020-07-25T23:58:21.198631Z",
     "iopub.status.idle": "2020-07-25T23:58:22.687428Z",
     "shell.execute_reply": "2020-07-25T23:58:22.686810Z",
     "shell.execute_reply.started": "2020-07-25T23:58:21.198882Z"
    }
   },
   "outputs": [],
   "source": [
    "with open(data_out + r\"gadm36_IND_3_id.json\", \"r\") as f:\n",
    "    blocks = json.load(f)"
   ]
  },
  {
   "cell_type": "code",
   "execution_count": 16,
   "metadata": {
    "execution": {
     "iopub.execute_input": "2020-07-26T00:03:32.725657Z",
     "iopub.status.busy": "2020-07-26T00:03:32.725141Z",
     "iopub.status.idle": "2020-07-26T00:03:32.737159Z",
     "shell.execute_reply": "2020-07-26T00:03:32.736096Z",
     "shell.execute_reply.started": "2020-07-26T00:03:32.725593Z"
    }
   },
   "outputs": [
    {
     "name": "stdout",
     "output_type": "stream",
     "text": [
      "islampur\n",
      "islampur\n"
     ]
    }
   ],
   "source": [
    "for i in blocks[\"features\"]:\n",
    "    if i[\"id\"] == \"islampur\":\n",
    "        print(i[\"id\"])"
   ]
  },
  {
   "cell_type": "code",
   "execution_count": null,
   "metadata": {},
   "outputs": [],
   "source": []
  }
 ],
 "metadata": {
  "kernelspec": {
   "display_name": "Python [conda env:sih]",
   "language": "python",
   "name": "conda-env-sih-py"
  },
  "language_info": {
   "codemirror_mode": {
    "name": "ipython",
    "version": 3
   },
   "file_extension": ".py",
   "mimetype": "text/x-python",
   "name": "python",
   "nbconvert_exporter": "python",
   "pygments_lexer": "ipython3",
   "version": "3.8.3"
  },
  "widgets": {
   "application/vnd.jupyter.widget-state+json": {
    "state": {},
    "version_major": 2,
    "version_minor": 0
   }
  }
 },
 "nbformat": 4,
 "nbformat_minor": 4
}
