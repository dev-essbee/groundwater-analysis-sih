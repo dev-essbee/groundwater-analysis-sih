{
 "cells": [
  {
   "cell_type": "code",
   "execution_count": 3,
   "metadata": {
    "execution": {
     "iopub.execute_input": "2020-07-31T11:30:18.914290Z",
     "iopub.status.busy": "2020-07-31T11:30:18.913618Z",
     "iopub.status.idle": "2020-07-31T11:30:18.929111Z",
     "shell.execute_reply": "2020-07-31T11:30:18.924729Z",
     "shell.execute_reply.started": "2020-07-31T11:30:18.914210Z"
    }
   },
   "outputs": [],
   "source": [
    "import json\n",
    "import pandas as pd\n",
    "import glob\n",
    "import numpy as np"
   ]
  },
  {
   "cell_type": "code",
   "execution_count": 4,
   "metadata": {
    "execution": {
     "iopub.execute_input": "2020-07-31T11:30:19.439011Z",
     "iopub.status.busy": "2020-07-31T11:30:19.438578Z",
     "iopub.status.idle": "2020-07-31T11:30:19.450380Z",
     "shell.execute_reply": "2020-07-31T11:30:19.449001Z",
     "shell.execute_reply.started": "2020-07-31T11:30:19.438955Z"
    }
   },
   "outputs": [],
   "source": [
    "data_in = \"../../sih-raw-data/geojson/\"\n",
    "data_out = \"../data/geojson/\""
   ]
  },
  {
   "cell_type": "markdown",
   "metadata": {
    "collapsed": "true"
   },
   "source": [
    "## fix geojson"
   ]
  },
  {
   "cell_type": "code",
   "execution_count": 3,
   "metadata": {
    "execution": {
     "iopub.execute_input": "2020-07-30T08:00:33.658105Z",
     "iopub.status.busy": "2020-07-30T08:00:33.657626Z",
     "iopub.status.idle": "2020-07-30T08:00:36.826537Z",
     "shell.execute_reply": "2020-07-30T08:00:36.824776Z",
     "shell.execute_reply.started": "2020-07-30T08:00:33.658049Z"
    }
   },
   "outputs": [],
   "source": [
    "with open(data_in + r\"state.json\", \"r\") as f:\n",
    "    states = json.load(f)\n",
    "for i in states[\"features\"]:\n",
    "    v = i[\"properties\"][\"NAME_1\"].lower()\n",
    "    if v == \"nct of delhi\":\n",
    "        i[\"id\"] = \"delhi\"\n",
    "    elif v == \"jammu and kashmir\":\n",
    "        i[\"id\"] = \"jammu & kashmir\"\n",
    "    elif v == \"puducherry\":\n",
    "        i[\"id\"] = \"pondicherry\"\n",
    "    elif v == \"andaman and nicobar\":\n",
    "        i[\"id\"] = \"andaman & nicobar\"\n",
    "    elif v == \"dadra and nagar haveli\":\n",
    "        i[\"id\"] = \"dadra and nagar hav\"\n",
    "    elif v == \"tamil nadu\":\n",
    "        i[\"id\"] = \"tamilnadu\"\n",
    "    else:\n",
    "        i[\"id\"] = v\n",
    "with open(data_out + r\"state_id.json\", \"w\") as f:\n",
    "    json.dump(states, f)"
   ]
  },
  {
   "cell_type": "code",
   "execution_count": 4,
   "metadata": {
    "execution": {
     "iopub.execute_input": "2020-07-30T08:00:39.224680Z",
     "iopub.status.busy": "2020-07-30T08:00:39.224079Z",
     "iopub.status.idle": "2020-07-30T08:00:43.739528Z",
     "shell.execute_reply": "2020-07-30T08:00:43.737362Z",
     "shell.execute_reply.started": "2020-07-30T08:00:39.224620Z"
    }
   },
   "outputs": [],
   "source": [
    "with open(data_in + r\"district.json\", \"r\") as f:\n",
    "    districts = json.load(f)\n",
    "for i in districts[\"features\"]:\n",
    "    v = i[\"properties\"][\"NAME_2\"].lower()\n",
    "    if v == \"allahabad\":\n",
    "        i[\"id\"] = \"prayagraj\"\n",
    "    elif v == \"mumbai city\":\n",
    "        i[\"id\"] = \"mumbai\"\n",
    "    elif v == \"north and middle andaman\":\n",
    "        i[\"id\"] = \"north & middle andaman\"\n",
    "    elif v == \"dadra and nagar haveli\":\n",
    "        i[\"id\"] = \"dadra & nagar haveli\"\n",
    "    elif v == \"lakhimpur kheri\":\n",
    "        i[\"id\"] = \"kheri\"\n",
    "    elif v == \"barabanki\":\n",
    "        i[\"id\"] = \"bara banki\"\n",
    "    elif v == \"dantewada\":\n",
    "        i[\"id\"] = \"dakshin bastar dantewada\"\n",
    "    elif v == \"dahod\":\n",
    "        i[\"id\"] = \"dohad\"\n",
    "    elif v == \"chikballapura\":\n",
    "        i[\"id\"] = \"chikkaballapura\"\n",
    "    elif v == \"amroha\":\n",
    "        i[\"id\"] = \"jyotiba phule nagar\"\n",
    "    elif v == \"kaimur\":\n",
    "        i[\"id\"] = \"kaimur (bhabua)\"\n",
    "    elif v == \"kasganj\":\n",
    "        i[\"id\"] = \"kansiram nagar\"\n",
    "    elif v == \"hathras\":\n",
    "        i[\"id\"] = \"mahamaya nagar\"\n",
    "    elif v == \"ranga reddy\":\n",
    "        i[\"id\"] = \"rangareddy\"\n",
    "    elif v == \"sant ravi das nagar\":\n",
    "        i[\"id\"] = \"sant ravi das nagar(bhadohi)\"\n",
    "    elif v == \"saran\":\n",
    "        i[\"id\"] = \"saran (chhapra)\"\n",
    "    elif v == \"shravasti\":\n",
    "        i[\"id\"] = \"shrawasti\"\n",
    "    elif v == \"nellore\":\n",
    "        i[\"id\"] = \"sri potti sriramulu nellore\"\n",
    "    elif v == \"faizabad\":\n",
    "        i[\"id\"] = \"ayodhya\"\n",
    "    elif v == \"morigaon\":\n",
    "        i[\"id\"] = \"marigaon\"\n",
    "\n",
    "    else:\n",
    "        i[\"id\"] = v\n",
    "with open(data_out + r\"district_id.json\", \"w\") as f:\n",
    "    json.dump(districts, f)"
   ]
  },
  {
   "cell_type": "code",
   "execution_count": 5,
   "metadata": {
    "execution": {
     "iopub.execute_input": "2020-07-30T08:00:43.745128Z",
     "iopub.status.busy": "2020-07-30T08:00:43.744052Z",
     "iopub.status.idle": "2020-07-30T08:00:45.418180Z",
     "shell.execute_reply": "2020-07-30T08:00:45.417452Z",
     "shell.execute_reply.started": "2020-07-30T08:00:43.744979Z"
    }
   },
   "outputs": [],
   "source": [
    "with open(data_in + r\"india.json\", \"r\") as f:\n",
    "    india = json.load(f)\n",
    "for i in india[\"features\"]:\n",
    "    i[\"id\"] = \"india\"\n",
    "with open(data_out + r\"india_id.json\", \"w\") as f:\n",
    "    json.dump(india, f)"
   ]
  },
  {
   "cell_type": "code",
   "execution_count": 6,
   "metadata": {
    "execution": {
     "iopub.execute_input": "2020-07-30T08:00:45.419222Z",
     "iopub.status.busy": "2020-07-30T08:00:45.419028Z",
     "iopub.status.idle": "2020-07-30T08:00:52.497638Z",
     "shell.execute_reply": "2020-07-30T08:00:52.495194Z",
     "shell.execute_reply.started": "2020-07-30T08:00:45.419201Z"
    }
   },
   "outputs": [],
   "source": [
    "with open(data_in + r\"block.json\", \"r\") as f:\n",
    "    blocks = json.load(f)\n",
    "for i in blocks[\"features\"]:\n",
    "    v = i[\"properties\"][\"NAME_3\"].lower()\n",
    "    if v == \"allahabad\":\n",
    "        i[\"id\"] = \"prayagraj\"\n",
    "    else:\n",
    "        i[\"id\"] = v\n",
    "with open(data_out + r\"block_id.json\", \"w\") as f:\n",
    "    json.dump(blocks, f)"
   ]
  },
  {
   "cell_type": "code",
   "execution_count": 7,
   "metadata": {
    "execution": {
     "iopub.execute_input": "2020-07-30T08:01:24.275631Z",
     "iopub.status.busy": "2020-07-30T08:01:24.275386Z",
     "iopub.status.idle": "2020-07-30T08:01:25.008513Z",
     "shell.execute_reply": "2020-07-30T08:01:25.007994Z",
     "shell.execute_reply.started": "2020-07-30T08:01:24.275606Z"
    }
   },
   "outputs": [],
   "source": [
    "with open(\"../data/geojson/district_id.json\", \"r\") as f:\n",
    "    districts_json = json.load(f)\n",
    "for f in glob.glob(data_in + \"delhi-districts/*\"):\n",
    "    district_name = f.split(\"/\")[-1].split(\".\")[0]\n",
    "    with open(f) as file:\n",
    "        geojson = json.load(file)\n",
    "    geojson[\"features\"][0][\"id\"] = district_name\n",
    "    if district_name != \"west\":\n",
    "        districts_json[\"features\"].append(geojson[\"features\"][0])\n",
    "    else:\n",
    "        for i in range(len(districts_json[\"features\"])):\n",
    "            if districts_json[\"features\"][i][\"id\"] == \"west\":\n",
    "                districts_json[\"features\"][i] = geojson[\"features\"][0]\n",
    "        #         print(geojson['features'][0])"
   ]
  },
  {
   "cell_type": "code",
   "execution_count": 8,
   "metadata": {
    "execution": {
     "iopub.execute_input": "2020-07-30T07:53:48.656704Z",
     "iopub.status.busy": "2020-07-30T07:53:48.656392Z",
     "iopub.status.idle": "2020-07-30T07:53:52.188417Z",
     "shell.execute_reply": "2020-07-30T07:53:52.186627Z",
     "shell.execute_reply.started": "2020-07-30T07:53:48.656665Z"
    }
   },
   "outputs": [],
   "source": [
    "with open(\"../data/geojson/district_id.json\", \"w\") as f:\n",
    "    json.dump(districts_json, f)"
   ]
  },
  {
   "cell_type": "markdown",
   "metadata": {
    "collapsed": "true"
   },
   "source": [
    "## Find not found and save"
   ]
  },
  {
   "cell_type": "code",
   "execution_count": 3,
   "metadata": {
    "execution": {
     "iopub.execute_input": "2020-07-30T19:20:09.618148Z",
     "iopub.status.busy": "2020-07-30T19:20:09.617743Z",
     "iopub.status.idle": "2020-07-30T19:20:11.819288Z",
     "shell.execute_reply": "2020-07-30T19:20:11.818668Z",
     "shell.execute_reply.started": "2020-07-30T19:20:09.618099Z"
    }
   },
   "outputs": [],
   "source": [
    "with open(data_out + r\"district_id.json\", \"r\") as f:\n",
    "    districts_json = json.load(f)\n",
    "with open(data_out + r\"block_id.json\", \"r\") as f:\n",
    "    blocks_json = json.load(f)"
   ]
  },
  {
   "cell_type": "code",
   "execution_count": 4,
   "metadata": {
    "execution": {
     "iopub.execute_input": "2020-07-30T19:21:04.658186Z",
     "iopub.status.busy": "2020-07-30T19:21:04.657770Z",
     "iopub.status.idle": "2020-07-30T19:21:04.720389Z",
     "shell.execute_reply": "2020-07-30T19:21:04.719724Z",
     "shell.execute_reply.started": "2020-07-30T19:21:04.658140Z"
    }
   },
   "outputs": [],
   "source": [
    "df = pd.read_parquet(r\"../data/comp/categories.parquet.gzip\")"
   ]
  },
  {
   "cell_type": "code",
   "execution_count": 5,
   "metadata": {
    "execution": {
     "iopub.execute_input": "2020-07-30T08:07:35.818083Z",
     "iopub.status.busy": "2020-07-30T08:07:35.817877Z",
     "iopub.status.idle": "2020-07-30T08:07:35.952263Z",
     "shell.execute_reply": "2020-07-30T08:07:35.951514Z",
     "shell.execute_reply.started": "2020-07-30T08:07:35.818061Z"
    }
   },
   "outputs": [],
   "source": [
    "df = pd.read_parquet(r\"../data/comp/gw-block-pre-post.parquet.gzip\")"
   ]
  },
  {
   "cell_type": "code",
   "execution_count": 5,
   "metadata": {
    "execution": {
     "iopub.execute_input": "2020-07-30T19:21:13.558367Z",
     "iopub.status.busy": "2020-07-30T19:21:13.558072Z",
     "iopub.status.idle": "2020-07-30T19:21:13.574244Z",
     "shell.execute_reply": "2020-07-30T19:21:13.571765Z",
     "shell.execute_reply.started": "2020-07-30T19:21:13.558341Z"
    }
   },
   "outputs": [],
   "source": [
    "districts = list(set(list(df[\"district\"])))\n",
    "blocks = list(set(list(df[\"block\"])))"
   ]
  },
  {
   "cell_type": "code",
   "execution_count": 6,
   "metadata": {
    "execution": {
     "iopub.execute_input": "2020-07-30T19:21:21.982291Z",
     "iopub.status.busy": "2020-07-30T19:21:21.982052Z",
     "iopub.status.idle": "2020-07-30T19:21:21.995573Z",
     "shell.execute_reply": "2020-07-30T19:21:21.987696Z",
     "shell.execute_reply.started": "2020-07-30T19:21:21.982265Z"
    }
   },
   "outputs": [],
   "source": [
    "districts_not_found = []\n",
    "blocks_not_found = []"
   ]
  },
  {
   "cell_type": "code",
   "execution_count": 7,
   "metadata": {
    "execution": {
     "iopub.execute_input": "2020-07-30T19:21:22.009248Z",
     "iopub.status.busy": "2020-07-30T19:21:22.007412Z",
     "iopub.status.idle": "2020-07-30T19:21:22.313293Z",
     "shell.execute_reply": "2020-07-30T19:21:22.311542Z",
     "shell.execute_reply.started": "2020-07-30T19:21:22.009192Z"
    },
    "scrolled": true
   },
   "outputs": [],
   "source": [
    "for i in districts:\n",
    "    found = False\n",
    "    for j in districts_json[\"features\"]:\n",
    "        if j[\"id\"] == i:\n",
    "            found = True\n",
    "            break\n",
    "    if not found:\n",
    "        districts_not_found.append(i)\n",
    "df_not_districts = pd.DataFrame({\"districts\": districts_not_found})"
   ]
  },
  {
   "cell_type": "code",
   "execution_count": 8,
   "metadata": {
    "execution": {
     "iopub.execute_input": "2020-07-30T19:21:38.482880Z",
     "iopub.status.busy": "2020-07-30T19:21:38.482633Z",
     "iopub.status.idle": "2020-07-30T19:21:38.503801Z",
     "shell.execute_reply": "2020-07-30T19:21:38.500844Z",
     "shell.execute_reply.started": "2020-07-30T19:21:38.482854Z"
    }
   },
   "outputs": [],
   "source": [
    "df_not_districts.sort_values(\"districts\", inplace=True)"
   ]
  },
  {
   "cell_type": "code",
   "execution_count": 9,
   "metadata": {
    "execution": {
     "iopub.execute_input": "2020-07-30T19:21:38.505380Z",
     "iopub.status.busy": "2020-07-30T19:21:38.505060Z",
     "iopub.status.idle": "2020-07-30T19:21:40.682631Z",
     "shell.execute_reply": "2020-07-30T19:21:40.682061Z",
     "shell.execute_reply.started": "2020-07-30T19:21:38.505339Z"
    }
   },
   "outputs": [],
   "source": [
    "for i in blocks:\n",
    "    found = False\n",
    "    for j in blocks_json[\"features\"]:\n",
    "        if j[\"id\"] == i:\n",
    "            found = True\n",
    "            break\n",
    "    if not found:\n",
    "        blocks_not_found.append(i)\n",
    "df_not_blocks = pd.DataFrame({\"blocks\": blocks_not_found})\n",
    "df_not_blocks.sort_values(\"blocks\", inplace=True)"
   ]
  },
  {
   "cell_type": "code",
   "execution_count": 11,
   "metadata": {
    "execution": {
     "iopub.execute_input": "2020-07-30T19:22:06.726233Z",
     "iopub.status.busy": "2020-07-30T19:22:06.726048Z",
     "iopub.status.idle": "2020-07-30T19:22:44.327204Z",
     "shell.execute_reply": "2020-07-30T19:22:44.326034Z",
     "shell.execute_reply.started": "2020-07-30T19:22:06.726213Z"
    }
   },
   "outputs": [],
   "source": [
    "ite_v = 0\n",
    "for i in blocks_not_found:\n",
    "    t = (\n",
    "        df[df[\"block\"] == i]\n",
    "        .groupby([\"state\", \"district\", \"block\"])\n",
    "        .count()\n",
    "        .reset_index()\n",
    "        .loc[:, [\"state\", \"district\", \"block\"]]\n",
    "    )\n",
    "    if ite_v >= 1:\n",
    "        t_ans = t_ans.append(t, ignore_index=True)\n",
    "    else:\n",
    "        t_ans = t\n",
    "        ite_v += 1\n",
    "\n",
    "#         print(t,t_ans)\n",
    "#         break"
   ]
  },
  {
   "cell_type": "code",
   "execution_count": 12,
   "metadata": {
    "execution": {
     "iopub.execute_input": "2020-07-30T19:22:52.295660Z",
     "iopub.status.busy": "2020-07-30T19:22:52.295425Z",
     "iopub.status.idle": "2020-07-30T19:22:52.301626Z",
     "shell.execute_reply": "2020-07-30T19:22:52.300431Z",
     "shell.execute_reply.started": "2020-07-30T19:22:52.295625Z"
    }
   },
   "outputs": [
    {
     "data": {
      "text/plain": [
       "5214"
      ]
     },
     "execution_count": 12,
     "metadata": {},
     "output_type": "execute_result"
    }
   ],
   "source": [
    "len(blocks_not_found)"
   ]
  },
  {
   "cell_type": "code",
   "execution_count": 13,
   "metadata": {
    "execution": {
     "iopub.execute_input": "2020-07-30T19:22:52.304587Z",
     "iopub.status.busy": "2020-07-30T19:22:52.304266Z",
     "iopub.status.idle": "2020-07-30T19:22:52.488099Z",
     "shell.execute_reply": "2020-07-30T19:22:52.483601Z",
     "shell.execute_reply.started": "2020-07-30T19:22:52.304549Z"
    }
   },
   "outputs": [],
   "source": [
    "t_ans.to_csv(r\"../data/blocks_not_found_categories.csv\", index=False)"
   ]
  },
  {
   "cell_type": "code",
   "execution_count": 14,
   "metadata": {
    "execution": {
     "iopub.execute_input": "2020-07-30T19:22:52.502061Z",
     "iopub.status.busy": "2020-07-30T19:22:52.501456Z",
     "iopub.status.idle": "2020-07-30T19:22:52.567837Z",
     "shell.execute_reply": "2020-07-30T19:22:52.566155Z",
     "shell.execute_reply.started": "2020-07-30T19:22:52.502006Z"
    }
   },
   "outputs": [
    {
     "data": {
      "text/plain": [
       "(5368, 3)"
      ]
     },
     "execution_count": 14,
     "metadata": {},
     "output_type": "execute_result"
    }
   ],
   "source": [
    "t_ans.shape"
   ]
  },
  {
   "cell_type": "code",
   "execution_count": 15,
   "metadata": {
    "execution": {
     "iopub.execute_input": "2020-07-30T19:22:52.574148Z",
     "iopub.status.busy": "2020-07-30T19:22:52.573741Z",
     "iopub.status.idle": "2020-07-30T19:22:52.667424Z",
     "shell.execute_reply": "2020-07-30T19:22:52.652034Z",
     "shell.execute_reply.started": "2020-07-30T19:22:52.574103Z"
    }
   },
   "outputs": [],
   "source": [
    "df_not_districts.to_csv(\n",
    "    r\"../data/districts_not_found_categories.csv\", index=False\n",
    ")"
   ]
  },
  {
   "cell_type": "code",
   "execution_count": 16,
   "metadata": {
    "execution": {
     "iopub.execute_input": "2020-07-30T19:22:52.684013Z",
     "iopub.status.busy": "2020-07-30T19:22:52.683352Z",
     "iopub.status.idle": "2020-07-30T19:22:52.765844Z",
     "shell.execute_reply": "2020-07-30T19:22:52.757620Z",
     "shell.execute_reply.started": "2020-07-30T19:22:52.683904Z"
    }
   },
   "outputs": [],
   "source": [
    "block = []\n",
    "for j in blocks_json[\"features\"]:\n",
    "    block.append(j[\"id\"])\n",
    "all_blocks_json = pd.DataFrame({\"blocks\": block})\n",
    "all_blocks_json.sort_values(\"blocks\", inplace=True)"
   ]
  },
  {
   "cell_type": "code",
   "execution_count": 17,
   "metadata": {
    "execution": {
     "iopub.execute_input": "2020-07-30T19:22:52.800416Z",
     "iopub.status.busy": "2020-07-30T19:22:52.797462Z",
     "iopub.status.idle": "2020-07-30T19:22:52.955971Z",
     "shell.execute_reply": "2020-07-30T19:22:52.951592Z",
     "shell.execute_reply.started": "2020-07-30T19:22:52.800288Z"
    }
   },
   "outputs": [],
   "source": [
    "all_blocks_json.to_csv(r\"../data/all-blocks-json.csv\", index=False)"
   ]
  },
  {
   "cell_type": "code",
   "execution_count": 18,
   "metadata": {
    "execution": {
     "iopub.execute_input": "2020-07-30T19:22:52.963294Z",
     "iopub.status.busy": "2020-07-30T19:22:52.962706Z",
     "iopub.status.idle": "2020-07-30T19:22:53.111970Z",
     "shell.execute_reply": "2020-07-30T19:22:53.106722Z",
     "shell.execute_reply.started": "2020-07-30T19:22:52.963219Z"
    }
   },
   "outputs": [],
   "source": [
    "district = []\n",
    "for j in districts_json[\"features\"]:\n",
    "    district.append(j[\"id\"])\n",
    "all_districts_json = pd.DataFrame({\"districts\": district})\n",
    "all_districts_json.sort_values(\"districts\", inplace=True)"
   ]
  },
  {
   "cell_type": "code",
   "execution_count": 19,
   "metadata": {
    "execution": {
     "iopub.execute_input": "2020-07-30T19:22:53.114180Z",
     "iopub.status.busy": "2020-07-30T19:22:53.113685Z",
     "iopub.status.idle": "2020-07-30T19:22:53.188081Z",
     "shell.execute_reply": "2020-07-30T19:22:53.186036Z",
     "shell.execute_reply.started": "2020-07-30T19:22:53.114111Z"
    }
   },
   "outputs": [],
   "source": [
    "all_districts_json.to_csv(r\"../data/all-districts-json.csv\", index=False)"
   ]
  },
  {
   "cell_type": "markdown",
   "metadata": {
    "collapsed": "true"
   },
   "source": [
    "## Rough"
   ]
  },
  {
   "cell_type": "code",
   "execution_count": 26,
   "metadata": {
    "execution": {
     "iopub.execute_input": "2020-07-31T11:35:38.376741Z",
     "iopub.status.busy": "2020-07-31T11:35:38.376389Z",
     "iopub.status.idle": "2020-07-31T11:35:39.895625Z",
     "shell.execute_reply": "2020-07-31T11:35:39.895014Z",
     "shell.execute_reply.started": "2020-07-31T11:35:38.376700Z"
    }
   },
   "outputs": [],
   "source": [
    "with open(data_out + r\"block_id.json\", \"r\") as f:\n",
    "    blocks_json = json.load(f)"
   ]
  },
  {
   "cell_type": "code",
   "execution_count": 27,
   "metadata": {
    "execution": {
     "iopub.execute_input": "2020-07-31T11:35:52.104297Z",
     "iopub.status.busy": "2020-07-31T11:35:52.104092Z",
     "iopub.status.idle": "2020-07-31T11:35:52.119805Z",
     "shell.execute_reply": "2020-07-31T11:35:52.111372Z",
     "shell.execute_reply.started": "2020-07-31T11:35:52.104267Z"
    }
   },
   "outputs": [],
   "source": [
    "df = pd.read_csv(r\"../data/blocks_not_found_categories.csv\")"
   ]
  },
  {
   "cell_type": "code",
   "execution_count": 28,
   "metadata": {
    "execution": {
     "iopub.execute_input": "2020-07-31T11:36:04.221584Z",
     "iopub.status.busy": "2020-07-31T11:36:04.221382Z",
     "iopub.status.idle": "2020-07-31T11:36:04.240030Z",
     "shell.execute_reply": "2020-07-31T11:36:04.238388Z",
     "shell.execute_reply.started": "2020-07-31T11:36:04.221560Z"
    }
   },
   "outputs": [
    {
     "data": {
      "text/html": [
       "<div>\n",
       "<style scoped>\n",
       "    .dataframe tbody tr th:only-of-type {\n",
       "        vertical-align: middle;\n",
       "    }\n",
       "\n",
       "    .dataframe tbody tr th {\n",
       "        vertical-align: top;\n",
       "    }\n",
       "\n",
       "    .dataframe thead th {\n",
       "        text-align: right;\n",
       "    }\n",
       "</style>\n",
       "<table border=\"1\" class=\"dataframe\">\n",
       "  <thead>\n",
       "    <tr style=\"text-align: right;\">\n",
       "      <th></th>\n",
       "      <th>block</th>\n",
       "      <th>state</th>\n",
       "    </tr>\n",
       "  </thead>\n",
       "  <tbody>\n",
       "    <tr>\n",
       "      <th>0</th>\n",
       "      <td>porlob island</td>\n",
       "      <td>andaman &amp; nicobar</td>\n",
       "    </tr>\n",
       "    <tr>\n",
       "      <th>1</th>\n",
       "      <td>aves island</td>\n",
       "      <td>andaman &amp; nicobar</td>\n",
       "    </tr>\n",
       "    <tr>\n",
       "      <th>2</th>\n",
       "      <td>bampooka island</td>\n",
       "      <td>andaman &amp; nicobar</td>\n",
       "    </tr>\n",
       "    <tr>\n",
       "      <th>3</th>\n",
       "      <td>tillangchang island</td>\n",
       "      <td>andaman &amp; nicobar</td>\n",
       "    </tr>\n",
       "    <tr>\n",
       "      <th>4</th>\n",
       "      <td>pulo milo island</td>\n",
       "      <td>andaman &amp; nicobar</td>\n",
       "    </tr>\n",
       "  </tbody>\n",
       "</table>\n",
       "</div>"
      ],
      "text/plain": [
       "                 block              state\n",
       "0        porlob island  andaman & nicobar\n",
       "1          aves island  andaman & nicobar\n",
       "2      bampooka island  andaman & nicobar\n",
       "3  tillangchang island  andaman & nicobar\n",
       "4     pulo milo island  andaman & nicobar"
      ]
     },
     "execution_count": 28,
     "metadata": {},
     "output_type": "execute_result"
    }
   ],
   "source": [
    "df.head()"
   ]
  },
  {
   "cell_type": "code",
   "execution_count": 29,
   "metadata": {
    "execution": {
     "iopub.execute_input": "2020-07-31T11:36:16.333107Z",
     "iopub.status.busy": "2020-07-31T11:36:16.332744Z",
     "iopub.status.idle": "2020-07-31T11:36:16.355404Z",
     "shell.execute_reply": "2020-07-31T11:36:16.353973Z",
     "shell.execute_reply.started": "2020-07-31T11:36:16.333075Z"
    }
   },
   "outputs": [],
   "source": [
    "blocks = list(df.loc[:, \"block\"].values)"
   ]
  },
  {
   "cell_type": "code",
   "execution_count": 30,
   "metadata": {
    "execution": {
     "iopub.execute_input": "2020-07-31T11:36:16.358837Z",
     "iopub.status.busy": "2020-07-31T11:36:16.358401Z",
     "iopub.status.idle": "2020-07-31T11:36:16.478568Z",
     "shell.execute_reply": "2020-07-31T11:36:16.476110Z",
     "shell.execute_reply.started": "2020-07-31T11:36:16.358788Z"
    }
   },
   "outputs": [
    {
     "data": {
      "text/plain": [
       "1897"
      ]
     },
     "execution_count": 30,
     "metadata": {},
     "output_type": "execute_result"
    }
   ],
   "source": [
    "len(blocks)"
   ]
  },
  {
   "cell_type": "code",
   "execution_count": 34,
   "metadata": {
    "execution": {
     "iopub.execute_input": "2020-07-31T12:05:07.801763Z",
     "iopub.status.busy": "2020-07-31T12:05:07.801444Z",
     "iopub.status.idle": "2020-07-31T12:05:07.865568Z",
     "shell.execute_reply": "2020-07-31T12:05:07.864944Z",
     "shell.execute_reply.started": "2020-07-31T12:05:07.801727Z"
    }
   },
   "outputs": [
    {
     "name": "stdout",
     "output_type": "stream",
     "text": [
      "{'type': 'Feature', 'geometry': {'type': 'Polygon', 'coordinates': [[[81.39836883544928, 16.42198181152338], [81.39380645751959, 16.426460266113338], [81.38992309570312, 16.431970596313477], [81.38741302490234, 16.440700531005916], [81.37711334228516, 16.443210601806754], [81.37551879882824, 16.445262908935604], [81.37552642822277, 16.44832038879406], [81.36934661865234, 16.451620101928768], [81.36239624023449, 16.463190078735465], [81.36602783203136, 16.468799591064396], [81.35912322998058, 16.477651596069336], [81.35949707031261, 16.489379882812557], [81.36234283447271, 16.49373054504389], [81.36178588867199, 16.498939514160213], [81.35874176025402, 16.499521255493164], [81.3550033569336, 16.501501083374023], [81.35188293457043, 16.507690429687557], [81.34337615966797, 16.504882812500057], [81.33036041259777, 16.50354957580572], [81.32417297363287, 16.506170272827205], [81.32121276855463, 16.50941085815441], [81.3217163085938, 16.513320922851676], [81.32995605468761, 16.514770507812557], [81.32862854003918, 16.51959037780756], [81.33557891845703, 16.530620574951172], [81.34037780761724, 16.54137039184576], [81.34539031982433, 16.556821823120117], [81.33569335937511, 16.560920715332088], [81.33587646484386, 16.56856918334961], [81.33831024169928, 16.58391952514654], [81.34306335449224, 16.595399856567326], [81.33963012695318, 16.599149703979492], [81.33264160156261, 16.598100662231445], [81.32437133789068, 16.603378295898438], [81.31707000732422, 16.610652923584098], [81.31543731689464, 16.614049911499023], [81.31851959228527, 16.63336944580078], [81.3228607177735, 16.6478595733642], [81.32443237304699, 16.668191909790096], [81.32205963134771, 16.673669815063477], [81.3208389282226, 16.67296981811529], [81.31299591064464, 16.67860031127924], [81.30616760253906, 16.681570053100586], [81.30168914794928, 16.682151794433594], [81.29888916015636, 16.681760787963867], [81.29557037353521, 16.679269790649528], [81.28372955322271, 16.666910171508903], [81.27596282958996, 16.657180786132812], [81.26928710937511, 16.641969680786133], [81.26589965820307, 16.621259689331055], [81.2596664428711, 16.600040435791016], [81.25634765625011, 16.59585952758789], [81.23841857910168, 16.587659835815543], [81.22926330566418, 16.582189559936523], [81.22721862792969, 16.57801055908203], [81.22757720947266, 16.571271896362248], [81.2270278930664, 16.568090438842773], [81.22265625, 16.56636238098156], [81.21752929687506, 16.56627082824707], [81.21211242675776, 16.568260192871037], [81.20140838623058, 16.578718185424748], [81.19477081298828, 16.59103965759283], [81.17666625976562, 16.613809585571346], [81.17118835449224, 16.613599777221793], [81.16308593750011, 16.611482620239258], [81.1541519165039, 16.61107063293457], [81.14697265625006, 16.6004695892334], [81.14089965820318, 16.5878200531007], [81.12523651123053, 16.59654045104986], [81.11766815185558, 16.593862533569393], [81.1056594848634, 16.587961196899357], [81.10243225097668, 16.58819961547846], [81.08309936523443, 16.602359771728516], [81.07727813720703, 16.600179672241268], [81.07367706298828, 16.596080780029297], [81.07213592529297, 16.592029571533203], [81.0726928710937, 16.589479446411076], [81.08065032958996, 16.583560943603572], [81.08184051513666, 16.581470489502067], [81.07750701904297, 16.577339172363338], [81.07118225097656, 16.574148178100586], [81.05715179443365, 16.569339752197266], [81.0508422851563, 16.56650161743164], [81.03505706787121, 16.563890457153434], [81.04373931884766, 16.55256080627447], [81.03881072998053, 16.54421043395996], [81.04525756835938, 16.540800094604492], [81.04989624023443, 16.537441253662223], [81.05108642578136, 16.5313396453858], [81.05497741699219, 16.527191162109432], [81.05502319335943, 16.51774978637701], [81.06311035156261, 16.50490951538086], [81.06790161132824, 16.502880096435604], [81.07163238525396, 16.502998352050895], [81.07108306884771, 16.492691040039176], [81.07462310791016, 16.493320465087947], [81.07549285888683, 16.485122680664062], [81.07955932617182, 16.477689743041992], [81.0766983032226, 16.470609664916992], [81.07710266113281, 16.46810913085949], [81.08672332763678, 16.45712852478033], [81.08738708496094, 16.454071044921875], [81.08254241943365, 16.445392608642578], [81.07862854003906, 16.44024085998541], [81.08229827880865, 16.437040328979492], [81.09015655517584, 16.43235969543457], [81.09526062011719, 16.431039810180664], [81.09822845458996, 16.436250686645565], [81.10135650634766, 16.433179855346623], [81.10938262939459, 16.433210372924805], [81.10946655273449, 16.428440093994197], [81.12313842773443, 16.421249389648438], [81.11888122558594, 16.411430358886832], [81.11792755126953, 16.405080795288143], [81.11931610107428, 16.400079727172795], [81.12345123291016, 16.39763069152832], [81.12319946289074, 16.394670486450252], [81.11715698242188, 16.39361953735363], [81.11724090576178, 16.388900756835994], [81.11528778076172, 16.38425254821783], [81.10881805419928, 16.384611129760742], [81.10578918457037, 16.379730224609432], [81.10424804687506, 16.37479972839367], [81.11007690429682, 16.36808967590332], [81.11530303955084, 16.36063957214361], [81.12069702148449, 16.3517303466798], [81.12560272216803, 16.35297012329113], [81.13630676269537, 16.36814117431652], [81.1453323364259, 16.37906074523937], [81.15136718750006, 16.38997840881342], [81.16629028320324, 16.39073944091797], [81.16674041748047, 16.385772705078125], [81.16543579101562, 16.377891540527457], [81.17842102050781, 16.374469757080135], [81.19664764404308, 16.37257957458496], [81.19713592529303, 16.35852813720703], [81.20899963378912, 16.358339309692383], [81.21710968017578, 16.35822105407709], [81.22657775878918, 16.361471176147404], [81.22757720947266, 16.371387481689453], [81.23084259033203, 16.372200012206974], [81.2343368530274, 16.37308120727539], [81.2385025024414, 16.37330055236822], [81.24259185791027, 16.373510360717773], [81.24761199951172, 16.377359390258903], [81.25591278076178, 16.38663101196289], [81.25984954833984, 16.393190383911246], [81.2697525024414, 16.394979476928825], [81.27433776855469, 16.393329620361328], [81.27466583251964, 16.387660980224666], [81.27662658691406, 16.38777160644537], [81.2787094116211, 16.38788986206066], [81.29129791259766, 16.395732879638786], [81.30171203613293, 16.400550842285213], [81.30274200439453, 16.401027679443416], [81.30700683593756, 16.405330657958984], [81.31111907958984, 16.40591812133789], [81.31439971923828, 16.406391143798942], [81.31923675537115, 16.405019760131836], [81.32158660888683, 16.401500701904297], [81.32550811767584, 16.406362533569393], [81.33692169189453, 16.40157127380371], [81.34307098388678, 16.396289825439567], [81.34452819824219, 16.397050857543945], [81.346206665039, 16.39793014526373], [81.35407257080078, 16.398019790649414], [81.37816619873053, 16.40125274658203], [81.38263702392572, 16.403440475463867], [81.37879943847668, 16.408439636230412], [81.3907318115235, 16.415430068969783], [81.39836883544928, 16.42198181152338]]]}, 'properties': {'GID_0': 'IND', 'NAME_0': 'India', 'GID_1': 'IND.2_1', 'NAME_1': 'Andhra Pradesh', 'NL_NAME_1': '', 'GID_2': 'IND.2.5_1', 'NAME_2': 'Krishna', 'NL_NAME_2': '', 'GID_3': 'IND.2.5.5_1', 'NAME_3': 'Kaikalur', 'VARNAME_3': '', 'NL_NAME_3': '', 'TYPE_3': 'Taluk', 'ENGTYPE_3': 'Taluk', 'CC_3': '', 'HASC_3': ''}, 'id': 'kaikalur'}\n"
     ]
    }
   ],
   "source": [
    "blocks_not_found = []\n",
    "for i in blocks:\n",
    "    #     print(i)\n",
    "    found = False\n",
    "    for j in blocks_json[\"features\"]:\n",
    "        if j[\"id\"] == i:\n",
    "            found = True\n",
    "            break\n",
    "    if not found:\n",
    "        blocks_not_found.append(i)\n",
    "df_not_blocks = pd.DataFrame({\"blocks\": blocks_not_found})"
   ]
  },
  {
   "cell_type": "code",
   "execution_count": null,
   "metadata": {},
   "outputs": [],
   "source": [
    "df_not_blocks = pd.DataFrame({\"blocks\": blocks_not_found})"
   ]
  },
  {
   "cell_type": "code",
   "execution_count": 33,
   "metadata": {
    "execution": {
     "iopub.execute_input": "2020-07-31T11:36:53.519333Z",
     "iopub.status.busy": "2020-07-31T11:36:53.519018Z",
     "iopub.status.idle": "2020-07-31T11:36:53.608293Z",
     "shell.execute_reply": "2020-07-31T11:36:53.606465Z",
     "shell.execute_reply.started": "2020-07-31T11:36:53.519296Z"
    }
   },
   "outputs": [
    {
     "data": {
      "text/plain": [
       "1836"
      ]
     },
     "execution_count": 33,
     "metadata": {},
     "output_type": "execute_result"
    }
   ],
   "source": [
    "len(blocks_not_found)"
   ]
  },
  {
   "cell_type": "code",
   "execution_count": 28,
   "metadata": {
    "execution": {
     "iopub.execute_input": "2020-07-29T13:26:25.909018Z",
     "iopub.status.busy": "2020-07-29T13:26:25.908795Z",
     "iopub.status.idle": "2020-07-29T13:26:25.913969Z",
     "shell.execute_reply": "2020-07-29T13:26:25.912988Z",
     "shell.execute_reply.started": "2020-07-29T13:26:25.908995Z"
    }
   },
   "outputs": [
    {
     "name": "stdout",
     "output_type": "stream",
     "text": [
      "{'type': 'Feature', 'properties': {}, 'geometry': {'type': 'Polygon', 'coordinates': [[[76.95751190185547, 28.684564054643918], [76.95744752883911, 28.684413460213964], [76.95736169815062, 28.684262865567455], [76.95699691772461, 28.683660484815782], [76.95562362670898, 28.670708460642608], [76.95493698120117, 28.670407231724507], [76.95545196533203, 28.66920230739231], [76.97982788085938, 28.654591497496344], [76.98532104492188, 28.654591497496344], [76.9951057434082, 28.660315562573203], [77.00077056884764, 28.655043408733377], [77.00557708740234, 28.651277422243783], [77.00540542602539, 28.636212123876533], [77.00763702392578, 28.634705475045894], [77.01107025146484, 28.62762393578897], [77.01759338378906, 28.62415832756724], [77.02360153198242, 28.626267841849668], [77.02857971191406, 28.629281360145207], [77.0313262939453, 28.62943203378891], [77.03235626220703, 28.632294791921947], [77.03493118286133, 28.630034726200766], [77.03681945800781, 28.627925287618567], [77.04008102416992, 28.63018539876298], [77.04231262207031, 28.63184278267126], [77.04437255859375, 28.633801475363963], [77.04488754272461, 28.63696544017949], [77.0445442199707, 28.640581283147768], [77.0442008972168, 28.642389157900553], [77.04282760620117, 28.644046349054342], [77.04076766967773, 28.646306112981062], [77.04368591308594, 28.646908708472537], [77.04780578613281, 28.649620345339766], [77.05055236816406, 28.65082549477587], [77.05209732055664, 28.65203063036226], [77.05432891845703, 28.652633192961712], [77.05535888671874, 28.652633192961712], [77.05810546875, 28.646306112981062], [77.06171035766602, 28.639526675154492], [77.06308364868164, 28.638321395895705], [77.06342697143555, 28.63696544017949], [77.0639419555664, 28.63545880216531], [77.06480026245117, 28.632596130340872], [77.06892013549805, 28.62265150569845], [77.06857681274414, 28.62099397666423], [77.07269668579102, 28.620240545725636], [77.0749282836914, 28.618884356412234], [77.0775032043457, 28.61617192523814], [77.08316802978516, 28.615267765944424], [77.0862579345703, 28.615870539671818], [77.09432601928711, 28.618281599983852], [77.09775924682616, 28.618281599983852], [77.09999084472656, 28.616925385369825], [77.10376739501953, 28.6122538454134], [77.10599899291991, 28.606979276381438], [77.10891723632812, 28.607582097675095], [77.10960388183592, 28.610445451581292], [77.11063385009766, 28.61270593900667], [77.11544036865234, 28.617980220472187], [77.12333679199219, 28.62656919757239], [77.13123321533203, 28.6306374151518], [77.13689804077147, 28.634705475045894], [77.1573257446289, 28.64359439042694], [77.16127395629883, 28.64495026046713], [77.16951370239258, 28.645251562540405], [77.17981338500977, 28.64540221325249], [77.1799850463867, 28.646607411159582], [77.1796417236328, 28.660918077558275], [77.17758178710938, 28.660466191644154], [77.17620849609375, 28.65790546800171], [77.1731185913086, 28.65444085998448], [77.16865539550781, 28.65489277187078], [77.16676712036133, 28.65654976545602], [77.16728210449219, 28.65895989119463], [77.16934204101562, 28.662725601734113], [77.17105865478516, 28.666189935945255], [77.17020034790039, 28.667545513812335], [77.15011596679688, 28.67552800555345], [77.13964462280273, 28.676431645541516], [77.12024688720703, 28.678088298607744], [77.11612701416016, 28.679293120744873], [77.113037109375, 28.679594324113783], [77.11166381835938, 28.680799128927678], [77.10960388183592, 28.685317023545167], [77.10823059082031, 28.68712412681795], [77.10651397705078, 28.68772648764515], [77.09449768066406, 28.68863002238851], [77.09278106689453, 28.68772648764515], [77.09209442138672, 28.686371170911], [77.09020614624022, 28.684262865567455], [77.08797454833984, 28.684262865567455], [77.08677291870117, 28.686371170911], [77.08419799804688, 28.687274717349613], [77.08162307739258, 28.68847943380607], [77.07080841064452, 28.693749905318693], [77.069091796875, 28.693749905318693], [77.06565856933594, 28.69164174855349], [77.06205368041992, 28.686822945104904], [77.0584487915039, 28.68757589776321], [77.04025268554688, 28.698568389925732], [77.02875137329102, 28.69826724113654], [77.01845169067383, 28.695255705586554], [77.01810836791992, 28.693147579146437], [77.00780868530273, 28.68305810059914], [77.0060920715332, 28.681702723443177], [77.00111389160156, 28.681100327965716], [76.9976806640625, 28.686973536069704], [76.99613571166991, 28.68847943380607], [76.99424743652344, 28.689834723250886], [76.99270248413086, 28.69149116430289], [76.98841094970703, 28.69435222802519], [76.98463439941405, 28.697815516328], [76.97776794433594, 28.701429260204154], [76.9676399230957, 28.70263381376593], [76.96695327758789, 28.70157983015765], [76.96557998657225, 28.693900486320242], [76.96420669555664, 28.693900486320242], [76.95751190185547, 28.684564054643918]]]}, 'id': 'west'}\n"
     ]
    }
   ],
   "source": [
    "for i in districts_json[\"features\"]:\n",
    "    if i[\"id\"].lower() == \"west\":\n",
    "        print(i)"
   ]
  },
  {
   "cell_type": "code",
   "execution_count": 11,
   "metadata": {
    "execution": {
     "iopub.execute_input": "2020-07-31T11:23:09.615760Z",
     "iopub.status.busy": "2020-07-31T11:23:09.615420Z",
     "iopub.status.idle": "2020-07-31T11:23:11.026145Z",
     "shell.execute_reply": "2020-07-31T11:23:11.025396Z",
     "shell.execute_reply.started": "2020-07-31T11:23:09.615723Z"
    }
   },
   "outputs": [
    {
     "name": "stdout",
     "output_type": "stream",
     "text": [
      "{'GID_0': 'IND', 'NAME_0': 'India', 'GID_1': 'IND.19_1', 'NAME_1': 'Madhya Pradesh', 'NL_NAME_1': '', 'GID_2': 'IND.19.44_1', 'NAME_2': 'Shivpuri', 'NL_NAME_2': '', 'GID_3': 'IND.19.44.5_1', 'NAME_3': 'Shivpuri', 'VARNAME_3': '', 'NL_NAME_3': '', 'TYPE_3': 'Taluk', 'ENGTYPE_3': 'Taluk', 'CC_3': '', 'HASC_3': ''}\n"
     ]
    }
   ],
   "source": [
    "with open(data_in + r\"block.json\", \"r\") as f:\n",
    "    blocks = json.load(f)\n",
    "for i in blocks[\"features\"]:\n",
    "    v = i[\"properties\"]\n",
    "    if \"puri\" in v[\"NAME_3\"].lower():\n",
    "        print(v)\n",
    "        break"
   ]
  },
  {
   "cell_type": "code",
   "execution_count": null,
   "metadata": {},
   "outputs": [],
   "source": []
  }
 ],
 "metadata": {
  "kernelspec": {
   "display_name": "Python [conda env:sih]",
   "language": "python",
   "name": "conda-env-sih-py"
  },
  "language_info": {
   "codemirror_mode": {
    "name": "ipython",
    "version": 3
   },
   "file_extension": ".py",
   "mimetype": "text/x-python",
   "name": "python",
   "nbconvert_exporter": "python",
   "pygments_lexer": "ipython3",
   "version": "3.8.3"
  },
  "widgets": {
   "application/vnd.jupyter.widget-state+json": {
    "state": {},
    "version_major": 2,
    "version_minor": 0
   }
  }
 },
 "nbformat": 4,
 "nbformat_minor": 4
}
