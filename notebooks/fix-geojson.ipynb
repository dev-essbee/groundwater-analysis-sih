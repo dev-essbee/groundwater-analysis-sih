{
 "cells": [
  {
   "cell_type": "code",
   "execution_count": 1,
   "metadata": {
    "execution": {
     "iopub.execute_input": "2020-07-26T12:40:23.555497Z",
     "iopub.status.busy": "2020-07-26T12:40:23.554667Z",
     "iopub.status.idle": "2020-07-26T12:40:23.569447Z",
     "shell.execute_reply": "2020-07-26T12:40:23.567788Z",
     "shell.execute_reply.started": "2020-07-26T12:40:23.555398Z"
    }
   },
   "outputs": [],
   "source": [
    "import json\n",
    "import pandas as pd"
   ]
  },
  {
   "cell_type": "code",
   "execution_count": 2,
   "metadata": {
    "execution": {
     "iopub.execute_input": "2020-07-26T12:40:23.967971Z",
     "iopub.status.busy": "2020-07-26T12:40:23.967662Z",
     "iopub.status.idle": "2020-07-26T12:40:23.975974Z",
     "shell.execute_reply": "2020-07-26T12:40:23.973067Z",
     "shell.execute_reply.started": "2020-07-26T12:40:23.967938Z"
    }
   },
   "outputs": [],
   "source": [
    "data_in = \"../../sih-raw-data/geojson/\"\n",
    "data_out = \"../data/geojson/\""
   ]
  },
  {
   "cell_type": "code",
   "execution_count": 3,
   "metadata": {
    "execution": {
     "iopub.execute_input": "2020-07-26T03:08:49.027106Z",
     "iopub.status.busy": "2020-07-26T03:08:49.026626Z",
     "iopub.status.idle": "2020-07-26T03:08:49.721774Z",
     "shell.execute_reply": "2020-07-26T03:08:49.719850Z",
     "shell.execute_reply.started": "2020-07-26T03:08:49.027046Z"
    }
   },
   "outputs": [],
   "source": [
    "with open(data_in + r\"gadm36_IND_1.json\", \"r\") as f:\n",
    "    states = json.load(f)"
   ]
  },
  {
   "cell_type": "code",
   "execution_count": 4,
   "metadata": {
    "execution": {
     "iopub.execute_input": "2020-07-26T03:08:51.688124Z",
     "iopub.status.busy": "2020-07-26T03:08:51.687808Z",
     "iopub.status.idle": "2020-07-26T03:08:51.702701Z",
     "shell.execute_reply": "2020-07-26T03:08:51.701786Z",
     "shell.execute_reply.started": "2020-07-26T03:08:51.688088Z"
    }
   },
   "outputs": [],
   "source": [
    "for i in states[\"features\"]:\n",
    "    v = i[\"properties\"][\"NAME_1\"].lower()\n",
    "    if v == \"nct of delhi\":\n",
    "        i[\"id\"] = \"delhi\"\n",
    "    elif v == \"jammu and kashmir\":\n",
    "        i[\"id\"] = \"jammu & kashmir\"\n",
    "    elif v == \"puducherry\":\n",
    "        i[\"id\"] = \"pondicherry\"\n",
    "    elif v == \"andaman and nicobar\":\n",
    "        i[\"id\"] = \"andaman & nicobar\"\n",
    "    elif v == \"dadar and nagar haveli\":\n",
    "        i[\"id\"] = \"dadar and nagar hav\"\n",
    "    elif v == \"tamil nadu\":\n",
    "        i[\"id\"] = \"tamilnadu\"\n",
    "    else:\n",
    "        i[\"id\"] = v"
   ]
  },
  {
   "cell_type": "code",
   "execution_count": 5,
   "metadata": {
    "execution": {
     "iopub.execute_input": "2020-07-26T03:08:56.713530Z",
     "iopub.status.busy": "2020-07-26T03:08:56.713206Z",
     "iopub.status.idle": "2020-07-26T03:08:59.254123Z",
     "shell.execute_reply": "2020-07-26T03:08:59.252407Z",
     "shell.execute_reply.started": "2020-07-26T03:08:56.713490Z"
    }
   },
   "outputs": [],
   "source": [
    "with open(data_out + r\"gadm36_IND_1_id.json\", \"w\") as f:\n",
    "    json.dump(states, f)"
   ]
  },
  {
   "cell_type": "code",
   "execution_count": 8,
   "metadata": {
    "execution": {
     "iopub.execute_input": "2020-07-25T19:10:47.388318Z",
     "iopub.status.busy": "2020-07-25T19:10:47.387907Z",
     "iopub.status.idle": "2020-07-25T19:10:47.855742Z",
     "shell.execute_reply": "2020-07-25T19:10:47.855215Z",
     "shell.execute_reply.started": "2020-07-25T19:10:47.388270Z"
    }
   },
   "outputs": [],
   "source": [
    "with open(data_in + r\"gadm36_IND_0.json\", \"r\") as f:\n",
    "    districts = json.load(f)"
   ]
  },
  {
   "cell_type": "code",
   "execution_count": 9,
   "metadata": {
    "execution": {
     "iopub.execute_input": "2020-07-25T19:10:49.561703Z",
     "iopub.status.busy": "2020-07-25T19:10:49.561315Z",
     "iopub.status.idle": "2020-07-25T19:10:49.574065Z",
     "shell.execute_reply": "2020-07-25T19:10:49.568072Z",
     "shell.execute_reply.started": "2020-07-25T19:10:49.561659Z"
    }
   },
   "outputs": [],
   "source": [
    "for i in districts[\"features\"]:\n",
    "    i[\"id\"] = i[\"properties\"][\"NAME_0\"].lower()"
   ]
  },
  {
   "cell_type": "code",
   "execution_count": 10,
   "metadata": {
    "execution": {
     "iopub.execute_input": "2020-07-25T19:10:52.644614Z",
     "iopub.status.busy": "2020-07-25T19:10:52.644412Z",
     "iopub.status.idle": "2020-07-25T19:10:54.671276Z",
     "shell.execute_reply": "2020-07-25T19:10:54.669723Z",
     "shell.execute_reply.started": "2020-07-25T19:10:52.644592Z"
    }
   },
   "outputs": [],
   "source": [
    "with open(data_out + r\"gadm36_IND_0_id.json\", \"w\") as f:\n",
    "    json.dump(districts, f)"
   ]
  },
  {
   "cell_type": "markdown",
   "metadata": {},
   "source": [
    "## Rough"
   ]
  },
  {
   "cell_type": "code",
   "execution_count": 3,
   "metadata": {
    "execution": {
     "iopub.execute_input": "2020-07-26T12:40:27.647072Z",
     "iopub.status.busy": "2020-07-26T12:40:27.645669Z",
     "iopub.status.idle": "2020-07-26T12:40:29.147209Z",
     "shell.execute_reply": "2020-07-26T12:40:29.146693Z",
     "shell.execute_reply.started": "2020-07-26T12:40:27.646904Z"
    }
   },
   "outputs": [],
   "source": [
    "with open(data_out + r\"gadm36_IND_3_id.json\", \"r\") as f:\n",
    "    blocks = json.load(f)"
   ]
  },
  {
   "cell_type": "code",
   "execution_count": 5,
   "metadata": {
    "execution": {
     "iopub.execute_input": "2020-07-26T12:40:41.370110Z",
     "iopub.status.busy": "2020-07-26T12:40:41.367381Z",
     "iopub.status.idle": "2020-07-26T12:40:41.393620Z",
     "shell.execute_reply": "2020-07-26T12:40:41.389500Z",
     "shell.execute_reply.started": "2020-07-26T12:40:41.369965Z"
    }
   },
   "outputs": [
    {
     "name": "stdout",
     "output_type": "stream",
     "text": [
      "amer\n"
     ]
    }
   ],
   "source": [
    "for i in blocks[\"features\"]:\n",
    "    if i[\"id\"] == \"amer\":\n",
    "        print(i[\"id\"])"
   ]
  },
  {
   "cell_type": "code",
   "execution_count": null,
   "metadata": {},
   "outputs": [],
   "source": []
  }
 ],
 "metadata": {
  "kernelspec": {
   "display_name": "Python [conda env:sih]",
   "language": "python",
   "name": "conda-env-sih-py"
  },
  "language_info": {
   "codemirror_mode": {
    "name": "ipython",
    "version": 3
   },
   "file_extension": ".py",
   "mimetype": "text/x-python",
   "name": "python",
   "nbconvert_exporter": "python",
   "pygments_lexer": "ipython3",
   "version": "3.8.3"
  },
  "widgets": {
   "application/vnd.jupyter.widget-state+json": {
    "state": {},
    "version_major": 2,
    "version_minor": 0
   }
  }
 },
 "nbformat": 4,
 "nbformat_minor": 4
}
