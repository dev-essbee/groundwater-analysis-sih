{
 "cells": [
  {
   "cell_type": "code",
   "execution_count": 1,
   "metadata": {
    "execution": {
     "iopub.execute_input": "2020-07-24T00:35:48.070550Z",
     "iopub.status.busy": "2020-07-24T00:35:48.069842Z",
     "iopub.status.idle": "2020-07-24T00:35:48.079972Z",
     "shell.execute_reply": "2020-07-24T00:35:48.078542Z",
     "shell.execute_reply.started": "2020-07-24T00:35:48.070352Z"
    }
   },
   "outputs": [],
   "source": [
    "import json\n",
    "import pickle\n",
    "import pandas as pd"
   ]
  },
  {
   "cell_type": "code",
   "execution_count": 2,
   "metadata": {
    "execution": {
     "iopub.execute_input": "2020-07-24T00:35:48.876551Z",
     "iopub.status.busy": "2020-07-24T00:35:48.876024Z",
     "iopub.status.idle": "2020-07-24T00:35:49.504878Z",
     "shell.execute_reply": "2020-07-24T00:35:49.504364Z",
     "shell.execute_reply.started": "2020-07-24T00:35:48.876430Z"
    }
   },
   "outputs": [],
   "source": [
    "with open(r'../data/geojson/gadm36_IND_1.json','r') as f:\n",
    "    districts=json.load(f)"
   ]
  },
  {
   "cell_type": "code",
   "execution_count": 3,
   "metadata": {
    "execution": {
     "iopub.execute_input": "2020-07-24T00:35:51.595183Z",
     "iopub.status.busy": "2020-07-24T00:35:51.594848Z",
     "iopub.status.idle": "2020-07-24T00:35:51.603397Z",
     "shell.execute_reply": "2020-07-24T00:35:51.601086Z",
     "shell.execute_reply.started": "2020-07-24T00:35:51.595141Z"
    }
   },
   "outputs": [],
   "source": [
    "for i in districts['features']:\n",
    "    i['id']=i['properties']['NAME_1'].lower()"
   ]
  },
  {
   "cell_type": "code",
   "execution_count": 4,
   "metadata": {
    "execution": {
     "iopub.execute_input": "2020-07-24T00:35:55.136626Z",
     "iopub.status.busy": "2020-07-24T00:35:55.135513Z",
     "iopub.status.idle": "2020-07-24T00:35:57.350734Z",
     "shell.execute_reply": "2020-07-24T00:35:57.349984Z",
     "shell.execute_reply.started": "2020-07-24T00:35:55.136489Z"
    }
   },
   "outputs": [],
   "source": [
    "with open(r'../data/geojson/gadm36_IND_1_id.json','w') as f:\n",
    "    json.dump(districts,f)"
   ]
  },
  {
   "cell_type": "code",
   "execution_count": 22,
   "metadata": {
    "execution": {
     "iopub.execute_input": "2020-07-23T23:02:04.543517Z",
     "iopub.status.busy": "2020-07-23T23:02:04.543190Z",
     "iopub.status.idle": "2020-07-23T23:02:04.610657Z",
     "shell.execute_reply": "2020-07-23T23:02:04.609762Z",
     "shell.execute_reply.started": "2020-07-23T23:02:04.543478Z"
    }
   },
   "outputs": [],
   "source": [
    "with open(r'../data/groundwater-district-monthly.pickle','rb') as f:\n",
    "    df=pickle.load(f)\n",
    "df['district']=df.index"
   ]
  },
  {
   "cell_type": "code",
   "execution_count": 30,
   "metadata": {
    "execution": {
     "iopub.execute_input": "2020-07-23T23:12:09.744944Z",
     "iopub.status.busy": "2020-07-23T23:12:09.743527Z",
     "iopub.status.idle": "2020-07-23T23:12:09.780603Z",
     "shell.execute_reply": "2020-07-23T23:12:09.777667Z",
     "shell.execute_reply.started": "2020-07-23T23:12:09.744738Z"
    }
   },
   "outputs": [
    {
     "ename": "KeyError",
     "evalue": "0",
     "output_type": "error",
     "traceback": [
      "\u001b[0;31m---------------------------------------------------------------------------\u001b[0m",
      "\u001b[0;31mKeyError\u001b[0m                                  Traceback (most recent call last)",
      "\u001b[0;32m<ipython-input-30-bd88f275ebcd>\u001b[0m in \u001b[0;36m<module>\u001b[0;34m\u001b[0m\n\u001b[1;32m      1\u001b[0m \u001b[0;32mfor\u001b[0m \u001b[0mi\u001b[0m \u001b[0;32min\u001b[0m \u001b[0mrange\u001b[0m\u001b[0;34m(\u001b[0m\u001b[0mlen\u001b[0m\u001b[0;34m(\u001b[0m\u001b[0mdistricts\u001b[0m\u001b[0;34m[\u001b[0m\u001b[0;34m'features'\u001b[0m\u001b[0;34m]\u001b[0m\u001b[0;34m)\u001b[0m\u001b[0;34m)\u001b[0m\u001b[0;34m:\u001b[0m\u001b[0;34m\u001b[0m\u001b[0;34m\u001b[0m\u001b[0m\n\u001b[0;32m----> 2\u001b[0;31m     \u001b[0;32mif\u001b[0m \u001b[0mdistricts\u001b[0m\u001b[0;34m[\u001b[0m\u001b[0mi\u001b[0m\u001b[0;34m]\u001b[0m\u001b[0;34m[\u001b[0m\u001b[0;34m'id'\u001b[0m\u001b[0;34m]\u001b[0m \u001b[0;32min\u001b[0m \u001b[0mlist\u001b[0m\u001b[0;34m(\u001b[0m\u001b[0mdf\u001b[0m\u001b[0;34m.\u001b[0m\u001b[0mindex\u001b[0m\u001b[0;34m)\u001b[0m\u001b[0;34m:\u001b[0m\u001b[0;34m\u001b[0m\u001b[0;34m\u001b[0m\u001b[0m\n\u001b[0m\u001b[1;32m      3\u001b[0m         \u001b[0mdistricts\u001b[0m\u001b[0;34m[\u001b[0m\u001b[0mi\u001b[0m\u001b[0;34m]\u001b[0m\u001b[0;34m[\u001b[0m\u001b[0;34m'id'\u001b[0m\u001b[0;34m]\u001b[0m\u001b[0;34m\u001b[0m\u001b[0;34m\u001b[0m\u001b[0m\n\u001b[1;32m      4\u001b[0m         \u001b[0;32mbreak\u001b[0m\u001b[0;34m\u001b[0m\u001b[0;34m\u001b[0m\u001b[0m\n",
      "\u001b[0;31mKeyError\u001b[0m: 0"
     ]
    }
   ],
   "source": [
    "found=[]\n",
    "for i in districts['features']:\n",
    "    if i['id'] in list(df.index):\n",
    "        found.append(i['id'])"
   ]
  },
  {
   "cell_type": "code",
   "execution_count": 28,
   "metadata": {
    "execution": {
     "iopub.execute_input": "2020-07-23T23:04:18.305237Z",
     "iopub.status.busy": "2020-07-23T23:04:18.303582Z",
     "iopub.status.idle": "2020-07-23T23:04:18.327799Z",
     "shell.execute_reply": "2020-07-23T23:04:18.325214Z",
     "shell.execute_reply.started": "2020-07-23T23:04:18.305105Z"
    }
   },
   "outputs": [
    {
     "data": {
      "text/plain": [
       "593"
      ]
     },
     "execution_count": 28,
     "metadata": {},
     "output_type": "execute_result"
    }
   ],
   "source": [
    "len(found)"
   ]
  },
  {
   "cell_type": "code",
   "execution_count": null,
   "metadata": {},
   "outputs": [],
   "source": []
  }
 ],
 "metadata": {
  "kernelspec": {
   "display_name": "Python [conda env:sih]",
   "language": "python",
   "name": "conda-env-sih-py"
  },
  "language_info": {
   "codemirror_mode": {
    "name": "ipython",
    "version": 3
   },
   "file_extension": ".py",
   "mimetype": "text/x-python",
   "name": "python",
   "nbconvert_exporter": "python",
   "pygments_lexer": "ipython3",
   "version": "3.8.4"
  },
  "widgets": {
   "application/vnd.jupyter.widget-state+json": {
    "state": {},
    "version_major": 2,
    "version_minor": 0
   }
  }
 },
 "nbformat": 4,
 "nbformat_minor": 4
}
