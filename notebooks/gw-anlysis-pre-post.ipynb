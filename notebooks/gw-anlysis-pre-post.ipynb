{
 "cells": [
  {
   "cell_type": "code",
   "execution_count": 1,
   "metadata": {
    "execution": {
     "iopub.execute_input": "2020-07-28T09:47:01.443022Z",
     "iopub.status.busy": "2020-07-28T09:47:01.442658Z",
     "iopub.status.idle": "2020-07-28T09:47:02.854917Z",
     "shell.execute_reply": "2020-07-28T09:47:02.853541Z",
     "shell.execute_reply.started": "2020-07-28T09:47:01.442979Z"
    }
   },
   "outputs": [
    {
     "name": "stdout",
     "output_type": "stream",
     "text": [
      "INFO: Pandarallel will run on 4 workers.\n",
      "INFO: Pandarallel will use Memory file system to transfer data between the main process and workers.\n"
     ]
    }
   ],
   "source": [
    "import pandas as pd\n",
    "import glob\n",
    "import numpy as np\n",
    "import re\n",
    "from tqdm.auto import tqdm\n",
    "import pickle\n",
    "from pandarallel import pandarallel\n",
    "import re\n",
    "import plotly.graph_objects as go\n",
    "\n",
    "pandarallel.initialize()"
   ]
  },
  {
   "cell_type": "code",
   "execution_count": 2,
   "metadata": {
    "execution": {
     "iopub.execute_input": "2020-07-28T09:47:02.856150Z",
     "iopub.status.busy": "2020-07-28T09:47:02.855884Z",
     "iopub.status.idle": "2020-07-28T09:47:02.866007Z",
     "shell.execute_reply": "2020-07-28T09:47:02.864924Z",
     "shell.execute_reply.started": "2020-07-28T09:47:02.856117Z"
    }
   },
   "outputs": [],
   "source": [
    "data_in_csv = \"../data/csv/\"\n",
    "data_in_comp = \"../data/comp/\""
   ]
  },
  {
   "cell_type": "code",
   "execution_count": 3,
   "metadata": {
    "execution": {
     "iopub.execute_input": "2020-07-28T09:47:02.867155Z",
     "iopub.status.busy": "2020-07-28T09:47:02.866893Z",
     "iopub.status.idle": "2020-07-28T09:47:06.140231Z",
     "shell.execute_reply": "2020-07-28T09:47:06.139608Z",
     "shell.execute_reply.started": "2020-07-28T09:47:02.867125Z"
    }
   },
   "outputs": [],
   "source": [
    "df_gw_pre_post = pd.read_parquet(data_in_comp + r\"gw-block-pre-post.parquet.gzip\")"
   ]
  },
  {
   "cell_type": "code",
   "execution_count": null,
   "metadata": {},
   "outputs": [],
   "source": []
  }
 ],
 "metadata": {
  "kernelspec": {
   "display_name": "Python [conda env:sih]",
   "language": "python",
   "name": "conda-env-sih-py"
  },
  "language_info": {
   "codemirror_mode": {
    "name": "ipython",
    "version": 3
   },
   "file_extension": ".py",
   "mimetype": "text/x-python",
   "name": "python",
   "nbconvert_exporter": "python",
   "pygments_lexer": "ipython3",
   "version": "3.8.3"
  },
  "widgets": {
   "application/vnd.jupyter.widget-state+json": {
    "state": {},
    "version_major": 2,
    "version_minor": 0
   }
  }
 },
 "nbformat": 4,
 "nbformat_minor": 4
}
