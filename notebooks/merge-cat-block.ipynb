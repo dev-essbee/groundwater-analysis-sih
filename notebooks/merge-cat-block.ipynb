{
 "cells": [
  {
   "cell_type": "code",
   "execution_count": 2,
   "metadata": {
    "execution": {
     "iopub.execute_input": "2020-08-01T05:31:56.999719Z",
     "iopub.status.busy": "2020-08-01T05:31:56.995643Z",
     "iopub.status.idle": "2020-08-01T05:31:57.026367Z",
     "shell.execute_reply": "2020-08-01T05:31:57.025288Z",
     "shell.execute_reply.started": "2020-08-01T05:31:56.999537Z"
    }
   },
   "outputs": [],
   "source": [
    "import json\n",
    "import pandas as pd\n",
    "import glob\n",
    "import numpy as np\n",
    "from tqdm.auto import tqdm"
   ]
  },
  {
   "cell_type": "code",
   "execution_count": 3,
   "metadata": {
    "execution": {
     "iopub.execute_input": "2020-08-01T05:31:57.977779Z",
     "iopub.status.busy": "2020-08-01T05:31:57.975078Z",
     "iopub.status.idle": "2020-08-01T05:31:57.994661Z",
     "shell.execute_reply": "2020-08-01T05:31:57.991359Z",
     "shell.execute_reply.started": "2020-08-01T05:31:57.977587Z"
    }
   },
   "outputs": [],
   "source": [
    "data_in = \"../../sih-raw-data/geojson/geojson-cat-blocks/\"\n",
    "data_out = \"../data/geojson/\""
   ]
  },
  {
   "cell_type": "code",
   "execution_count": 3,
   "metadata": {
    "execution": {
     "iopub.execute_input": "2020-08-01T04:56:00.076598Z",
     "iopub.status.busy": "2020-08-01T04:56:00.076252Z",
     "iopub.status.idle": "2020-08-01T04:56:14.228860Z",
     "shell.execute_reply": "2020-08-01T04:56:14.226653Z",
     "shell.execute_reply.started": "2020-08-01T04:56:00.076561Z"
    }
   },
   "outputs": [
    {
     "data": {
      "application/vnd.jupyter.widget-view+json": {
       "model_id": "8fdf950275fe45e1acedbe7ffa47043f",
       "version_major": 2,
       "version_minor": 0
      },
      "text/plain": [
       "HBox(children=(FloatProgress(value=0.0, max=3497.0), HTML(value='')))"
      ]
     },
     "metadata": {},
     "output_type": "display_data"
    },
    {
     "name": "stdout",
     "output_type": "stream",
     "text": [
      "\n"
     ]
    }
   ],
   "source": [
    "first = True\n",
    "compiled_json = \"\"\n",
    "for f in tqdm(glob.glob(data_in + \"/*\")[:]):\n",
    "    with open(f) as file:\n",
    "        block_cat_json = json.load(file)\n",
    "    for i in block_cat_json[\"features\"]:\n",
    "        i[\"id\"] = f.split(\"/\")[-1].split(\".\")[0]\n",
    "    if first:\n",
    "        compiled_json = block_cat_json\n",
    "        first = False\n",
    "    else:\n",
    "        compiled_json[\"features\"].append(block_cat_json[\"features\"][0])\n",
    "    #     if not first:\n",
    "    # #         print(compiled_json, first)\n",
    "    #         break\n",
    "with open(\"../data/compiled_cat_block_id.json\", \"w\") as out:\n",
    "    json.dump(compiled_json, out)"
   ]
  },
  {
   "cell_type": "markdown",
   "metadata": {
    "collapsed": "true"
   },
   "source": [
    "### Encode categories"
   ]
  },
  {
   "cell_type": "code",
   "execution_count": 4,
   "metadata": {
    "execution": {
     "iopub.execute_input": "2020-08-01T05:32:01.809870Z",
     "iopub.status.busy": "2020-08-01T05:32:01.809452Z",
     "iopub.status.idle": "2020-08-01T05:32:01.903408Z",
     "shell.execute_reply": "2020-08-01T05:32:01.901038Z",
     "shell.execute_reply.started": "2020-08-01T05:32:01.809820Z"
    }
   },
   "outputs": [],
   "source": [
    "df_cat = pd.read_parquet(r\"../data/comp/categories.parquet.gzip\")"
   ]
  },
  {
   "cell_type": "code",
   "execution_count": 5,
   "metadata": {
    "execution": {
     "iopub.execute_input": "2020-08-01T05:32:02.826493Z",
     "iopub.status.busy": "2020-08-01T05:32:02.826120Z",
     "iopub.status.idle": "2020-08-01T05:32:02.838659Z",
     "shell.execute_reply": "2020-08-01T05:32:02.837725Z",
     "shell.execute_reply.started": "2020-08-01T05:32:02.826449Z"
    }
   },
   "outputs": [
    {
     "data": {
      "text/plain": [
       "array(['safe', 'saline', 'over_exploited', 'semi-critical', 'critical',\n",
       "       'over-exploited', 's afe'], dtype=object)"
      ]
     },
     "execution_count": 5,
     "metadata": {},
     "output_type": "execute_result"
    }
   ],
   "source": [
    "df_cat.loc[:,'category'].unique()"
   ]
  },
  {
   "cell_type": "code",
   "execution_count": 6,
   "metadata": {
    "execution": {
     "iopub.execute_input": "2020-08-01T05:32:04.935643Z",
     "iopub.status.busy": "2020-08-01T05:32:04.935227Z",
     "iopub.status.idle": "2020-08-01T05:32:04.950503Z",
     "shell.execute_reply": "2020-08-01T05:32:04.949405Z",
     "shell.execute_reply.started": "2020-08-01T05:32:04.935594Z"
    }
   },
   "outputs": [],
   "source": [
    "df_cat=df_cat.replace({'over_exploited':'over-expoilted','s afe':'safe'})"
   ]
  },
  {
   "cell_type": "code",
   "execution_count": 7,
   "metadata": {
    "execution": {
     "iopub.execute_input": "2020-08-01T05:32:05.703439Z",
     "iopub.status.busy": "2020-08-01T05:32:05.703118Z",
     "iopub.status.idle": "2020-08-01T05:32:05.716176Z",
     "shell.execute_reply": "2020-08-01T05:32:05.715190Z",
     "shell.execute_reply.started": "2020-08-01T05:32:05.703400Z"
    }
   },
   "outputs": [],
   "source": [
    "categories=list(df_cat.loc[:,'category'].unique())"
   ]
  },
  {
   "cell_type": "code",
   "execution_count": 8,
   "metadata": {
    "execution": {
     "iopub.execute_input": "2020-08-01T05:32:06.449620Z",
     "iopub.status.busy": "2020-08-01T05:32:06.449220Z",
     "iopub.status.idle": "2020-08-01T05:32:06.458577Z",
     "shell.execute_reply": "2020-08-01T05:32:06.455868Z",
     "shell.execute_reply.started": "2020-08-01T05:32:06.449557Z"
    }
   },
   "outputs": [],
   "source": [
    "encode_cat={categories[i]:i for i in range(len(categories))}"
   ]
  },
  {
   "cell_type": "code",
   "execution_count": 9,
   "metadata": {
    "execution": {
     "iopub.execute_input": "2020-08-01T05:32:07.179336Z",
     "iopub.status.busy": "2020-08-01T05:32:07.178815Z",
     "iopub.status.idle": "2020-08-01T05:32:07.188780Z",
     "shell.execute_reply": "2020-08-01T05:32:07.187808Z",
     "shell.execute_reply.started": "2020-08-01T05:32:07.179268Z"
    }
   },
   "outputs": [
    {
     "data": {
      "text/plain": [
       "{'safe': 0,\n",
       " 'saline': 1,\n",
       " 'over-expoilted': 2,\n",
       " 'semi-critical': 3,\n",
       " 'critical': 4,\n",
       " 'over-exploited': 5}"
      ]
     },
     "execution_count": 9,
     "metadata": {},
     "output_type": "execute_result"
    }
   ],
   "source": [
    "encode_cat"
   ]
  },
  {
   "cell_type": "code",
   "execution_count": 10,
   "metadata": {
    "execution": {
     "iopub.execute_input": "2020-08-01T05:32:09.441501Z",
     "iopub.status.busy": "2020-08-01T05:32:09.441173Z",
     "iopub.status.idle": "2020-08-01T05:32:09.455380Z",
     "shell.execute_reply": "2020-08-01T05:32:09.454672Z",
     "shell.execute_reply.started": "2020-08-01T05:32:09.441463Z"
    }
   },
   "outputs": [],
   "source": [
    "df_cat['cat_val']=df_cat['category'].replace(encode_cat)"
   ]
  },
  {
   "cell_type": "code",
   "execution_count": 11,
   "metadata": {
    "execution": {
     "iopub.execute_input": "2020-08-01T05:32:10.139834Z",
     "iopub.status.busy": "2020-08-01T05:32:10.139364Z",
     "iopub.status.idle": "2020-08-01T05:32:10.158070Z",
     "shell.execute_reply": "2020-08-01T05:32:10.156930Z",
     "shell.execute_reply.started": "2020-08-01T05:32:10.139770Z"
    }
   },
   "outputs": [
    {
     "data": {
      "text/html": [
       "<div>\n",
       "<style scoped>\n",
       "    .dataframe tbody tr th:only-of-type {\n",
       "        vertical-align: middle;\n",
       "    }\n",
       "\n",
       "    .dataframe tbody tr th {\n",
       "        vertical-align: top;\n",
       "    }\n",
       "\n",
       "    .dataframe thead th {\n",
       "        text-align: right;\n",
       "    }\n",
       "</style>\n",
       "<table border=\"1\" class=\"dataframe\">\n",
       "  <thead>\n",
       "    <tr style=\"text-align: right;\">\n",
       "      <th></th>\n",
       "      <th>state</th>\n",
       "      <th>district</th>\n",
       "      <th>block</th>\n",
       "      <th>category</th>\n",
       "      <th>cat_val</th>\n",
       "    </tr>\n",
       "  </thead>\n",
       "  <tbody>\n",
       "    <tr>\n",
       "      <th>0</th>\n",
       "      <td>andaman &amp; nicobar</td>\n",
       "      <td>n &amp; m andaman</td>\n",
       "      <td>porlob island</td>\n",
       "      <td>safe</td>\n",
       "      <td>0</td>\n",
       "    </tr>\n",
       "    <tr>\n",
       "      <th>1</th>\n",
       "      <td>andaman &amp; nicobar</td>\n",
       "      <td>n &amp; m andaman</td>\n",
       "      <td>north passage island</td>\n",
       "      <td>safe</td>\n",
       "      <td>0</td>\n",
       "    </tr>\n",
       "    <tr>\n",
       "      <th>2</th>\n",
       "      <td>andaman &amp; nicobar</td>\n",
       "      <td>n &amp; m andaman</td>\n",
       "      <td>interview island</td>\n",
       "      <td>safe</td>\n",
       "      <td>0</td>\n",
       "    </tr>\n",
       "    <tr>\n",
       "      <th>3</th>\n",
       "      <td>andaman &amp; nicobar</td>\n",
       "      <td>n &amp; m andaman</td>\n",
       "      <td>stewart island</td>\n",
       "      <td>safe</td>\n",
       "      <td>0</td>\n",
       "    </tr>\n",
       "    <tr>\n",
       "      <th>4</th>\n",
       "      <td>andaman &amp; nicobar</td>\n",
       "      <td>n &amp; m andaman</td>\n",
       "      <td>narcondam island</td>\n",
       "      <td>safe</td>\n",
       "      <td>0</td>\n",
       "    </tr>\n",
       "  </tbody>\n",
       "</table>\n",
       "</div>"
      ],
      "text/plain": [
       "               state       district                 block category  cat_val\n",
       "0  andaman & nicobar  n & m andaman         porlob island     safe        0\n",
       "1  andaman & nicobar  n & m andaman  north passage island     safe        0\n",
       "2  andaman & nicobar  n & m andaman      interview island     safe        0\n",
       "3  andaman & nicobar  n & m andaman        stewart island     safe        0\n",
       "4  andaman & nicobar  n & m andaman      narcondam island     safe        0"
      ]
     },
     "execution_count": 11,
     "metadata": {},
     "output_type": "execute_result"
    }
   ],
   "source": [
    "df_cat.head()"
   ]
  },
  {
   "cell_type": "code",
   "execution_count": 12,
   "metadata": {
    "execution": {
     "iopub.execute_input": "2020-08-01T05:33:15.843247Z",
     "iopub.status.busy": "2020-08-01T05:33:15.842837Z",
     "iopub.status.idle": "2020-08-01T05:33:16.251052Z",
     "shell.execute_reply": "2020-08-01T05:33:16.250263Z",
     "shell.execute_reply.started": "2020-08-01T05:33:15.843199Z"
    }
   },
   "outputs": [],
   "source": [
    "df_cat.to_csv(r'../data/csv/categories.csv',index=False)\n",
    "df_cat.to_parquet(r'../data/comp/categories.parquet.gzip',compression='gzip',index=False)"
   ]
  },
  {
   "cell_type": "markdown",
   "metadata": {},
   "source": [
    "### Remove point values"
   ]
  },
  {
   "cell_type": "code",
   "execution_count": 4,
   "metadata": {
    "execution": {
     "iopub.execute_input": "2020-08-01T04:06:17.326939Z",
     "iopub.status.busy": "2020-08-01T04:06:17.326440Z",
     "iopub.status.idle": "2020-08-01T04:06:17.654362Z",
     "shell.execute_reply": "2020-08-01T04:06:17.650478Z",
     "shell.execute_reply.started": "2020-08-01T04:06:17.326877Z"
    }
   },
   "outputs": [],
   "source": [
    "df = pd.read_csv(r\"../data/blocks_not_found_categories.csv\")"
   ]
  },
  {
   "cell_type": "code",
   "execution_count": 6,
   "metadata": {
    "execution": {
     "iopub.execute_input": "2020-08-01T04:06:35.595613Z",
     "iopub.status.busy": "2020-08-01T04:06:35.595193Z",
     "iopub.status.idle": "2020-08-01T04:06:42.630273Z",
     "shell.execute_reply": "2020-08-01T04:06:42.629378Z",
     "shell.execute_reply.started": "2020-08-01T04:06:35.595560Z"
    }
   },
   "outputs": [
    {
     "data": {
      "application/vnd.jupyter.widget-view+json": {
       "model_id": "29a694cd6a0447ccb12adf3d32b7ed95",
       "version_major": 2,
       "version_minor": 0
      },
      "text/plain": [
       "HBox(children=(FloatProgress(value=0.0, max=4601.0), HTML(value='')))"
      ]
     },
     "metadata": {},
     "output_type": "display_data"
    },
    {
     "name": "stdout",
     "output_type": "stream",
     "text": [
      "\n"
     ]
    }
   ],
   "source": [
    "import shutil\n",
    "\n",
    "first = True\n",
    "poly = []\n",
    "compiled_json = \"\"\n",
    "for f in tqdm(glob.glob(data_in + \"/*\")):\n",
    "    with open(f) as file:\n",
    "        block_cat_json = json.load(file)\n",
    "    if block_cat_json[\"features\"][0][\"geometry\"][\"type\"] == \"Point\":\n",
    "        poly.append(f.split(\"/\")[-1])\n",
    "        df = df.append(\n",
    "            df_cat[\n",
    "                df_cat[\"block\"] == f.split(\"/\")[-1].split(\".\")[0].strip()\n",
    "            ].loc[:, [\"state\", \"block\"]],\n",
    "            ignore_index=True,\n",
    "        )\n",
    "        shutil.move(\n",
    "            f,\n",
    "            \"../../sih-raw-data/geojson/geojson-cat-blocks-point/\"\n",
    "            + f.split(\"/\")[-1],\n",
    "        )"
   ]
  },
  {
   "cell_type": "code",
   "execution_count": 12,
   "metadata": {
    "execution": {
     "iopub.execute_input": "2020-08-01T04:15:21.952157Z",
     "iopub.status.busy": "2020-08-01T04:15:21.951631Z",
     "iopub.status.idle": "2020-08-01T04:15:21.964250Z",
     "shell.execute_reply": "2020-08-01T04:15:21.963307Z",
     "shell.execute_reply.started": "2020-08-01T04:15:21.952081Z"
    }
   },
   "outputs": [
    {
     "data": {
      "text/plain": [
       "(4351, 3)"
      ]
     },
     "execution_count": 12,
     "metadata": {},
     "output_type": "execute_result"
    }
   ],
   "source": [
    "df.shape"
   ]
  },
  {
   "cell_type": "code",
   "execution_count": 13,
   "metadata": {
    "execution": {
     "iopub.execute_input": "2020-08-01T04:15:40.890349Z",
     "iopub.status.busy": "2020-08-01T04:15:40.889435Z",
     "iopub.status.idle": "2020-08-01T04:15:40.955784Z",
     "shell.execute_reply": "2020-08-01T04:15:40.954655Z",
     "shell.execute_reply.started": "2020-08-01T04:15:40.890241Z"
    }
   },
   "outputs": [],
   "source": [
    "df.to_csv(r\"../data/blocks_not_found_categories.csv\", index=False)"
   ]
  },
  {
   "cell_type": "markdown",
   "metadata": {},
   "source": [
    "### Process"
   ]
  },
  {
   "cell_type": "code",
   "execution_count": 27,
   "metadata": {
    "execution": {
     "iopub.execute_input": "2020-08-01T01:21:34.688151Z",
     "iopub.status.busy": "2020-08-01T01:21:34.687819Z",
     "iopub.status.idle": "2020-08-01T01:21:37.363293Z",
     "shell.execute_reply": "2020-08-01T01:21:37.361982Z",
     "shell.execute_reply.started": "2020-08-01T01:21:34.688109Z"
    }
   },
   "outputs": [
    {
     "data": {
      "application/vnd.jupyter.widget-view+json": {
       "model_id": "a9d9e402d05b40d3ad59cc2c1bb0a5b0",
       "version_major": 2,
       "version_minor": 0
      },
      "text/plain": [
       "HBox(children=(FloatProgress(value=0.0, max=3497.0), HTML(value='')))"
      ]
     },
     "metadata": {},
     "output_type": "display_data"
    },
    {
     "name": "stdout",
     "output_type": "stream",
     "text": [
      "\n"
     ]
    }
   ],
   "source": [
    "geometry_types = []\n",
    "for f in tqdm(glob.glob(data_in + \"/*\")):\n",
    "    with open(f) as file:\n",
    "        block_cat_json = json.load(file)\n",
    "    geometry_types.append(block_cat_json[\"features\"][0][\"geometry\"][\"type\"])"
   ]
  },
  {
   "cell_type": "code",
   "execution_count": 28,
   "metadata": {
    "execution": {
     "iopub.execute_input": "2020-08-01T01:21:43.950645Z",
     "iopub.status.busy": "2020-08-01T01:21:43.949869Z",
     "iopub.status.idle": "2020-08-01T01:21:43.966515Z",
     "shell.execute_reply": "2020-08-01T01:21:43.963320Z",
     "shell.execute_reply.started": "2020-08-01T01:21:43.950554Z"
    }
   },
   "outputs": [
    {
     "data": {
      "text/plain": [
       "['MultiPolygon', 'Polygon']"
      ]
     },
     "execution_count": 28,
     "metadata": {},
     "output_type": "execute_result"
    }
   ],
   "source": [
    "list(set(geometry_types))"
   ]
  },
  {
   "cell_type": "code",
   "execution_count": null,
   "metadata": {},
   "outputs": [],
   "source": []
  }
 ],
 "metadata": {
  "kernelspec": {
   "display_name": "Python [conda env:sih]",
   "language": "python",
   "name": "conda-env-sih-py"
  },
  "language_info": {
   "codemirror_mode": {
    "name": "ipython",
    "version": 3
   },
   "file_extension": ".py",
   "mimetype": "text/x-python",
   "name": "python",
   "nbconvert_exporter": "python",
   "pygments_lexer": "ipython3",
   "version": "3.8.3"
  },
  "widgets": {
   "application/vnd.jupyter.widget-state+json": {
    "state": {},
    "version_major": 2,
    "version_minor": 0
   }
  }
 },
 "nbformat": 4,
 "nbformat_minor": 4
}
