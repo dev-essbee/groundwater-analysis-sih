{
 "cells": [
  {
   "cell_type": "code",
   "execution_count": 1,
   "metadata": {
    "execution": {
     "iopub.execute_input": "2020-07-25T08:28:58.371765Z",
     "iopub.status.busy": "2020-07-25T08:28:58.371392Z",
     "iopub.status.idle": "2020-07-25T08:28:58.376075Z",
     "shell.execute_reply": "2020-07-25T08:28:58.375121Z",
     "shell.execute_reply.started": "2020-07-25T08:28:58.371716Z"
    }
   },
   "outputs": [],
   "source": [
    "import pandas as pd"
   ]
  },
  {
   "cell_type": "code",
   "execution_count": 2,
   "metadata": {
    "execution": {
     "iopub.execute_input": "2020-07-25T08:29:24.291719Z",
     "iopub.status.busy": "2020-07-25T08:29:24.291217Z",
     "iopub.status.idle": "2020-07-25T08:29:24.296823Z",
     "shell.execute_reply": "2020-07-25T08:29:24.295608Z",
     "shell.execute_reply.started": "2020-07-25T08:29:24.291657Z"
    }
   },
   "outputs": [],
   "source": [
    "data_folder=r'../data/'"
   ]
  },
  {
   "cell_type": "code",
   "execution_count": 4,
   "metadata": {
    "execution": {
     "iopub.execute_input": "2020-07-25T08:29:53.933553Z",
     "iopub.status.busy": "2020-07-25T08:29:53.933245Z",
     "iopub.status.idle": "2020-07-25T08:29:54.019207Z",
     "shell.execute_reply": "2020-07-25T08:29:54.009754Z",
     "shell.execute_reply.started": "2020-07-25T08:29:53.933515Z"
    }
   },
   "outputs": [],
   "source": [
    "df=pd.read_parquet(data_folder+r'gw-district-monthly.parquet.gzip')"
   ]
  },
  {
   "cell_type": "code",
   "execution_count": null,
   "metadata": {},
   "outputs": [],
   "source": [
    "# df.to_parquet('df.parquet.gzip',\n",
    "#               compression='gzip')"
   ]
  }
 ],
 "metadata": {
  "kernelspec": {
   "display_name": "Python [conda env:sih]",
   "language": "python",
   "name": "conda-env-sih-py"
  },
  "language_info": {
   "codemirror_mode": {
    "name": "ipython",
    "version": 3
   },
   "file_extension": ".py",
   "mimetype": "text/x-python",
   "name": "python",
   "nbconvert_exporter": "python",
   "pygments_lexer": "ipython3",
   "version": "3.8.4"
  },
  "widgets": {
   "application/vnd.jupyter.widget-state+json": {
    "state": {},
    "version_major": 2,
    "version_minor": 0
   }
  }
 },
 "nbformat": 4,
 "nbformat_minor": 4
}
