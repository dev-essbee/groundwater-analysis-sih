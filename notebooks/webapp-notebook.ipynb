{
 "cells": [
  {
   "cell_type": "code",
   "execution_count": 1,
   "metadata": {
    "execution": {
     "iopub.execute_input": "2020-07-24T13:26:48.584057Z",
     "iopub.status.busy": "2020-07-24T13:26:48.583399Z",
     "iopub.status.idle": "2020-07-24T13:26:48.756630Z",
     "shell.execute_reply": "2020-07-24T13:26:48.756049Z",
     "shell.execute_reply.started": "2020-07-24T13:26:48.583991Z"
    }
   },
   "outputs": [],
   "source": [
    "from jupyter_dash import JupyterDash"
   ]
  },
  {
   "cell_type": "code",
   "execution_count": 2,
   "metadata": {
    "execution": {
     "iopub.execute_input": "2020-07-24T13:26:49.674413Z",
     "iopub.status.busy": "2020-07-24T13:26:49.674107Z",
     "iopub.status.idle": "2020-07-24T13:26:49.792314Z",
     "shell.execute_reply": "2020-07-24T13:26:49.791436Z",
     "shell.execute_reply.started": "2020-07-24T13:26:49.674379Z"
    }
   },
   "outputs": [],
   "source": [
    "import dash\n",
    "import dash_core_components as dcc\n",
    "import dash_html_components as html\n",
    "import pandas as pd\n",
    "import plotly.graph_objects as go\n",
    "import pickle\n",
    "import numpy as np\n",
    "import json\n",
    "from urllib.request import urlopen"
   ]
  },
  {
   "cell_type": "code",
   "execution_count": 3,
   "metadata": {
    "execution": {
     "iopub.execute_input": "2020-07-24T13:26:56.330716Z",
     "iopub.status.busy": "2020-07-24T13:26:56.330432Z",
     "iopub.status.idle": "2020-07-24T13:26:56.433692Z",
     "shell.execute_reply": "2020-07-24T13:26:56.431880Z",
     "shell.execute_reply.started": "2020-07-24T13:26:56.330684Z"
    }
   },
   "outputs": [],
   "source": [
    "with open(r'../data/groundwater-district-monthly.pickle','rb') as f:\n",
    "    df=pickle.load(f)"
   ]
  },
  {
   "cell_type": "code",
   "execution_count": 9,
   "metadata": {
    "execution": {
     "iopub.execute_input": "2020-07-24T13:28:25.864917Z",
     "iopub.status.busy": "2020-07-24T13:28:25.864566Z",
     "iopub.status.idle": "2020-07-24T13:28:25.874036Z",
     "shell.execute_reply": "2020-07-24T13:28:25.873226Z",
     "shell.execute_reply.started": "2020-07-24T13:28:25.864877Z"
    }
   },
   "outputs": [
    {
     "data": {
      "text/plain": [
       "'2020-07'"
      ]
     },
     "execution_count": 9,
     "metadata": {},
     "output_type": "execute_result"
    }
   ],
   "source": [
    "list(df.columns)[:-2][-1]"
   ]
  },
  {
   "cell_type": "code",
   "execution_count": 4,
   "metadata": {
    "execution": {
     "iopub.execute_input": "2020-07-24T00:17:40.673578Z",
     "iopub.status.busy": "2020-07-24T00:17:40.673234Z",
     "iopub.status.idle": "2020-07-24T00:17:41.552609Z",
     "shell.execute_reply": "2020-07-24T00:17:41.552168Z",
     "shell.execute_reply.started": "2020-07-24T00:17:40.673539Z"
    }
   },
   "outputs": [],
   "source": [
    "with open(r'../data/geojson/gadm36_IND_2_id.json','r') as f:\n",
    "    districts=json.load(f)"
   ]
  },
  {
   "cell_type": "code",
   "execution_count": null,
   "metadata": {},
   "outputs": [],
   "source": []
  },
  {
   "cell_type": "code",
   "execution_count": 5,
   "metadata": {
    "execution": {
     "iopub.execute_input": "2020-07-24T00:17:47.434180Z",
     "iopub.status.busy": "2020-07-24T00:17:47.433026Z",
     "iopub.status.idle": "2020-07-24T00:17:47.458964Z",
     "shell.execute_reply": "2020-07-24T00:17:47.458068Z",
     "shell.execute_reply.started": "2020-07-24T00:17:47.434071Z"
    }
   },
   "outputs": [],
   "source": [
    "external_stylesheets = [\"https://codepen.io/chriddyp/pen/bWLwgP.css\"]\n",
    "app = JupyterDash(__name__, external_stylesheets=external_stylesheets)\n",
    "# Create server variable with Flask server object for use with gunicorn\n",
    "server = app.server"
   ]
  },
  {
   "cell_type": "code",
   "execution_count": 7,
   "metadata": {
    "execution": {
     "iopub.execute_input": "2020-07-24T00:18:06.665001Z",
     "iopub.status.busy": "2020-07-24T00:18:06.664655Z",
     "iopub.status.idle": "2020-07-24T00:18:14.043237Z",
     "shell.execute_reply": "2020-07-24T00:18:14.042395Z",
     "shell.execute_reply.started": "2020-07-24T00:18:06.664957Z"
    }
   },
   "outputs": [],
   "source": [
    "fig_map = go.Figure(\n",
    "    go.Choroplethmapbox(\n",
    "        geojson=districts,\n",
    "        locations=df['district'].astype(str),\n",
    "        z=df['2020-06'].astype(float),\n",
    "        colorscale=\"Viridis\",\n",
    "        zmin=0,\n",
    "        zmax=12,\n",
    "        marker_opacity=0.5,\n",
    "        marker_line_width=0,\n",
    "    )\n",
    ")\n",
    "fig_map.update_layout(\n",
    "    mapbox_style=\"carto-positron\",\n",
    "    mapbox_zoom=3,\n",
    "    mapbox_center={\"lat\": 26.9124, \"lon\": 75.7873},\n",
    ")\n",
    "fig_map.update_layout(margin={\"r\": 0, \"t\": 0, \"l\": 0, \"b\": 0})\n",
    "\n",
    "# ui\n",
    "app.layout = html.Div(\n",
    "    children=[\n",
    "        # Heading of the webapp\n",
    "        html.H3(children=\"Groundwater Analysis and Management for India\"),\n",
    "        # Map\n",
    "        dcc.Graph(id=\"main-map\", figure=fig_map),\n",
    "    ]\n",
    ")"
   ]
  },
  {
   "cell_type": "code",
   "execution_count": 8,
   "metadata": {
    "execution": {
     "iopub.execute_input": "2020-07-24T00:18:17.554757Z",
     "iopub.status.busy": "2020-07-24T00:18:17.554274Z",
     "iopub.status.idle": "2020-07-24T00:18:17.579771Z",
     "shell.execute_reply": "2020-07-24T00:18:17.578700Z",
     "shell.execute_reply.started": "2020-07-24T00:18:17.554699Z"
    }
   },
   "outputs": [],
   "source": [
    "app.run_server(mode=\"jupyterlab\")"
   ]
  },
  {
   "cell_type": "code",
   "execution_count": 9,
   "metadata": {
    "execution": {
     "iopub.execute_input": "2020-07-24T00:18:27.927071Z",
     "iopub.status.busy": "2020-07-24T00:18:27.926852Z",
     "iopub.status.idle": "2020-07-24T00:18:27.969547Z",
     "shell.execute_reply": "2020-07-24T00:18:27.968685Z",
     "shell.execute_reply.started": "2020-07-24T00:18:27.927046Z"
    }
   },
   "outputs": [
    {
     "name": "stdout",
     "output_type": "stream",
     "text": [
      "Dash app running on http://localhost:8050/\n"
     ]
    }
   ],
   "source": [
    "app.run_server()"
   ]
  },
  {
   "cell_type": "code",
   "execution_count": null,
   "metadata": {},
   "outputs": [],
   "source": []
  }
 ],
 "metadata": {
  "kernelspec": {
   "display_name": "Python [conda env:sih]",
   "language": "python",
   "name": "conda-env-sih-py"
  },
  "language_info": {
   "codemirror_mode": {
    "name": "ipython",
    "version": 3
   },
   "file_extension": ".py",
   "mimetype": "text/x-python",
   "name": "python",
   "nbconvert_exporter": "python",
   "pygments_lexer": "ipython3",
   "version": "3.8.4"
  },
  "widgets": {
   "application/vnd.jupyter.widget-state+json": {
    "state": {},
    "version_major": 2,
    "version_minor": 0
   }
  }
 },
 "nbformat": 4,
 "nbformat_minor": 4
}
